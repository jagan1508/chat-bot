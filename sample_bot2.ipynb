{
 "cells": [
  {
   "cell_type": "code",
   "execution_count": 1,
   "metadata": {},
   "outputs": [],
   "source": [
    "from langchain_community.utilities import SQLDatabase\n",
    "import pymysql\n",
    "from langchain_community.utilities import SQLDatabase\n",
    "from typing import Any\n",
    "from langchain_core.runnables import RunnableWithFallbacks, RunnableLambda\n",
    "from langchain_core.messages import ToolMessage\n",
    "from langgraph.prebuilt import ToolNode\n",
    "from langchain_community.agent_toolkits import SQLDatabaseToolkit\n",
    "from langchain_core.tools import tool\n",
    "from pydantic import BaseModel, Field\n",
    "from langchain_groq import ChatGroq\n",
    "from langchain_core.prompts import ChatPromptTemplate"
   ]
  },
  {
   "cell_type": "code",
   "execution_count": 2,
   "metadata": {},
   "outputs": [],
   "source": [
    "import getpass\n",
    "import os\n",
    "\n",
    "from dotenv import load_dotenv\n",
    "\n",
    "load_dotenv()\n",
    "\n",
    "def set_env(key: str):\n",
    "  if key not in os.environ:\n",
    "    os.environ[key]=getpass.getpass(f\"{key}:\")\n",
    "set_env(\"GROQ_API_KEY\")\n",
    "set_env(\"LANGCHAIN_API_KEY\")\n",
    "os.environ[\"LANGCHAIN_TRACING_V2\"]=\"true\"\n",
    "os.environ[\"LANGCHAIN_PROJECT\"]=\"llm-agent-sql-2\""
   ]
  },
  {
   "cell_type": "code",
   "execution_count": 3,
   "metadata": {},
   "outputs": [],
   "source": [
    "username = \"root\"\n",
    "password = \"jagan2911\"\n",
    "host = 'localhost'\n",
    "database = 'jagandb'"
   ]
  },
  {
   "cell_type": "code",
   "execution_count": 4,
   "metadata": {},
   "outputs": [
    {
     "name": "stdout",
     "output_type": "stream",
     "text": [
      "mysql\n",
      "['employee']\n"
     ]
    }
   ],
   "source": [
    "db = SQLDatabase.from_uri(f\"mysql+pymysql://{username}:{password}@{host}/{database}\",sample_rows_in_table_info = 3)\n",
    "print(db.dialect)\n",
    "print(db.get_usable_table_names())"
   ]
  },
  {
   "cell_type": "code",
   "execution_count": 5,
   "metadata": {},
   "outputs": [],
   "source": [
    "from pydantic import BaseModel, Field\n",
    "from typing import List, Any, Dict"
   ]
  },
  {
   "cell_type": "code",
   "execution_count": 6,
   "metadata": {},
   "outputs": [],
   "source": [
    "class Query(BaseModel):\n",
    "    statement: str = Field(description=\"The SQL query to execute\")\n",
    "    reasoning: str = Field(description=\"Reasoning behind the query\")\n",
    "    is_valid: bool = Field(True,description=\"Indicates if the statement is valid\")\n",
    "    result: str = Field(\"\",description=\"query result\")\n",
    "    error: str = Field(\"\",description=\"Error message if applicable\")\n",
    "    \n",
    "    @property\n",
    "    def info(self) -> str:\n",
    "        return (f\"SQL query:\\n{self.statement}\\n\\n\"\n",
    "    f\"The reasoning you used to create that query was:\\n{self.reasoning}\\n\\n\"\n",
    "    f\"And this is the result you get:\\n{self.result}\")\n",
    "    @property\n",
    "    def error_info(self) -> str:\n",
    "        return(f\"Wrong SQL query:\\n{self.statement}\\n\\n\"\n",
    "    f\"The reasoning you used to create that query was:\\n{self.reasoning}\\n\\n\"\n",
    "    f\"And this is the error you got when excuted it: {self.error}\")\n",
    "    \n",
    "    "
   ]
  },
  {
   "cell_type": "markdown",
   "metadata": {},
   "source": [
    "## Prompts"
   ]
  },
  {
   "cell_type": "code",
   "execution_count": 366,
   "metadata": {},
   "outputs": [],
   "source": [
    "SELECT_RELEVANT_TABLES_INSTRUCTION = \"\"\"\n",
    "You are a SQL expert .You need to identify relevant tables from a SQL database to answer the user’s question.  \n",
    "Available tables: {table_names}  \n",
    "Return a list of the relevant tables. If none are relevant, return an empty list.  \n",
    "Only return the list—no explanations.\n",
    "\n",
    "Examples:  \n",
    "User Question: \"What are the total sales for the last month?\"  \n",
    "Available Tables: [\"users\", \"orders\", \"products\", \"inventory\", \"sales\"]  \n",
    "Response: [\"sales\"]  \n",
    "\n",
    "User Question: \"Show me the list of employees in the HR department.\"  \n",
    "Available Tables: [\"users\", \"orders\", \"employees\", \"departments\"]  \n",
    "Response: [\"employees\", \"departments\"]  \n",
    "\n",
    "User Question: \"How many visitors accessed the website last week?\"  \n",
    "Available Tables: [\"users\", \"orders\", \"products\"]  \n",
    "Response: []  \n",
    "\"\"\"\n",
    "\n",
    "\n",
    "\n",
    "GENERAL_QUERY_INSTRUCTIONS = \"\"\"\n",
    "When generating the query:\n",
    "\n",
    "- Output a SQL query that answers the input question without making a tool call.\n",
    "- You may order the results by a relevant column to highlight the most significant examples from the database.\n",
    "- Never select all columns from a table; only query the columns that are relevant to the question.\n",
    "- DO NOT include any DML statements (INSERT, UPDATE, DELETE, DROP, etc.) in your query.\n",
    "\n",
    "In addition to providing the SQLite query, include a brief explanation of your reasoning for constructing the query.\n",
    "\"\"\"\n",
    "\n",
    "\n",
    "\n",
    "GENERATE_QUERY_INSTRUCTIONS = \"\"\"\n",
    "You are a SQL expert with strong attention to detail.\n",
    "Below is the information you have about the database, including the table schema and some row examples:\n",
    "\n",
    "{info}\n",
    "\n",
    "Please create a syntactically correct SQLite query to answer the user question below.\n",
    "\"\"\" + GENERAL_QUERY_INSTRUCTIONS\n",
    "\n",
    "\n",
    "FIX_QUERY_INSTRUCTIONS = \"\"\"\n",
    "You are a SQL expert with strong attention to detail.\n",
    "Below is the information you have about the database, including the table schema and some row examples:\n",
    "\n",
    "{info}\n",
    "\n",
    "You executed a query to answer a user question, but an error occurred. Here is the error information:\n",
    "{error_info}\n",
    "\n",
    "Please fix the query or create a new, syntactically correct SQLite query to answer the user question.\n",
    "\"\"\" + GENERAL_QUERY_INSTRUCTIONS\n",
    "\n",
    "\n",
    "\n",
    "QUERY_CHECK_INSTRUCTION = \"\"\"\n",
    "You are a SQL expert with strong attention to detail.\n",
    "Below is a SQLite query statement along with a brief explanation of its construction.\n",
    "Also make sure that it is the correct SQL statement generated\n",
    "\n",
    "Double-check the query for common mistakes, including:\n",
    "- Logical errors\n",
    "- Using NOT IN with NULL values\n",
    "- Using UNION when UNION ALL should be used\n",
    "- Incorrect use of BETWEEN for exclusive ranges\n",
    "- Data type mismatches in predicates\n",
    "- Improper quoting of identifiers\n",
    "- Incorrect number of arguments for functions\n",
    "- Incorrect casting to data types\n",
    "- Using the wrong columns for joins\n",
    "\n",
    "If any mistakes are found, rewrite the statement and provide a brief explanation of your corrections.\n",
    "If no mistakes are found, simply reproduce the original query and explanation.\n",
    "\"\"\"\n",
    "\n",
    "\n",
    "GENERATE_ANSWER_INSTRUCTION = \"\"\"\n",
    "You are an natural language expert. From the users question regarding database the following query was framed previously:\n",
    "{query_info}\n",
    "\n",
    "Please answer the question using only the information provided above.\n",
    "Your answer must be conversational.\n",
    "\n",
    "Example:\n",
    "SQL query:\n",
    "SELECT COUNT(EmployeeID) AS NumberOfEmployees FROM employee\n",
    "\n",
    "The reasoning you used to create that query was:\n",
    "To find the number of employees present, we need to count the number of rows in the employee table. This can be achieved by using the COUNT() function in SQL, which counts the number of rows in the table. The correct query should count the EmployeeID column to ensure accuracy.\n",
    "\n",
    "And this is the result you get:\n",
    "[(50,)]\n",
    "\n",
    "Your response should be: The company currently has 50 employees.\n",
    "\n",
    "\"\"\"\n"
   ]
  },
  {
   "cell_type": "markdown",
   "metadata": {},
   "source": [
    "## Nodes"
   ]
  },
  {
   "cell_type": "code",
   "execution_count": null,
   "metadata": {},
   "outputs": [],
   "source": []
  },
  {
   "cell_type": "code",
   "execution_count": 367,
   "metadata": {},
   "outputs": [],
   "source": [
    "from langchain_community.agent_toolkits import SQLDatabaseToolkit\n",
    "from langchain_core.tools import tool\n",
    "from pydantic import BaseModel, Field\n",
    "from langchain_groq import ChatGroq\n",
    "from langchain_core.prompts import ChatPromptTemplate\n",
    "\n",
    "toolkit=SQLDatabaseToolkit(db=db, llm=ChatGroq(model=\"mixtral-8x7b-32768\"))\n",
    "tools=toolkit.get_tools()"
   ]
  },
  {
   "cell_type": "code",
   "execution_count": 368,
   "metadata": {},
   "outputs": [
    {
     "name": "stdout",
     "output_type": "stream",
     "text": [
      "<class 'langchain_community.tools.sql_database.tool.QuerySQLDatabaseTool'>\n",
      "<class 'langchain_community.tools.sql_database.tool.InfoSQLDatabaseTool'>\n",
      "<class 'langchain_community.tools.sql_database.tool.ListSQLDatabaseTool'>\n",
      "<class 'langchain_community.tools.sql_database.tool.QuerySQLCheckerTool'>\n"
     ]
    }
   ],
   "source": [
    "for tool in tools:\n",
    "    print(type(tool))"
   ]
  },
  {
   "cell_type": "code",
   "execution_count": 369,
   "metadata": {},
   "outputs": [
    {
     "data": {
      "text/plain": [
       "['employee']"
      ]
     },
     "execution_count": 369,
     "metadata": {},
     "output_type": "execute_result"
    }
   ],
   "source": [
    "tables_names=db.get_usable_table_names()\n",
    "tables_names"
   ]
  },
  {
   "cell_type": "code",
   "execution_count": 370,
   "metadata": {},
   "outputs": [],
   "source": [
    "import operator\n",
    "from typing_extensions import TypedDict\n",
    "from typing import Annotated\n"
   ]
  },
  {
   "cell_type": "code",
   "execution_count": 371,
   "metadata": {},
   "outputs": [],
   "source": [
    "\n",
    "class InputState(TypedDict):\n",
    "  question: str\n",
    "  max_attempts: int\n",
    "\n",
    "class OutputState(TypedDict):\n",
    "  answer: str\n",
    "  error_message: str\n",
    "  \n",
    "class OverallState(TypedDict):\n",
    "    question: str\n",
    "    max_attempts: int\n",
    "    attempts: Annotated[int,operator.add]\n",
    "    answer: str\n",
    "    error_message: str\n",
    "    tables_info: str\n",
    "    reasoning: str\n",
    "    queries: Annotated[List[Query], operator.add]\n"
   ]
  },
  {
   "cell_type": "code",
   "execution_count": 372,
   "metadata": {},
   "outputs": [],
   "source": [
    "from langchain_core.messages import HumanMessage, SystemMessage, AIMessage\n",
    "from langgraph.errors import NodeInterrupt"
   ]
  },
  {
   "cell_type": "code",
   "execution_count": 373,
   "metadata": {},
   "outputs": [],
   "source": [
    "MAX_ATTEMPTS_DEFAULT = 1\n",
    "INVALID_QUESTION_ERROR = \"The quesiton is not related to the database\"\n",
    "REACH_OUT_MAX_ATTEMPTS_ERROR = \"The system reach out the attempts limits before get the information.\""
   ]
  },
  {
   "cell_type": "code",
   "execution_count": 411,
   "metadata": {},
   "outputs": [],
   "source": [
    "import ast\n",
    "def parse(tables):\n",
    "    result=ast.literal_eval(tables)\n",
    "    return result\n",
    "    \n",
    "    \n",
    "\n",
    "def select_relevant_schemas(state: InputState) -> OverallState:\n",
    "    max_attempts=state.get('max_attempts',0)\n",
    "    if state['max_attempts']>0:\n",
    "        state['max_attempts']=max_attempts\n",
    "    else:\n",
    "        state['max_attempts']=MAX_ATTEMPTS_DEFAULT\n",
    "    table_names=db.get_usable_table_names()\n",
    "    question= state['question']\n",
    "    toolkit= SQLDatabaseToolkit(db=db, llm=ChatGroq(model=\"mixtral-8x7b-32768\"))\n",
    "    tools= toolkit.get_tools()\n",
    "    get_schema_tool=next(tool for tool in tools if tool.name==\"sql_db_schema\")\n",
    "    tables_with_schema=dict()\n",
    "    for i in table_names:\n",
    "        #print(get_schema_tool.invoke(i))\n",
    "        tables_with_schema[i]=get_schema_tool.invoke(i)\n",
    "    print(\"table_names\", table_names)\n",
    "    \n",
    "    instruction=SystemMessage(content=SELECT_RELEVANT_TABLES_INSTRUCTION.format(table_names=table_names))\n",
    "    prompt=[instruction]+[HumanMessage(content=question)]\n",
    "    print(prompt)\n",
    "    model=ChatGroq(model=\"llama-3.3-70b-versatile\")\n",
    "    relevant_tables=model.invoke(prompt)\n",
    "    print(\"relevant tables \",relevant_tables.content)\n",
    "    relevant_tables=parse(relevant_tables.content)\n",
    "    \n",
    "    if not relevant_tables:\n",
    "        return {\"error_message\": INVALID_QUESTION_ERROR}\n",
    "    tables_info=db.get_table_info(relevant_tables)\n",
    "    print(tables_info)\n",
    "    \n",
    "    return {\"tables_info\": tables_info, 'attempts':1 , **state}"
   ]
  },
  {
   "cell_type": "code",
   "execution_count": 412,
   "metadata": {},
   "outputs": [],
   "source": [
    "class GenQueryResponse(BaseModel):\n",
    "    statement: str= Field(description=\"Query statement to be executed\")\n",
    "    reasoning: str= Field(description=\"Reasoning used to define the query\")\n"
   ]
  },
  {
   "cell_type": "code",
   "execution_count": 413,
   "metadata": {},
   "outputs": [],
   "source": [
    "def generate_query(state: OverallState) -> OverallState:\n",
    "    question= state[\"question\"]\n",
    "    tables_info=state[\"tables_info\"]\n",
    "    queries=state.get(\"queries\")\n",
    "    \n",
    "    if not queries:\n",
    "        instructions= (GENERATE_QUERY_INSTRUCTIONS.format(info=tables_info))\n",
    "    else:\n",
    "        instructions= (FIX_QUERY_INSTRUCTIONS.format(info=tables_info, error_info=queries[-1].error_info))\n",
    "    \n",
    "    generator_prompt=[SystemMessage(content=instructions)]+[HumanMessage(content=question)]\n",
    "\n",
    "    generator_model=ChatGroq(model=\"llama-3.3-70b-versatile\").with_structured_output(GenQueryResponse)\n",
    "    generator_response=generator_model.invoke(generator_prompt)\n",
    "    #print(\"generated statement \",generator_response.statement)\n",
    "    #print(\"generated reasoning \",generator_response.reasoning)\n",
    "    \n",
    "    ##checker\n",
    "    checker_prompt=([SystemMessage(content=QUERY_CHECK_INSTRUCTION)]+\n",
    "                    [AIMessage(content=f\"SQLite query: {generator_response.statement}\\n Reasoning:{generator_response.reasoning}\")]\n",
    "                    )\n",
    "    checker_model=ChatGroq(model=\"llama-3.3-70b-versatile\").with_structured_output(GenQueryResponse)\n",
    "    checker_response= checker_model.invoke(checker_prompt)\n",
    "    \n",
    "    corrected=generator_response.statement != checker_response.statement\n",
    "    #print(\"Query correction status \",corrected)\n",
    "    if corrected:\n",
    "        final_reasoning= f\"First: {generator_response.reasoning}\\nCorrection: {checker_response.reasoning}\"\n",
    "    else:\n",
    "        final_reasoning=generator_response.reasoning\n",
    "    \n",
    "    #print(checker_response.statement,final_reasoning)\n",
    "    query=Query(statement=checker_response.statement, reasoning=final_reasoning)\n",
    "    \n",
    "    return {\"queries\":[query]}\n",
    "    \n",
    "    "
   ]
  },
  {
   "cell_type": "code",
   "execution_count": 414,
   "metadata": {},
   "outputs": [],
   "source": [
    "def execute_query(state: OverallState)-> OverallState:\n",
    "    attempts=state[\"attempts\"]\n",
    "    max_attempts=state[\"max_attempts\"]\n",
    "    query=state[\"queries\"][-1]\n",
    "    #print(\"In executing this query :\", query)\n",
    "    try:\n",
    "        query_result=db.run(query.statement)\n",
    "        #print(\"this is the result on running this query \", query_result)\n",
    "        query.result=query_result\n",
    "    except Exception as e:\n",
    "        query.result=str(e)\n",
    "        query.is_valid=False\n",
    "        if attempts >=max_attempts:\n",
    "            return {\"error_message\": REACH_OUT_MAX_ATTEMPTS_ERROR}\n",
    "    return {\"attempts\": 1}\n"
   ]
  },
  {
   "cell_type": "code",
   "execution_count": 415,
   "metadata": {},
   "outputs": [],
   "source": [
    "def generate_answer(state: OverallState) -> OutputState:\n",
    "    if error_message := state.get(\"error_message\"):\n",
    "        return {\"error_message\": error_message}\n",
    "    query=state[\"queries\"][-1]\n",
    "    generate_answer_ins=GENERATE_ANSWER_INSTRUCTION.format(query_info=query.info)\n",
    "    print(\"query on info: \",query.info)\n",
    "    prompt=(\n",
    "        [SystemMessage(content=generate_answer_ins)] +\n",
    "        [HumanMessage(content=state[\"question\"])]\n",
    "    )\n",
    "    \n",
    "    response= ChatGroq(model=\"qwen-2.5-32b\").invoke(prompt)\n",
    "    \n",
    "    return {\"answer\":response.content}\n",
    "\n",
    "    "
   ]
  },
  {
   "cell_type": "code",
   "execution_count": 416,
   "metadata": {},
   "outputs": [],
   "source": [
    "from typing import Literal\n",
    "from langgraph.graph import END"
   ]
  },
  {
   "cell_type": "code",
   "execution_count": 417,
   "metadata": {},
   "outputs": [],
   "source": [
    "def check_question(state: OverallState) -> Literal[\"generate_query\",\"generate_answer\"]:\n",
    "    if state.get(\"error_message\") == INVALID_QUESTION_ERROR:\n",
    "        return \"generate_answer\"\n",
    "    return \"generate_query\"\n",
    "\n",
    "def router(state:OverallState) -> Literal[\"generate_query\",\"generate_answer\"]:\n",
    "    query=state[\"queries\"][-1]\n",
    "    #print(\"\\nresult of query\",query.result)\n",
    "    if query.result:\n",
    "        return \"generate_answer\"\n",
    "    else:\n",
    "        return \"generate_query\"\n",
    "    \n",
    "    \n",
    "    "
   ]
  },
  {
   "cell_type": "markdown",
   "metadata": {},
   "source": [
    "## Graph "
   ]
  },
  {
   "cell_type": "code",
   "execution_count": 418,
   "metadata": {},
   "outputs": [],
   "source": [
    "from langgraph.graph import StateGraph, START, END\n",
    "from langgraph.checkpoint.memory import MemorySaver\n",
    "from IPython.display import display, Image"
   ]
  },
  {
   "cell_type": "code",
   "execution_count": 419,
   "metadata": {},
   "outputs": [
    {
     "data": {
      "text/plain": [
       "<langgraph.graph.state.StateGraph at 0x1efb64953f0>"
      ]
     },
     "execution_count": 419,
     "metadata": {},
     "output_type": "execute_result"
    }
   ],
   "source": [
    "builder= StateGraph(OverallState, input=InputState, output=OutputState)\n",
    "builder.add_node(select_relevant_schemas)\n",
    "builder.add_node(generate_query)\n",
    "builder.add_node(execute_query)\n",
    "builder.add_node(generate_answer)"
   ]
  },
  {
   "cell_type": "code",
   "execution_count": 420,
   "metadata": {},
   "outputs": [],
   "source": [
    "builder.add_edge(START,\"select_relevant_schemas\")\n",
    "builder.add_conditional_edges(\"select_relevant_schemas\",check_question)\n",
    "builder.add_edge(\"generate_query\",\"execute_query\")\n",
    "builder.add_conditional_edges(\"execute_query\",router)\n",
    "builder.add_edge(\"generate_answer\",END)\n",
    "\n",
    "memory=MemorySaver()\n",
    "graph= builder.compile(checkpointer=memory)\n",
    "\n"
   ]
  },
  {
   "cell_type": "code",
   "execution_count": 421,
   "metadata": {},
   "outputs": [
    {
     "data": {
      "image/png": "[encoded data removed]",
      "text/plain": [
       "<IPython.core.display.Image object>"
      ]
     },
     "metadata": {},
     "output_type": "display_data"
    }
   ],
   "source": [
    "display(Image(graph.get_graph().draw_mermaid_png()))"
   ]
  },
  {
   "cell_type": "code",
   "execution_count": 436,
   "metadata": {},
   "outputs": [
    {
     "name": "stdout",
     "output_type": "stream",
     "text": [
      "table_names ['employee']\n",
      "[SystemMessage(content='\\nYou are a SQL expert .You need to identify relevant tables from a SQL database to answer the user’s question.  \\nAvailable tables: [\\'employee\\']  \\nReturn a list of the relevant tables. If none are relevant, return an empty list.  \\nOnly return the list—no explanations.\\n\\nExamples:  \\nUser Question: \"What are the total sales for the last month?\"  \\nAvailable Tables: [\"users\", \"orders\", \"products\", \"inventory\", \"sales\"]  \\nResponse: [\"sales\"]  \\n\\nUser Question: \"Show me the list of employees in the HR department.\"  \\nAvailable Tables: [\"users\", \"orders\", \"employees\", \"departments\"]  \\nResponse: [\"employees\", \"departments\"]  \\n\\nUser Question: \"How many visitors accessed the website last week?\"  \\nAvailable Tables: [\"users\", \"orders\", \"products\"]  \\nResponse: []  \\n', additional_kwargs={}, response_metadata={}), HumanMessage(content='how many managers are present?', additional_kwargs={}, response_metadata={})]\n",
      "relevant tables  [\"employee\"]\n",
      "\n",
      "CREATE TABLE employee (\n",
      "\t`EmployeeID` INTEGER NOT NULL, \n",
      "\t`EmployeeName` VARCHAR(255) NOT NULL, \n",
      "\t`DateOfJoining` DATE NOT NULL, \n",
      "\t`EmployeeType` VARCHAR(255), \n",
      "\t`PayTier` VARCHAR(255), \n",
      "\tPRIMARY KEY (`EmployeeID`)\n",
      ")ENGINE=InnoDB DEFAULT CHARSET=utf8mb4 COLLATE utf8mb4_0900_ai_ci\n",
      "\n",
      "/*\n",
      "3 rows from employee table:\n",
      "EmployeeID\tEmployeeName\tDateOfJoining\tEmployeeType\tPayTier\n",
      "1\tJohn Doe\t2023-01-15\tManager\tTier 1\n",
      "2\tJane Smith\t2022-06-01\tEngineer-1\tTier 3\n",
      "3\tAlice Johnson\t2021-09-12\tTester\tTier 4\n",
      "*/\n",
      "query on info:  SQL query:\n",
      "SELECT COUNT(EmployeeID) FROM employee WHERE EmployeeType = 'Manager'\n",
      "\n",
      "The reasoning you used to create that query was:\n",
      "To find the number of managers, we need to count the rows in the employee table where the EmployeeType is 'Manager'.\n",
      "\n",
      "And this is the result you get:\n",
      "[(10,)]\n",
      "\n",
      "response = {'answer': 'There are 10 managers present.'}\n"
     ]
    }
   ],
   "source": [
    "thread_1 = {\"configurable\": {\"thread_id\": \"1\"}}\n",
    "question = \"how many managers are present?\"\n",
    "response = graph.invoke({\"question\": question, \"max_attempts\": 5}, thread_1)\n",
    "print(f\"\\n{response = }\")"
   ]
  },
  {
   "cell_type": "code",
   "execution_count": 435,
   "metadata": {},
   "outputs": [
    {
     "name": "stdout",
     "output_type": "stream",
     "text": [
      "Sure, here are the names of all the employees, listed in the order of their most recent joining date:\n",
      "\n",
      "1. Nate King\n",
      "2. William Harris\n",
      "3. Levi Jenkins\n",
      "4. Charlie Davis\n",
      "5. Charlotte Hall\n",
      "6. Ava Martin\n",
      "7. Daniel Gonzalez\n",
      "8. Lucas King\n",
      "9. Ivy Wilson\n",
      "10. Olivia Perry\n",
      "11. John Doe\n",
      "12. Henry Mitchell\n",
      "13. Liam Gray\n",
      "14. Sofia Baker\n",
      "15. Oliver Davis\n",
      "16. Mia Lopez\n",
      "17. Jane Smith\n",
      "18. Jack Black\n",
      "19. Emily Perez\n",
      "20. Victoria Ramirez\n",
      "21. Frank White\n",
      "22. Eleanor Ross\n",
      "23. Benjamin Lewis\n",
      "24. Aiden Rivera\n",
      "25. Amelia Foster\n",
      "26. Alice Johnson\n",
      "27. Grace Green\n",
      "28. Ella Morgan\n",
      "29. Karen Scott\n",
      "30. Sophia Reed\n",
      "31. Harper Wilson\n",
      "32. Noah Adams\n",
      "33. Matthew Powell\n",
      "34. Hank Lee\n",
      "35. Emma Turner\n",
      "36. Scarlett Bennett\n",
      "37. Larry Adams\n",
      "38. James Ward\n",
      "39. Grace Torres\n",
      "40. Elijah Robinson\n",
      "41. Ethan Scott\n",
      "42. Bob Brown\n",
      "43. Jackson Kelly\n",
      "44. Ella Foster\n",
      "45. Eve Martin\n",
      "46. Abigail Carter\n",
      "47. Isabella Clark\n",
      "48. Avery Sanders\n",
      "49. Chloe White\n",
      "50. Mona Young\n",
      "\n",
      "This list includes all the employees in the order of their most recent joining date.\n"
     ]
    }
   ],
   "source": [
    "print(response[\"answer\"])"
   ]
  },
  {
   "cell_type": "code",
   "execution_count": null,
   "metadata": {},
   "outputs": [],
   "source": []
  },
  {
   "cell_type": "code",
   "execution_count": null,
   "metadata": {},
   "outputs": [],
   "source": []
  }
 ],
 "metadata": {
  "kernelspec": {
   "display_name": ".venv",
   "language": "python",
   "name": "python3"
  },
  "language_info": {
   "codemirror_mode": {
    "name": "ipython",
    "version": 3
   },
   "file_extension": ".py",
   "mimetype": "text/x-python",
   "name": "python",
   "nbconvert_exporter": "python",
   "pygments_lexer": "ipython3",
   "version": "3.10.0"
  }
 },
 "nbformat": 4,
 "nbformat_minor": 2
}
