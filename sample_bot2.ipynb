{
 "cells": [
  {
   "cell_type": "code",
   "execution_count": 1,
   "metadata": {},
   "outputs": [],
   "source": [
    "from langchain_community.utilities import SQLDatabase\n",
    "import pymysql\n",
    "from langchain_community.utilities import SQLDatabase\n",
    "from typing import Any\n",
    "from langchain_core.runnables import RunnableWithFallbacks, RunnableLambda\n",
    "from langchain_core.messages import ToolMessage\n",
    "from langgraph.prebuilt import ToolNode\n",
    "from langchain_community.agent_toolkits import SQLDatabaseToolkit\n",
    "from langchain_core.tools import tool\n",
    "from pydantic import BaseModel, Field\n",
    "from langchain_groq import ChatGroq\n",
    "from langchain_core.prompts import ChatPromptTemplate"
   ]
  },
  {
   "cell_type": "code",
   "execution_count": 2,
   "metadata": {},
   "outputs": [],
   "source": [
    "import getpass\n",
    "import os\n",
    "\n",
    "from dotenv import load_dotenv\n",
    "\n",
    "load_dotenv()\n",
    "\n",
    "def set_env(key: str):\n",
    "  if key not in os.environ:\n",
    "    os.environ[key]=getpass.getpass(f\"{key}:\")\n",
    "set_env(\"GROQ_API_KEY\")\n",
    "set_env(\"LANGCHAIN_API_KEY\")\n",
    "os.environ[\"LANGCHAIN_TRACING_V2\"]=\"true\"\n",
    "os.environ[\"LANGCHAIN_PROJECT\"]=\"llm-agent-sql-2\""
   ]
  },
  {
   "cell_type": "code",
   "execution_count": 3,
   "metadata": {},
   "outputs": [],
   "source": [
    "username = \"root\"\n",
    "password = \"jagan2911\"\n",
    "host = 'localhost'\n",
    "database = 'employeez'"
   ]
  },
  {
   "cell_type": "code",
   "execution_count": 4,
   "metadata": {},
   "outputs": [
    {
     "name": "stdout",
     "output_type": "stream",
     "text": [
      "mysql\n",
      "['employee_information']\n"
     ]
    }
   ],
   "source": [
    "db = SQLDatabase.from_uri(f\"mysql+pymysql://{username}:{password}@{host}/{database}\",sample_rows_in_table_info = 3)\n",
    "print(db.dialect)\n",
    "print(db.get_usable_table_names())"
   ]
  },
  {
   "cell_type": "code",
   "execution_count": 5,
   "metadata": {},
   "outputs": [],
   "source": [
    "from pydantic import BaseModel, Field\n",
    "from typing import List, Any, Dict"
   ]
  },
  {
   "cell_type": "code",
   "execution_count": 6,
   "metadata": {},
   "outputs": [],
   "source": [
    "class Query(BaseModel):\n",
    "    statement: str = Field(description=\"The SQL query to execute\")\n",
    "    reasoning: str = Field(description=\"Reasoning behind the query\")\n",
    "    is_valid: bool = Field(True,description=\"Indicates if the statement is valid\")\n",
    "    result: str = Field(\"\",description=\"query result\")\n",
    "    error: str = Field(\"\",description=\"Error message if applicable\")\n",
    "    \n",
    "    @property\n",
    "    def info(self) -> str:\n",
    "        return (f\"SQL query:\\n{self.statement}\\n\\n\"\n",
    "    f\"The reasoning you used to create that query was:\\n{self.reasoning}\\n\\n\"\n",
    "    f\"And this is the result you get:\\n{self.result}\")\n",
    "    @property\n",
    "    def error_info(self) -> str:\n",
    "        return(f\"Wrong SQL query:\\n{self.statement}\\n\\n\"\n",
    "    f\"The reasoning you used to create that query was:\\n{self.reasoning}\\n\\n\"\n",
    "    f\"And this is the error you got when executed it: {self.error}\")\n",
    "\n",
    "class GeneralMessage(BaseModel):\n",
    "    human: str = Field(\"\",description=\"Human message\")\n",
    "    llm: str = Field(\"\",description=\"answer by LLM\")\n",
    "    \n",
    "    "
   ]
  },
  {
   "cell_type": "markdown",
   "metadata": {},
   "source": [
    "## Prompts"
   ]
  },
  {
   "cell_type": "code",
   "execution_count": 7,
   "metadata": {},
   "outputs": [],
   "source": [
    "SELECT_RELEVANT_TABLES_INSTRUCTION = \"\"\"\n",
    "You are a SQL expert .You need to identify relevant tables from a SQL database to answer the user’s question.  \n",
    "Available tables: {table_names}  \n",
    "Return a list of the relevant tables. If none are relevant, return an empty list.  \n",
    "Only return the list—no explanations.\n",
    "\n",
    "Examples:  \n",
    "User Question: \"What are the total sales for the last month?\"  \n",
    "Available Tables: [\"users\", \"orders\", \"products\", \"inventory\", \"sales\"]  \n",
    "Response: [\"sales\"]  \n",
    "\n",
    "User Question: \"Show me the list of employees in the HR department.\"  \n",
    "Available Tables: [\"users\", \"orders\", \"employees\", \"departments\"]  \n",
    "Response: [\"employees\", \"departments\"]  \n",
    "\n",
    "User Question: \"How many visitors accessed the website last week?\"  \n",
    "Available Tables: [\"users\", \"orders\", \"products\"]  \n",
    "Response: []  \n",
    "\n",
    "DO NOT ANSWER THE QUESTION IF ITS NOT RELATED TO THE TABLE RATHER RETURN AN EMPTL LIST\n",
    "User Question: \" Hello i am John\"\n",
    "Response: []  \n",
    "\"\"\"\n",
    "\n",
    "\n",
    "\n",
    "GENERAL_QUERY_INSTRUCTIONS = \"\"\"\n",
    "When generating the query:\n",
    "\n",
    "- Output a SQL query that answers the input question without making a tool call.\n",
    "- You may order the results by a relevant column to highlight the most significant examples from the database.\n",
    "- Never select all columns from a table; only query the columns that are relevant to the question.\n",
    "- DO NOT include any DML statements (INSERT, UPDATE, DELETE, DROP, etc.) in your query.\n",
    "\n",
    "In addition to providing the SQLite query, include a brief explanation of your reasoning for constructing the query.\n",
    "\"\"\"\n",
    "\n",
    "\n",
    "\n",
    "GENERATE_QUERY_INSTRUCTIONS = \"\"\"\n",
    "You are an expert in SQL with a strong attention to detail.  \n",
    "Consider past queries to understand the context better and generate more relevant responses.  \n",
    "\n",
    "### Past Queries:  \n",
    "{queries}  \n",
    "(*This may be empty if no previous queries exist.*)  \n",
    "\n",
    "### Database Information:  \n",
    "Below is the available database schema along with example rows:  \n",
    "{info}  \n",
    "\n",
    "### Task:  \n",
    "Generate a syntactically correct SQLite query that accurately answers the user's question. \n",
    "You **must** consider past queries when generating a new one to maintain context and relevance.\n",
    " \n",
    "\n",
    "\"\"\" + GENERAL_QUERY_INSTRUCTIONS\n",
    "\n",
    "\n",
    "\n",
    "FIX_QUERY_INSTRUCTIONS = \"\"\"\n",
    "You are a SQL expert with strong attention to detail.\n",
    "Below is the information you have about the database, including the table schema and some row examples:\n",
    "\n",
    "{info}\n",
    "\n",
    "You executed a query to answer a user question, but an error occurred. Here is the error information:\n",
    "{error_info}\n",
    "\n",
    "Please fix the query or create a new, syntactically correct SQLite query to answer the user question.\n",
    "\"\"\" + GENERAL_QUERY_INSTRUCTIONS\n",
    "\n",
    "\n",
    "\n",
    "QUERY_CHECK_INSTRUCTION = \"\"\"\n",
    "You are a SQL expert with strong attention to detail.\n",
    "Below is a SQLite query statement along with a brief explanation of its construction.\n",
    "Also make sure that it is the correct SQL statement generated\n",
    "\n",
    "Double-check the query for common mistakes, including:\n",
    "- Logical errors\n",
    "- Using NOT IN with NULL values\n",
    "- Using UNION when UNION ALL should be used\n",
    "- Incorrect use of BETWEEN for exclusive ranges\n",
    "- Data type mismatches in predicates\n",
    "- Improper quoting of identifiers\n",
    "- Incorrect number of arguments for functions\n",
    "- Incorrect casting to data types\n",
    "- Using the wrong columns for joins\n",
    "\n",
    "If any mistakes are found, rewrite the statement and provide a brief explanation of your corrections.\n",
    "If no mistakes are found, simply reproduce the original query and explanation.\n",
    "\"\"\"\n",
    "\n",
    "\n",
    "GENERATE_ANSWER_INSTRUCTION = \"\"\"\n",
    "You are an natural language expert. From the users question regarding database the following query was framed previously:\n",
    "{query_info}\n",
    "\n",
    "Please answer the question using only the information provided above.\n",
    "Your answer must be conversational.\n",
    "\n",
    "Example:\n",
    "SQL query:\n",
    "SELECT COUNT(EmployeeID) AS NumberOfEmployees FROM employee\n",
    "\n",
    "The reasoning you used to create that query was:\n",
    "To find the number of employees present, we need to count the number of rows in the employee table. This can be achieved by using the COUNT() function in SQL, which counts the number of rows in the table. The correct query should count the EmployeeID column to ensure accuracy.\n",
    "\n",
    "And this is the result you get:\n",
    "[(50,)]\n",
    "\n",
    "Your response should be: The company currently has 50 employees.\n",
    "\n",
    "\"\"\"\n",
    "\n",
    "CATEGORY_DECIDING_PROMPT = \"\"\"System\n",
    "            You are an helpful assistant who understands what the incoming message is about.\n",
    "            If the message is about generating SQL or SQLite queries for our table, you send the message ‘sql’.Our database maintains tables and these are its information\n",
    "            ##TABLES INFORMATION\n",
    "            {tables_info}\n",
    "            So anything related about the above table and getting their details route it to 'sql'.\n",
    "            If the incoming message is not about SQL queries or doesn't need to generate SQL queries/query, you will send a reply as ‘message’.\n",
    "            Don't add anything to it just ANSWER in one word\n",
    "            For example:\n",
    "            user: what is the capital of germany\n",
    "            AI ‘message’\n",
    "            user: ‘How many distinct types of employees are present ’\n",
    "            AI : ‘sql’\n",
    "        The statement is given here {statement}\n",
    "    \"\"\"\n",
    "\n",
    "NORMAL_INSTRUCTION=\"\"\"Answer the message in the most appropriate and general way to the given message. \n",
    "    Maintain a neutal and a formal tone . If anything inappropriate is encountered answer with \n",
    "    'Can't answer this ask something different'\n",
    "    Also remember the information from the message history passed below\n",
    "    ##Message History\n",
    "    {history}\"\"\"\n"
   ]
  },
  {
   "cell_type": "markdown",
   "metadata": {},
   "source": [
    "## Nodes"
   ]
  },
  {
   "cell_type": "code",
   "execution_count": null,
   "metadata": {},
   "outputs": [],
   "source": []
  },
  {
   "cell_type": "code",
   "execution_count": 10,
   "metadata": {},
   "outputs": [],
   "source": [
    "from langchain_community.agent_toolkits import SQLDatabaseToolkit\n",
    "from langchain_core.tools import tool\n",
    "from pydantic import BaseModel, Field\n",
    "from langchain_groq import ChatGroq\n",
    "from langchain_core.prompts import ChatPromptTemplate\n",
    "\n",
    "toolkit=SQLDatabaseToolkit(db=db, llm=ChatGroq(model=\"mixtral-8x7b-32768\"))\n",
    "tools=toolkit.get_tools()"
   ]
  },
  {
   "cell_type": "code",
   "execution_count": 11,
   "metadata": {},
   "outputs": [
    {
     "name": "stdout",
     "output_type": "stream",
     "text": [
      "<class 'langchain_community.tools.sql_database.tool.QuerySQLDatabaseTool'>\n",
      "<class 'langchain_community.tools.sql_database.tool.InfoSQLDatabaseTool'>\n",
      "<class 'langchain_community.tools.sql_database.tool.ListSQLDatabaseTool'>\n",
      "<class 'langchain_community.tools.sql_database.tool.QuerySQLCheckerTool'>\n"
     ]
    }
   ],
   "source": [
    "for tool in tools:\n",
    "    print(type(tool))"
   ]
  },
  {
   "cell_type": "code",
   "execution_count": 12,
   "metadata": {},
   "outputs": [
    {
     "data": {
      "text/plain": [
       "['employee_information']"
      ]
     },
     "execution_count": 12,
     "metadata": {},
     "output_type": "execute_result"
    }
   ],
   "source": [
    "tables_names=db.get_usable_table_names()\n",
    "tables_names"
   ]
  },
  {
   "cell_type": "code",
   "execution_count": 13,
   "metadata": {},
   "outputs": [],
   "source": [
    "import operator\n",
    "from typing_extensions import TypedDict\n",
    "from typing import Annotated\n"
   ]
  },
  {
   "cell_type": "code",
   "execution_count": 14,
   "metadata": {},
   "outputs": [],
   "source": [
    "\n",
    "class InputState(TypedDict):\n",
    "  question: str\n",
    "  max_attempts: int\n",
    "  general_message: Annotated[List[GeneralMessage],operator.add]\n",
    "\n",
    "class OutputState(TypedDict):\n",
    "  answer: str\n",
    "  error_message: str\n",
    "  general_message: Annotated[List[GeneralMessage],operator.add]\n",
    "  \n",
    "class OverallState(TypedDict):\n",
    "    question: str\n",
    "    max_attempts: int\n",
    "    attempts: int\n",
    "    answer: str\n",
    "    error_message: str\n",
    "    tables_info: str\n",
    "    reasoning: str\n",
    "    queries: Annotated[List[Query], operator.add]\n"
   ]
  },
  {
   "cell_type": "code",
   "execution_count": 15,
   "metadata": {},
   "outputs": [],
   "source": [
    "def reset_attempts(state:OverallState):\n",
    "    state['attempts']=0\n",
    "    "
   ]
  },
  {
   "cell_type": "code",
   "execution_count": 16,
   "metadata": {},
   "outputs": [],
   "source": [
    "from langchain_core.messages import HumanMessage, SystemMessage, AIMessage\n",
    "from langgraph.errors import NodeInterrupt"
   ]
  },
  {
   "cell_type": "code",
   "execution_count": 17,
   "metadata": {},
   "outputs": [],
   "source": [
    "MAX_ATTEMPTS_DEFAULT = 1\n",
    "INVALID_QUESTION_ERROR = \"The quesiton is not related to the database\"\n",
    "REACH_OUT_MAX_ATTEMPTS_ERROR = \"The system reach out the attempts limits before get the information.\""
   ]
  },
  {
   "cell_type": "code",
   "execution_count": 31,
   "metadata": {},
   "outputs": [],
   "source": [
    "import ast\n",
    "def parse(tables):\n",
    "    result=ast.literal_eval(tables)\n",
    "    return result\n",
    "    \n",
    "    \n",
    "\n",
    "def select_relevant_schemas(state: InputState) -> OverallState:\n",
    "    max_attempts=state.get('max_attempts',0)\n",
    "    if state['max_attempts']>0:\n",
    "        state['max_attempts']=max_attempts\n",
    "    else:\n",
    "        state['max_attempts']=MAX_ATTEMPTS_DEFAULT\n",
    "    table_names=db.get_usable_table_names()\n",
    "    question= state['question']\n",
    "    toolkit= SQLDatabaseToolkit(db=db, llm=ChatGroq(model=\"qwen-2.5-32b\"))\n",
    "    tools= toolkit.get_tools()\n",
    "    get_schema_tool=next(tool for tool in tools if tool.name==\"sql_db_schema\")\n",
    "    tables_with_schema=dict()\n",
    "    for i in table_names:\n",
    "        #print(get_schema_tool.invoke(i))\n",
    "        tables_with_schema[i]=get_schema_tool.invoke(i)\n",
    "    print(\"table_names\", table_names)\n",
    "    \n",
    "    instruction=SystemMessage(content=SELECT_RELEVANT_TABLES_INSTRUCTION.format(table_names=table_names))\n",
    "    prompt=[instruction]+[HumanMessage(content=question)]\n",
    "    print(prompt)\n",
    "    model=ChatGroq(model=\"qwen-2.5-32b\")\n",
    "    relevant_tables=model.invoke(prompt)\n",
    "    print(\"relevant tables \",relevant_tables.content)\n",
    "    \n",
    "    relevant_tables=parse(relevant_tables.content)\n",
    "    \n",
    "    if not relevant_tables:\n",
    "        return {\"error_message\": INVALID_QUESTION_ERROR,\"tables_info\":\"No relevant tables\"}\n",
    "    tables_info=db.get_table_info(relevant_tables)\n",
    "    print(tables_info)\n",
    "    \n",
    "    return {\"tables_info\": tables_info, 'attempts':0 , \"error_message\":\"\",**state}"
   ]
  },
  {
   "cell_type": "code",
   "execution_count": 32,
   "metadata": {},
   "outputs": [],
   "source": [
    "class GenQueryResponse(BaseModel):\n",
    "    statement: str= Field(description=\"Query statement to be executed\")\n",
    "    reasoning: str= Field(description=\"Reasoning used to define the query\")\n"
   ]
  },
  {
   "cell_type": "code",
   "execution_count": 33,
   "metadata": {},
   "outputs": [],
   "source": [
    "def generate_query(state: OverallState) -> OverallState:\n",
    "    question= state[\"question\"]\n",
    "    tables_info=state[\"tables_info\"]\n",
    "    queries=state.get(\"queries\")\n",
    "    attempts=state.get(\"attempts\")\n",
    "    \n",
    "    print(\"past queries\",queries)\n",
    "    print(\"question\",question)\n",
    "    if queries:  \n",
    "        if queries[-1].is_valid ==True:\n",
    "            instructions= (GENERATE_QUERY_INSTRUCTIONS.format(info=tables_info, queries=queries))\n",
    "        else:\n",
    "            instructions= (FIX_QUERY_INSTRUCTIONS.format(info=tables_info, error_info=queries[-1].error_info))\n",
    "    else:\n",
    "        instructions= (GENERATE_QUERY_INSTRUCTIONS.format(info=tables_info,queries=queries))\n",
    "    \n",
    "    \n",
    "    generator_prompt=[SystemMessage(content=instructions)]+[HumanMessage(content=question)]\n",
    "\n",
    "    generator_model=ChatGroq(model=\"deepseek-r1-distill-llama-70b\").with_structured_output(GenQueryResponse)\n",
    "    generator_response=generator_model.invoke(generator_prompt)\n",
    "    print(\"generated statement \",generator_response.statement)\n",
    "    print(\"generated reasoning \",generator_response.reasoning)\n",
    "    \n",
    "    ##checker\n",
    "    checker_prompt=([SystemMessage(content=QUERY_CHECK_INSTRUCTION)]+\n",
    "                    [AIMessage(content=f\"SQLite query: {generator_response.statement}\\n Reasoning:{generator_response.reasoning}\")]\n",
    "                    )\n",
    "    checker_model=ChatGroq(model=\"llama-3.3-70b-specdec\").with_structured_output(GenQueryResponse)\n",
    "    checker_response= checker_model.invoke(checker_prompt)\n",
    "    \n",
    "    corrected=generator_response.statement != checker_response.statement\n",
    "    #print(\"Query correction status \",corrected)\n",
    "    if corrected:\n",
    "        final_reasoning= f\"First: {generator_response.reasoning}\\nCorrection: {checker_response.reasoning}\"\n",
    "    else:\n",
    "        final_reasoning=generator_response.reasoning\n",
    "    \n",
    "    #print(checker_response.statement,final_reasoning)\n",
    "    query=Query(statement=checker_response.statement, reasoning=final_reasoning)\n",
    "    \n",
    "    return {\"queries\":[query], \"attempts\":state[\"attempts\"]+1}\n",
    "    \n",
    "    "
   ]
  },
  {
   "cell_type": "code",
   "execution_count": 34,
   "metadata": {},
   "outputs": [],
   "source": [
    "def execute_query(state: OverallState)-> OverallState:\n",
    "    attempts=state[\"attempts\"]\n",
    "    max_attempts=state[\"max_attempts\"]\n",
    "    query=state[\"queries\"][-1]\n",
    "    print(\"attempts\",attempts)\n",
    "    print(\"max_attempts\",max_attempts)\n",
    "    if attempts >max_attempts:\n",
    "        return {\"error_message\": REACH_OUT_MAX_ATTEMPTS_ERROR}\n",
    "    #print(\"In executing this query :\", query)\n",
    "    try:\n",
    "        query_result=db.run(query.statement)\n",
    "        #print(\"this is the result on running this query \", query_result)\n",
    "        if query_result:\n",
    "            query.result=query_result\n",
    "    except Exception as e:\n",
    "        print(\"Exception\")\n",
    "        print(e)\n",
    "        query.result=\"ERROR:\"+str(e)\n",
    "        query.is_valid=False \n",
    "    return {\"attempts\": state[\"attempts\"]}\n"
   ]
  },
  {
   "cell_type": "code",
   "execution_count": 35,
   "metadata": {},
   "outputs": [],
   "source": [
    "def generate_answer(state: OverallState) -> OutputState:\n",
    "    if error_message := state.get(\"error_message\"):\n",
    "        return {\"error_message\": error_message}\n",
    "    query=state[\"queries\"][-1]\n",
    "    generate_answer_ins=GENERATE_ANSWER_INSTRUCTION.format(query_info=query.info)\n",
    "    print(\"query on info: \",query.info)\n",
    "    prompt=(\n",
    "        [SystemMessage(content=generate_answer_ins)] +\n",
    "        [HumanMessage(content=state[\"question\"])]\n",
    "    )\n",
    "    \n",
    "    response= ChatGroq(model=\"qwen-2.5-32b\").invoke(prompt)\n",
    "    \n",
    "    return {\"answer\":response.content}\n",
    "\n",
    "    "
   ]
  },
  {
   "cell_type": "code",
   "execution_count": 36,
   "metadata": {},
   "outputs": [],
   "source": [
    "def general_chat(state: InputState) -> OutputState:\n",
    "    statement=state['question']\n",
    "    message_history=state[\"general_message\"]\n",
    "    pack=GeneralMessage()\n",
    "    pack.human=statement\n",
    "    chat_instruction=NORMAL_INSTRUCTION.format(history=message_history)\n",
    "    general_prompt=ChatPromptTemplate.from_messages([(\"system\",chat_instruction),(\"placeholder\",\"{messages}\")])\n",
    "    general_task_llm=general_prompt|ChatGroq(model=\"mixtral-8x7b-32768\")\n",
    "    response=general_task_llm.invoke({\"messages\":[statement]})\n",
    "    #print(\"response from general chat: \",response.human)\n",
    "    #print(\"response from general chat: \",response.llm)\n",
    "    pack.llm=response.content\n",
    "    \n",
    "    \n",
    "    return {\"answer\":response.content,\"general_message\":[pack]}"
   ]
  },
  {
   "cell_type": "code",
   "execution_count": 37,
   "metadata": {},
   "outputs": [],
   "source": [
    "from typing import Literal\n",
    "from langgraph.graph import END"
   ]
  },
  {
   "cell_type": "code",
   "execution_count": 39,
   "metadata": {},
   "outputs": [],
   "source": [
    "def check_question(state: OverallState) -> Literal[\"generate_query\",\"generate_answer\",\"general_chat\"]:\n",
    "    if is_related(state):        \n",
    "        if state.get(\"error_message\") == INVALID_QUESTION_ERROR:\n",
    "            return \"generate_answer\"\n",
    "        return \"generate_query\"\n",
    "    else:\n",
    "        return \"general_chat\"\n",
    "\n",
    "def router(state:OverallState) -> Literal[\"generate_query\",\"generate_answer\"]:\n",
    "    query=state[\"queries\"][-1]\n",
    "    print(\"\\nresult of query\",query.result)\n",
    "    if query.result.startswith(\"ERROR\"):\n",
    "        return \"generate_query\"\n",
    "    else:\n",
    "        return \"generate_answer\"\n",
    "\n",
    "def is_related(state: OverallState):\n",
    "    statement=state['question']\n",
    "    tables_info=state[\"tables_info\"]\n",
    "    print(tables_info)\n",
    "    #print(statement)\n",
    "    category_deciding_instruction=SystemMessage(content=CATEGORY_DECIDING_PROMPT.format(statement=statement,tables_info=tables_info))\n",
    "    category_deciding_llm=ChatGroq(model=\"qwen-2.5-32b\")\n",
    "    response=category_deciding_llm.invoke([category_deciding_instruction])\n",
    "    #print(response.content)\n",
    "    if response.content.lower()==\"sql\":\n",
    "        return True\n",
    "    else:\n",
    "        #print(statement)\n",
    "        return False\n",
    "    \n",
    "    \n",
    "    "
   ]
  },
  {
   "cell_type": "code",
   "execution_count": null,
   "metadata": {},
   "outputs": [],
   "source": []
  },
  {
   "cell_type": "markdown",
   "metadata": {},
   "source": [
    "## Graph "
   ]
  },
  {
   "cell_type": "code",
   "execution_count": 40,
   "metadata": {},
   "outputs": [],
   "source": [
    "from langgraph.graph import StateGraph, START, END\n",
    "from langgraph.checkpoint.memory import MemorySaver\n",
    "from IPython.display import display, Image"
   ]
  },
  {
   "cell_type": "code",
   "execution_count": 41,
   "metadata": {},
   "outputs": [
    {
     "data": {
      "text/plain": [
       "<langgraph.graph.state.StateGraph at 0x204db14e860>"
      ]
     },
     "execution_count": 41,
     "metadata": {},
     "output_type": "execute_result"
    }
   ],
   "source": [
    "builder= StateGraph(OverallState, input=InputState, output=OutputState)\n",
    "builder.add_node(select_relevant_schemas)\n",
    "builder.add_node(generate_query)\n",
    "builder.add_node(execute_query)\n",
    "builder.add_node(generate_answer)\n",
    "builder.add_node(general_chat)"
   ]
  },
  {
   "cell_type": "code",
   "execution_count": 42,
   "metadata": {},
   "outputs": [],
   "source": [
    "builder.add_edge(START,\"select_relevant_schemas\")\n",
    "builder.add_conditional_edges(\"select_relevant_schemas\",check_question)\n",
    "builder.add_edge(\"generate_query\",\"execute_query\")\n",
    "builder.add_conditional_edges(\"execute_query\",router)\n",
    "builder.add_edge(\"generate_answer\",END)\n",
    "builder.add_edge(\"general_chat\",END)\n",
    "\n",
    "memory=MemorySaver()\n",
    "graph= builder.compile(checkpointer=memory)\n",
    "\n"
   ]
  },
  {
   "cell_type": "code",
   "execution_count": 43,
   "metadata": {},
   "outputs": [
    {
     "data": {
      "image/png": "[encoded data removed]",
      "text/plain": [
       "<IPython.core.display.Image object>"
      ]
     },
     "metadata": {},
     "output_type": "display_data"
    }
   ],
   "source": [
    "display(Image(graph.get_graph().draw_mermaid_png()))"
   ]
  },
  {
   "cell_type": "code",
   "execution_count": 44,
   "metadata": {},
   "outputs": [
    {
     "name": "stdout",
     "output_type": "stream",
     "text": [
      "table_names ['employee_information']\n",
      "[SystemMessage(content='\\nYou are a SQL expert .You need to identify relevant tables from a SQL database to answer the user’s question.  \\nAvailable tables: [\\'employee_information\\']  \\nReturn a list of the relevant tables. If none are relevant, return an empty list.  \\nOnly return the list—no explanations.\\n\\nExamples:  \\nUser Question: \"What are the total sales for the last month?\"  \\nAvailable Tables: [\"users\", \"orders\", \"products\", \"inventory\", \"sales\"]  \\nResponse: [\"sales\"]  \\n\\nUser Question: \"Show me the list of employees in the HR department.\"  \\nAvailable Tables: [\"users\", \"orders\", \"employees\", \"departments\"]  \\nResponse: [\"employees\", \"departments\"]  \\n\\nUser Question: \"How many visitors accessed the website last week?\"  \\nAvailable Tables: [\"users\", \"orders\", \"products\"]  \\nResponse: []  \\n\\nDO NOT ANSWER THE QUESTION IF ITS NOT RELATED TO THE TABLE RATHER RETURN AN EMPTL LIST\\nUser Question: \" Hello i am John\"\\nResponse: []  \\n', additional_kwargs={}, response_metadata={}), HumanMessage(content='how mnany employees are present', additional_kwargs={}, response_metadata={})]\n",
      "relevant tables  ['employee_information']\n",
      "\n",
      "CREATE TABLE employee_information (\n",
      "\t`ID` INTEGER NOT NULL AUTO_INCREMENT, \n",
      "\t`Emp_Id` VARCHAR(10) COLLATE utf8mb4_unicode_ci NOT NULL, \n",
      "\t`SSN` VARBINARY(256) COMMENT 'Encrypted SSN', \n",
      "\t`FirstName` VARCHAR(30) COLLATE utf8mb4_unicode_ci NOT NULL, \n",
      "\t`MiddleName` VARCHAR(30) COLLATE utf8mb4_unicode_ci, \n",
      "\t`LastName` VARCHAR(30) COLLATE utf8mb4_unicode_ci NOT NULL, \n",
      "\t`ETYPE` ENUM('FT','PT','CONT','TEMP','INT') COLLATE utf8mb4_unicode_ci NOT NULL, \n",
      "\t`DOB` DATE, \n",
      "\t`Gender` ENUM('M','F','O') COLLATE utf8mb4_unicode_ci, \n",
      "\t`Ethnicity` VARCHAR(5) COLLATE utf8mb4_unicode_ci, \n",
      "\t`Email` VARCHAR(200) COLLATE utf8mb4_unicode_ci, \n",
      "\t`AltEmail` VARCHAR(200) COLLATE utf8mb4_unicode_ci, \n",
      "\t`Mobile` VARCHAR(20) COLLATE utf8mb4_unicode_ci, \n",
      "\t`Address` VARCHAR(300) COLLATE utf8mb4_unicode_ci, \n",
      "\t`City` VARCHAR(30) COLLATE utf8mb4_unicode_ci, \n",
      "\t`State` VARCHAR(30) COLLATE utf8mb4_unicode_ci, \n",
      "\t`Postalcode` VARCHAR(10) COLLATE utf8mb4_unicode_ci, \n",
      "\t`EmgrCName` VARCHAR(30) COLLATE utf8mb4_unicode_ci, \n",
      "\t`EmgrCAddress` VARCHAR(300) COLLATE utf8mb4_unicode_ci, \n",
      "\t`EmgrCCity` VARCHAR(45) COLLATE utf8mb4_unicode_ci, \n",
      "\t`EmgrCState` VARCHAR(25) COLLATE utf8mb4_unicode_ci, \n",
      "\t`EmgrCPostalcode` VARCHAR(20) COLLATE utf8mb4_unicode_ci, \n",
      "\t`EmgrCMobile` VARCHAR(20) COLLATE utf8mb4_unicode_ci, \n",
      "\t`Relationship` VARCHAR(50) COLLATE utf8mb4_unicode_ci, \n",
      "\t`VisaType` VARCHAR(30) COLLATE utf8mb4_unicode_ci, \n",
      "\t`VisaExpDate` DATE, \n",
      "\t`IdType` ENUM('PP','DL','SSN','OTH') COLLATE utf8mb4_unicode_ci, \n",
      "\t`IdNumber` VARCHAR(30) COLLATE utf8mb4_unicode_ci, \n",
      "\t`IdExpDate` DATE, \n",
      "\t`HiringModelCode` VARCHAR(10) COLLATE utf8mb4_unicode_ci, \n",
      "\t`HiringModel_Eff_Date` DATE, \n",
      "\t`Salary` DECIMAL(10, 2) DEFAULT '0.00', \n",
      "\t`Salary_Eff_Dt` DATE, \n",
      "\t`ProjectBonus` DECIMAL(10, 2) DEFAULT '0.00', \n",
      "\t`ProjBns_Eff_Dt` DATE, \n",
      "\t`AnnualBonus` DECIMAL(10, 2) DEFAULT '0.00', \n",
      "\t`AnnBonusStartDate` DATE, \n",
      "\t`AnnualBns_Eff_Dt` DATE, \n",
      "\t`SemiAnnlBonus` DECIMAL(10, 2) DEFAULT '0.00', \n",
      "\t`SAnnBonusStartDate` DATE, \n",
      "\t`SemiAnnlBns_Eff_Dt` DATE, \n",
      "\t`Approver_Id` VARCHAR(10) COLLATE utf8mb4_unicode_ci, \n",
      "\t`HR_Id` VARCHAR(15) COLLATE utf8mb4_unicode_ci, \n",
      "\t`Accounting_Id` VARCHAR(15) COLLATE utf8mb4_unicode_ci, \n",
      "\t`Role` VARCHAR(30) COLLATE utf8mb4_unicode_ci, \n",
      "\t`JobTitle` VARCHAR(50) COLLATE utf8mb4_unicode_ci, \n",
      "\t`Department` VARCHAR(25) COLLATE utf8mb4_unicode_ci, \n",
      "\t`SkillSet` VARCHAR(250) COLLATE utf8mb4_unicode_ci, \n",
      "\t`HiringDate` DATE, \n",
      "\t`Medical_Plan` ENUM('BASIC','PREMIUM','FAMILY','NONE') COLLATE utf8mb4_unicode_ci, \n",
      "\t`Medical_Coverage` VARCHAR(10) COLLATE utf8mb4_unicode_ci, \n",
      "\t`Dental_Coverage` VARCHAR(10) COLLATE utf8mb4_unicode_ci, \n",
      "\t`Vision_Coverage` VARCHAR(10) COLLATE utf8mb4_unicode_ci, \n",
      "\t`Life_Insurance` TINYINT(1), \n",
      "\t`InsEff_Date` DATE NOT NULL, \n",
      "\t`Client_Name` VARCHAR(45) COLLATE utf8mb4_unicode_ci, \n",
      "\t`Client_Address` VARCHAR(200) COLLATE utf8mb4_unicode_ci, \n",
      "\t`Client_City` VARCHAR(50) COLLATE utf8mb4_unicode_ci, \n",
      "\t`Client_State` VARCHAR(45) COLLATE utf8mb4_unicode_ci, \n",
      "\t`Client_Postalcode` VARCHAR(25) COLLATE utf8mb4_unicode_ci, \n",
      "\t`Old_Comments` LONGTEXT COLLATE utf8mb4_unicode_ci, \n",
      "\t`New_Comments` LONGTEXT COLLATE utf8mb4_unicode_ci, \n",
      "\t`Business_Unit` VARCHAR(45) COLLATE utf8mb4_unicode_ci, \n",
      "\t`OriginalFinder` VARCHAR(30) COLLATE utf8mb4_unicode_ci, \n",
      "\t`CreateDate` TIMESTAMP NULL DEFAULT CURRENT_TIMESTAMP, \n",
      "\t`ModifiedDate` TIMESTAMP NULL DEFAULT CURRENT_TIMESTAMP ON UPDATE CURRENT_TIMESTAMP, \n",
      "\t`LastModifiedBy` VARCHAR(10) COLLATE utf8mb4_unicode_ci, \n",
      "\t`Payroll_Id` VARCHAR(10) COLLATE utf8mb4_unicode_ci, \n",
      "\t`Pay_Schedule` ENUM('Weekly','Biweekly','Monthly') COLLATE utf8mb4_unicode_ci NOT NULL DEFAULT 'Monthly', \n",
      "\t`CustomTS` TINYINT(1), \n",
      "\t`AdminTS` TINYINT(1), \n",
      "\t`PartialTS` TINYINT(1), \n",
      "\t`Floater` TINYINT(1), \n",
      "\t`PunchIn` TINYINT(1) DEFAULT '0', \n",
      "\t`Category` CHAR(2) COLLATE utf8mb4_unicode_ci, \n",
      "\t`Time_Approver` TINYINT(1), \n",
      "\t`HL_Employee` TINYINT(1), \n",
      "\t`Status` ENUM('Active','Inactive','Terminated','LOA') COLLATE utf8mb4_unicode_ci DEFAULT 'Active', \n",
      "\t`Contribution_401K` TINYINT(1), \n",
      "\t`Amount_401K` DECIMAL(8, 2), \n",
      "\t`Percentage_401K` DECIMAL(5, 2), \n",
      "\t`Eff_Date_401K` DATE NOT NULL, \n",
      "\t`Termination_Date` DATE, \n",
      "\t`Supplier_Id` VARCHAR(10) COLLATE utf8mb4_unicode_ci, \n",
      "\t`Bulk_Upload` ENUM('Yes','No') COLLATE utf8mb4_unicode_ci, \n",
      "\t`ActiveFlag` TINYINT(1) DEFAULT '1', \n",
      "\tPRIMARY KEY (`ID`), \n",
      "\tCONSTRAINT chk_percentage_401k CHECK ((`Percentage_401K` between 0 and 100)), \n",
      "\tCONSTRAINT chk_salary CHECK ((`Salary` >= 0))\n",
      ")ENGINE=InnoDB COLLATE utf8mb4_unicode_ci DEFAULT CHARSET=utf8mb4\n",
      "\n",
      "/*\n",
      "3 rows from employee_information table:\n",
      "ID\tEmp_Id\tSSN\tFirstName\tMiddleName\tLastName\tETYPE\tDOB\tGender\tEthnicity\tEmail\tAltEmail\tMobile\tAddress\tCity\tState\tPostalcode\tEmgrCName\tEmgrCAddress\tEmgrCCity\tEmgrCState\tEmgrCPostalcode\tEmgrCMobile\tRelationship\tVisaType\tVisaExpDate\tIdType\tIdNumber\tIdExpDate\tHiringModelCode\tHiringModel_Eff_Date\tSalary\tSalary_Eff_Dt\tProjectBonus\tProjBns_Eff_Dt\tAnnualBonus\tAnnBonusStartDate\tAnnualBns_Eff_Dt\tSemiAnnlBonus\tSAnnBonusStartDate\tSemiAnnlBns_Eff_Dt\tApprover_Id\tHR_Id\tAccounting_Id\tRole\tJobTitle\tDepartment\tSkillSet\tHiringDate\tMedical_Plan\tMedical_Coverage\tDental_Coverage\tVision_Coverage\tLife_Insurance\tInsEff_Date\tClient_Name\tClient_Address\tClient_City\tClient_State\tClient_Postalcode\tOld_Comments\tNew_Comments\tBusiness_Unit\tOriginalFinder\tCreateDate\tModifiedDate\tLastModifiedBy\tPayroll_Id\tPay_Schedule\tCustomTS\tAdminTS\tPartialTS\tFloater\tPunchIn\tCategory\tTime_Approver\tHL_Employee\tStatus\tContribution_401K\tAmount_401K\tPercentage_401K\tEff_Date_401K\tTermination_Date\tSupplier_Id\tBulk_Upload\tActiveFlag\n",
      "1\tEMP001\tb'\\x04\\xeb\\n\\xa0\\xc9\\xd4\\xb0S\\xa0u\\xc6s\\x03\\x80\\xe7\\xc7al\\x8c\\x14/\\xb8\\xc8\\x8cH\\xdd\\xcev\\t\\x83\\x1d\\x\tJohn\tNone\tSmith\tFT\t1985-03-15\tM\tCAUC\tjohn.smith@email.com\tjs.alt@email.com\t555-0101\t123 Main St\tNew York\tNY\t10001\tMary Smith\t456 Oak Ave\tNew York\tNY\t10002\t555-0102\tSpouse\tNone\tNone\tDL\tDL123456\t2025-03-15\tFTE\t2020-01-15\t85000.00\t2020-01-15\t5000.00\t2020-01-15\t8500.00\t2020-01-15\t2020-01-15\t4250.00\t2020-01-15\t2020-01-15\tMGR001\tHR001\tACC001\tDeveloper\tSenior Developer\tIT\tJava,Spring,SQL\t2020-01-15\tPREMIUM\tFULL\tFULL\tFULL\t1\t2020-01-15\tTechCorp\t789 Tech Ave\tNew York\tNY\t10003\tInitial hire\tNone\tTechnology\tREF001\t2025-02-05 18:35:19\t2025-02-05 18:35:19\tADMIN1\tPAY001\tMonthly\t1\t0\t0\t0\t0\tFT\t0\t1\tActive\t1\t5000.00\t6.00\t2020-01-15\tNone\tSUP001\tNo\t1\n",
      "2\tEMP002\tb'\\xed\\x9eOu\\x98!\\x8a\\x19\\xb5\\x8b\\xc4\\xd0\\xe5\\x9cL\\xcf\\xadC\\x11\\x93\\xd8s\\x90]\\x1b\\xac]\\xbe\\x8a\\xf9\\x\tSarah\tJane\tJohnson\tFT\t1990-06-22\tF\tCAUC\tsarah.j@email.com\tsj.alt@email.com\t555-0103\t456 Park Rd\tBoston\tMA\t02108\tTom Johnson\t789 Pine St\tBoston\tMA\t02109\t555-0104\tBrother\tNone\tNone\tPP\tPP789012\t2026-06-22\tFTE\t2020-02-01\t92000.00\t2020-02-01\t6000.00\t2020-02-01\t9200.00\t2020-02-01\t2020-02-01\t4600.00\t2020-02-01\t2020-02-01\tMGR002\tHR002\tACC002\tAnalyst\tBusiness Analyst\tFinance\tExcel,SQL,Tableau\t2020-02-01\tFAMILY\tFULL\tFULL\tFULL\t1\t2020-02-01\tFinCorp\t101 Finance St\tBoston\tMA\t02110\tExperienced hire\tNone\tFinance\tREF002\t2025-02-05 18:35:19\t2025-02-05 18:35:19\tADMIN1\tPAY002\tMonthly\t0\t0\t0\t1\t0\tFT\t0\t1\tActive\t1\t6000.00\t7.00\t2020-02-01\tNone\tSUP002\tNo\t1\n",
      "8\tEMP003\tb'\\xf1(u\\xeb\\xc5=\\x15\\x9e\\x0f_k\\xc0\\xb8\\x82\\xb3b\\x8d\\x06\\xdc\\xaf\\x08D\\x921\\xe8\\x133\\x9cC\\xecE\\xbb\\x9\tMichael\tR\tChen\tFT\t1988-11-30\tM\tASIAN\tmichael.chen@email.com\tmc.personal@email.com\t555-0105\t789 Pine St\tSan Francisco\tCA\t94101\tLisa Chen\t321 Elm St\tSan Francisco\tCA\t94102\t555-0106\tWife\tH1B\t2025-11-30\tPP\tPP345678\t2025-11-30\tFTE\t2021-02-01\t95000.00\t2021-02-01\t7000.00\t2021-02-01\t9500.00\t2021-02-01\t2021-02-01\t4750.00\t2021-02-01\t2021-02-01\tMGR003\tHR003\tACC003\tEngineer\tSoftware Engineer\tIT\tPython,AWS,Docker\t2021-02-01\tBASIC\tFULL\tFULL\tFULL\t1\t2021-02-01\tTechCorp\t789 Tech Ave\tSan Francisco\tCA\t94103\tH1B transfer\tNone\tTechnology\tREF003\t2025-02-05 18:38:01\t2025-02-05 18:38:01\tADMIN1\tPAY003\tMonthly\t0\t0\t0\t0\t0\tFT\t0\t1\tActive\t1\t7000.00\t8.00\t2021-02-01\tNone\tSUP003\tNo\t1\n",
      "*/\n",
      "\n",
      "CREATE TABLE employee_information (\n",
      "\t`ID` INTEGER NOT NULL AUTO_INCREMENT, \n",
      "\t`Emp_Id` VARCHAR(10) COLLATE utf8mb4_unicode_ci NOT NULL, \n",
      "\t`SSN` VARBINARY(256) COMMENT 'Encrypted SSN', \n",
      "\t`FirstName` VARCHAR(30) COLLATE utf8mb4_unicode_ci NOT NULL, \n",
      "\t`MiddleName` VARCHAR(30) COLLATE utf8mb4_unicode_ci, \n",
      "\t`LastName` VARCHAR(30) COLLATE utf8mb4_unicode_ci NOT NULL, \n",
      "\t`ETYPE` ENUM('FT','PT','CONT','TEMP','INT') COLLATE utf8mb4_unicode_ci NOT NULL, \n",
      "\t`DOB` DATE, \n",
      "\t`Gender` ENUM('M','F','O') COLLATE utf8mb4_unicode_ci, \n",
      "\t`Ethnicity` VARCHAR(5) COLLATE utf8mb4_unicode_ci, \n",
      "\t`Email` VARCHAR(200) COLLATE utf8mb4_unicode_ci, \n",
      "\t`AltEmail` VARCHAR(200) COLLATE utf8mb4_unicode_ci, \n",
      "\t`Mobile` VARCHAR(20) COLLATE utf8mb4_unicode_ci, \n",
      "\t`Address` VARCHAR(300) COLLATE utf8mb4_unicode_ci, \n",
      "\t`City` VARCHAR(30) COLLATE utf8mb4_unicode_ci, \n",
      "\t`State` VARCHAR(30) COLLATE utf8mb4_unicode_ci, \n",
      "\t`Postalcode` VARCHAR(10) COLLATE utf8mb4_unicode_ci, \n",
      "\t`EmgrCName` VARCHAR(30) COLLATE utf8mb4_unicode_ci, \n",
      "\t`EmgrCAddress` VARCHAR(300) COLLATE utf8mb4_unicode_ci, \n",
      "\t`EmgrCCity` VARCHAR(45) COLLATE utf8mb4_unicode_ci, \n",
      "\t`EmgrCState` VARCHAR(25) COLLATE utf8mb4_unicode_ci, \n",
      "\t`EmgrCPostalcode` VARCHAR(20) COLLATE utf8mb4_unicode_ci, \n",
      "\t`EmgrCMobile` VARCHAR(20) COLLATE utf8mb4_unicode_ci, \n",
      "\t`Relationship` VARCHAR(50) COLLATE utf8mb4_unicode_ci, \n",
      "\t`VisaType` VARCHAR(30) COLLATE utf8mb4_unicode_ci, \n",
      "\t`VisaExpDate` DATE, \n",
      "\t`IdType` ENUM('PP','DL','SSN','OTH') COLLATE utf8mb4_unicode_ci, \n",
      "\t`IdNumber` VARCHAR(30) COLLATE utf8mb4_unicode_ci, \n",
      "\t`IdExpDate` DATE, \n",
      "\t`HiringModelCode` VARCHAR(10) COLLATE utf8mb4_unicode_ci, \n",
      "\t`HiringModel_Eff_Date` DATE, \n",
      "\t`Salary` DECIMAL(10, 2) DEFAULT '0.00', \n",
      "\t`Salary_Eff_Dt` DATE, \n",
      "\t`ProjectBonus` DECIMAL(10, 2) DEFAULT '0.00', \n",
      "\t`ProjBns_Eff_Dt` DATE, \n",
      "\t`AnnualBonus` DECIMAL(10, 2) DEFAULT '0.00', \n",
      "\t`AnnBonusStartDate` DATE, \n",
      "\t`AnnualBns_Eff_Dt` DATE, \n",
      "\t`SemiAnnlBonus` DECIMAL(10, 2) DEFAULT '0.00', \n",
      "\t`SAnnBonusStartDate` DATE, \n",
      "\t`SemiAnnlBns_Eff_Dt` DATE, \n",
      "\t`Approver_Id` VARCHAR(10) COLLATE utf8mb4_unicode_ci, \n",
      "\t`HR_Id` VARCHAR(15) COLLATE utf8mb4_unicode_ci, \n",
      "\t`Accounting_Id` VARCHAR(15) COLLATE utf8mb4_unicode_ci, \n",
      "\t`Role` VARCHAR(30) COLLATE utf8mb4_unicode_ci, \n",
      "\t`JobTitle` VARCHAR(50) COLLATE utf8mb4_unicode_ci, \n",
      "\t`Department` VARCHAR(25) COLLATE utf8mb4_unicode_ci, \n",
      "\t`SkillSet` VARCHAR(250) COLLATE utf8mb4_unicode_ci, \n",
      "\t`HiringDate` DATE, \n",
      "\t`Medical_Plan` ENUM('BASIC','PREMIUM','FAMILY','NONE') COLLATE utf8mb4_unicode_ci, \n",
      "\t`Medical_Coverage` VARCHAR(10) COLLATE utf8mb4_unicode_ci, \n",
      "\t`Dental_Coverage` VARCHAR(10) COLLATE utf8mb4_unicode_ci, \n",
      "\t`Vision_Coverage` VARCHAR(10) COLLATE utf8mb4_unicode_ci, \n",
      "\t`Life_Insurance` TINYINT(1), \n",
      "\t`InsEff_Date` DATE NOT NULL, \n",
      "\t`Client_Name` VARCHAR(45) COLLATE utf8mb4_unicode_ci, \n",
      "\t`Client_Address` VARCHAR(200) COLLATE utf8mb4_unicode_ci, \n",
      "\t`Client_City` VARCHAR(50) COLLATE utf8mb4_unicode_ci, \n",
      "\t`Client_State` VARCHAR(45) COLLATE utf8mb4_unicode_ci, \n",
      "\t`Client_Postalcode` VARCHAR(25) COLLATE utf8mb4_unicode_ci, \n",
      "\t`Old_Comments` LONGTEXT COLLATE utf8mb4_unicode_ci, \n",
      "\t`New_Comments` LONGTEXT COLLATE utf8mb4_unicode_ci, \n",
      "\t`Business_Unit` VARCHAR(45) COLLATE utf8mb4_unicode_ci, \n",
      "\t`OriginalFinder` VARCHAR(30) COLLATE utf8mb4_unicode_ci, \n",
      "\t`CreateDate` TIMESTAMP NULL DEFAULT CURRENT_TIMESTAMP, \n",
      "\t`ModifiedDate` TIMESTAMP NULL DEFAULT CURRENT_TIMESTAMP ON UPDATE CURRENT_TIMESTAMP, \n",
      "\t`LastModifiedBy` VARCHAR(10) COLLATE utf8mb4_unicode_ci, \n",
      "\t`Payroll_Id` VARCHAR(10) COLLATE utf8mb4_unicode_ci, \n",
      "\t`Pay_Schedule` ENUM('Weekly','Biweekly','Monthly') COLLATE utf8mb4_unicode_ci NOT NULL DEFAULT 'Monthly', \n",
      "\t`CustomTS` TINYINT(1), \n",
      "\t`AdminTS` TINYINT(1), \n",
      "\t`PartialTS` TINYINT(1), \n",
      "\t`Floater` TINYINT(1), \n",
      "\t`PunchIn` TINYINT(1) DEFAULT '0', \n",
      "\t`Category` CHAR(2) COLLATE utf8mb4_unicode_ci, \n",
      "\t`Time_Approver` TINYINT(1), \n",
      "\t`HL_Employee` TINYINT(1), \n",
      "\t`Status` ENUM('Active','Inactive','Terminated','LOA') COLLATE utf8mb4_unicode_ci DEFAULT 'Active', \n",
      "\t`Contribution_401K` TINYINT(1), \n",
      "\t`Amount_401K` DECIMAL(8, 2), \n",
      "\t`Percentage_401K` DECIMAL(5, 2), \n",
      "\t`Eff_Date_401K` DATE NOT NULL, \n",
      "\t`Termination_Date` DATE, \n",
      "\t`Supplier_Id` VARCHAR(10) COLLATE utf8mb4_unicode_ci, \n",
      "\t`Bulk_Upload` ENUM('Yes','No') COLLATE utf8mb4_unicode_ci, \n",
      "\t`ActiveFlag` TINYINT(1) DEFAULT '1', \n",
      "\tPRIMARY KEY (`ID`), \n",
      "\tCONSTRAINT chk_percentage_401k CHECK ((`Percentage_401K` between 0 and 100)), \n",
      "\tCONSTRAINT chk_salary CHECK ((`Salary` >= 0))\n",
      ")ENGINE=InnoDB COLLATE utf8mb4_unicode_ci DEFAULT CHARSET=utf8mb4\n",
      "\n",
      "/*\n",
      "3 rows from employee_information table:\n",
      "ID\tEmp_Id\tSSN\tFirstName\tMiddleName\tLastName\tETYPE\tDOB\tGender\tEthnicity\tEmail\tAltEmail\tMobile\tAddress\tCity\tState\tPostalcode\tEmgrCName\tEmgrCAddress\tEmgrCCity\tEmgrCState\tEmgrCPostalcode\tEmgrCMobile\tRelationship\tVisaType\tVisaExpDate\tIdType\tIdNumber\tIdExpDate\tHiringModelCode\tHiringModel_Eff_Date\tSalary\tSalary_Eff_Dt\tProjectBonus\tProjBns_Eff_Dt\tAnnualBonus\tAnnBonusStartDate\tAnnualBns_Eff_Dt\tSemiAnnlBonus\tSAnnBonusStartDate\tSemiAnnlBns_Eff_Dt\tApprover_Id\tHR_Id\tAccounting_Id\tRole\tJobTitle\tDepartment\tSkillSet\tHiringDate\tMedical_Plan\tMedical_Coverage\tDental_Coverage\tVision_Coverage\tLife_Insurance\tInsEff_Date\tClient_Name\tClient_Address\tClient_City\tClient_State\tClient_Postalcode\tOld_Comments\tNew_Comments\tBusiness_Unit\tOriginalFinder\tCreateDate\tModifiedDate\tLastModifiedBy\tPayroll_Id\tPay_Schedule\tCustomTS\tAdminTS\tPartialTS\tFloater\tPunchIn\tCategory\tTime_Approver\tHL_Employee\tStatus\tContribution_401K\tAmount_401K\tPercentage_401K\tEff_Date_401K\tTermination_Date\tSupplier_Id\tBulk_Upload\tActiveFlag\n",
      "1\tEMP001\tb'\\x04\\xeb\\n\\xa0\\xc9\\xd4\\xb0S\\xa0u\\xc6s\\x03\\x80\\xe7\\xc7al\\x8c\\x14/\\xb8\\xc8\\x8cH\\xdd\\xcev\\t\\x83\\x1d\\x\tJohn\tNone\tSmith\tFT\t1985-03-15\tM\tCAUC\tjohn.smith@email.com\tjs.alt@email.com\t555-0101\t123 Main St\tNew York\tNY\t10001\tMary Smith\t456 Oak Ave\tNew York\tNY\t10002\t555-0102\tSpouse\tNone\tNone\tDL\tDL123456\t2025-03-15\tFTE\t2020-01-15\t85000.00\t2020-01-15\t5000.00\t2020-01-15\t8500.00\t2020-01-15\t2020-01-15\t4250.00\t2020-01-15\t2020-01-15\tMGR001\tHR001\tACC001\tDeveloper\tSenior Developer\tIT\tJava,Spring,SQL\t2020-01-15\tPREMIUM\tFULL\tFULL\tFULL\t1\t2020-01-15\tTechCorp\t789 Tech Ave\tNew York\tNY\t10003\tInitial hire\tNone\tTechnology\tREF001\t2025-02-05 18:35:19\t2025-02-05 18:35:19\tADMIN1\tPAY001\tMonthly\t1\t0\t0\t0\t0\tFT\t0\t1\tActive\t1\t5000.00\t6.00\t2020-01-15\tNone\tSUP001\tNo\t1\n",
      "2\tEMP002\tb'\\xed\\x9eOu\\x98!\\x8a\\x19\\xb5\\x8b\\xc4\\xd0\\xe5\\x9cL\\xcf\\xadC\\x11\\x93\\xd8s\\x90]\\x1b\\xac]\\xbe\\x8a\\xf9\\x\tSarah\tJane\tJohnson\tFT\t1990-06-22\tF\tCAUC\tsarah.j@email.com\tsj.alt@email.com\t555-0103\t456 Park Rd\tBoston\tMA\t02108\tTom Johnson\t789 Pine St\tBoston\tMA\t02109\t555-0104\tBrother\tNone\tNone\tPP\tPP789012\t2026-06-22\tFTE\t2020-02-01\t92000.00\t2020-02-01\t6000.00\t2020-02-01\t9200.00\t2020-02-01\t2020-02-01\t4600.00\t2020-02-01\t2020-02-01\tMGR002\tHR002\tACC002\tAnalyst\tBusiness Analyst\tFinance\tExcel,SQL,Tableau\t2020-02-01\tFAMILY\tFULL\tFULL\tFULL\t1\t2020-02-01\tFinCorp\t101 Finance St\tBoston\tMA\t02110\tExperienced hire\tNone\tFinance\tREF002\t2025-02-05 18:35:19\t2025-02-05 18:35:19\tADMIN1\tPAY002\tMonthly\t0\t0\t0\t1\t0\tFT\t0\t1\tActive\t1\t6000.00\t7.00\t2020-02-01\tNone\tSUP002\tNo\t1\n",
      "8\tEMP003\tb'\\xf1(u\\xeb\\xc5=\\x15\\x9e\\x0f_k\\xc0\\xb8\\x82\\xb3b\\x8d\\x06\\xdc\\xaf\\x08D\\x921\\xe8\\x133\\x9cC\\xecE\\xbb\\x9\tMichael\tR\tChen\tFT\t1988-11-30\tM\tASIAN\tmichael.chen@email.com\tmc.personal@email.com\t555-0105\t789 Pine St\tSan Francisco\tCA\t94101\tLisa Chen\t321 Elm St\tSan Francisco\tCA\t94102\t555-0106\tWife\tH1B\t2025-11-30\tPP\tPP345678\t2025-11-30\tFTE\t2021-02-01\t95000.00\t2021-02-01\t7000.00\t2021-02-01\t9500.00\t2021-02-01\t2021-02-01\t4750.00\t2021-02-01\t2021-02-01\tMGR003\tHR003\tACC003\tEngineer\tSoftware Engineer\tIT\tPython,AWS,Docker\t2021-02-01\tBASIC\tFULL\tFULL\tFULL\t1\t2021-02-01\tTechCorp\t789 Tech Ave\tSan Francisco\tCA\t94103\tH1B transfer\tNone\tTechnology\tREF003\t2025-02-05 18:38:01\t2025-02-05 18:38:01\tADMIN1\tPAY003\tMonthly\t0\t0\t0\t0\t0\tFT\t0\t1\tActive\t1\t7000.00\t8.00\t2021-02-01\tNone\tSUP003\tNo\t1\n",
      "*/\n",
      "past queries []\n",
      "question how mnany employees are present\n",
      "generated statement  SELECT COUNT(*) FROM employee_information;\n",
      "generated reasoning  To determine the total number of employees, we use the COUNT(*) function which counts all rows in the employee_information table. This gives a straightforward total number of employees present in the database.\n",
      "attempts 1\n",
      "max_attempts 2\n",
      "\n",
      "result of query [(50,)]\n",
      "query on info:  SQL query:\n",
      "SELECT COUNT(*) FROM employee_information;\n",
      "\n",
      "The reasoning you used to create that query was:\n",
      "To determine the total number of employees, we use the COUNT(*) function which counts all rows in the employee_information table. This gives a straightforward total number of employees present in the database.\n",
      "\n",
      "And this is the result you get:\n",
      "[(50,)]\n",
      "\n",
      "response = {'answer': 'The company currently has 50 employees.', 'error_message': '', 'general_message': []}\n"
     ]
    }
   ],
   "source": [
    "thread_1 = {\"configurable\": {\"thread_id\": \"1\"}}\n",
    "question = \"how mnany employees are present\"\n",
    "response = graph.invoke({\"question\": question, \"max_attempts\": 2}, thread_1)\n",
    "print(f\"\\n{response = }\")"
   ]
  },
  {
   "cell_type": "code",
   "execution_count": 217,
   "metadata": {},
   "outputs": [
    {
     "data": {
      "text/plain": [
       "'The company currently has 50 employees.'"
      ]
     },
     "execution_count": 217,
     "metadata": {},
     "output_type": "execute_result"
    }
   ],
   "source": [
    "response['answer']"
   ]
  },
  {
   "cell_type": "code",
   "execution_count": 88,
   "metadata": {},
   "outputs": [
    {
     "data": {
      "text/plain": [
       "{'answer': 'The company currently has 50 employees.',\n",
       " 'error_message': '',\n",
       " 'general_message': []}"
      ]
     },
     "execution_count": 88,
     "metadata": {},
     "output_type": "execute_result"
    }
   ],
   "source": [
    "response"
   ]
  },
  {
   "cell_type": "code",
   "execution_count": null,
   "metadata": {},
   "outputs": [],
   "source": []
  }
 ],
 "metadata": {
  "kernelspec": {
   "display_name": ".venv",
   "language": "python",
   "name": "python3"
  },
  "language_info": {
   "codemirror_mode": {
    "name": "ipython",
    "version": 3
   },
   "file_extension": ".py",
   "mimetype": "text/x-python",
   "name": "python",
   "nbconvert_exporter": "python",
   "pygments_lexer": "ipython3",
   "version": "3.10.0"
  }
 },
 "nbformat": 4,
 "nbformat_minor": 2
}
