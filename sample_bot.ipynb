{
 "cells": [
  {
   "cell_type": "code",
   "execution_count": 1,
   "metadata": {},
   "outputs": [],
   "source": [
    "from langchain_community.agent_toolkits import SQLDatabaseToolkit\n",
    "from langchain_core.tools import tool\n",
    "from pydantic import BaseModel, Field\n",
    "from langchain_groq import ChatGroq\n",
    "from langchain_core.prompts import ChatPromptTemplate"
   ]
  },
  {
   "cell_type": "code",
   "execution_count": 2,
   "metadata": {},
   "outputs": [
    {
     "name": "stdout",
     "output_type": "stream",
     "text": [
      "hello world\n"
     ]
    }
   ],
   "source": [
    "print(\"hello world\")"
   ]
  },
  {
   "cell_type": "code",
   "execution_count": 3,
   "metadata": {},
   "outputs": [],
   "source": [
    "import getpass\n",
    "import os\n",
    "\n",
    "from dotenv import load_dotenv\n",
    "\n",
    "load_dotenv()\n",
    "\n",
    "def set_env(key: str):\n",
    "  if key not in os.environ:\n",
    "    os.environ[key]=getpass.getpass(f\"{key}:\")\n"
   ]
  },
  {
   "cell_type": "code",
   "execution_count": 4,
   "metadata": {},
   "outputs": [],
   "source": [
    "set_env(\"GROQ_API_KEY\")\n",
    "set_env(\"LANGCHAIN_API_KEY\")\n",
    "os.environ[\"LANGCHAIN_TRACING_V2\"]=\"true\"\n",
    "os.environ[\"LANGCHAIN_PROJECT\"]=\"sql-llm-agent-og\""
   ]
  },
  {
   "cell_type": "code",
   "execution_count": 5,
   "metadata": {},
   "outputs": [],
   "source": [
    "username = \"root\"\n",
    "password = \"jagan2911\"\n",
    "host = 'localhost'\n",
    "database = 'jagandb'"
   ]
  },
  {
   "cell_type": "code",
   "execution_count": 6,
   "metadata": {},
   "outputs": [],
   "source": [
    "from langchain_community.utilities import SQLDatabase\n",
    "import pymysql"
   ]
  },
  {
   "cell_type": "code",
   "execution_count": 7,
   "metadata": {},
   "outputs": [
    {
     "name": "stdout",
     "output_type": "stream",
     "text": [
      "mysql\n",
      "['employee']\n"
     ]
    }
   ],
   "source": [
    "db = SQLDatabase.from_uri(f\"mysql+pymysql://{username}:{password}@{host}/{database}\",sample_rows_in_table_info = 3)\n",
    "print(db.dialect)\n",
    "print(db.get_usable_table_names())"
   ]
  },
  {
   "cell_type": "code",
   "execution_count": 8,
   "metadata": {},
   "outputs": [],
   "source": [
    "from langchain_community.utilities import SQLDatabase\n",
    "from typing import Any\n",
    "from langchain_core.runnables import RunnableWithFallbacks, RunnableLambda\n",
    "from langchain_core.messages import ToolMessage\n",
    "from langgraph.prebuilt import ToolNode"
   ]
  },
  {
   "cell_type": "code",
   "execution_count": 9,
   "metadata": {},
   "outputs": [],
   "source": [
    "QUERY_CHECK_INSTRUCTION = \"\"\"You are a SQL expert with a strong attention to detail.\n",
    "Double check the SQL query for common mistakes, including:\n",
    "- Using NOT IN with NULL values\n",
    "- Using UNION when UNION ALL should have been used\n",
    "- Using BETWEEN for exclusive ranges\n",
    "- Data type mismatch in predicates\n",
    "- Properly quoting identifiers\n",
    "- Using the correct number of arguments for functions\n",
    "- Casting to the correct data type\n",
    "- Using the proper columns for joins\n",
    "\n",
    "If there are any of the above mistakes, rewrite the query. If there are no mistakes, just reproduce the original query.\n",
    "\n",
    "You will call the appropriate tool to execute the query after running this check.\"\"\"\n",
    "\n",
    "\n",
    "QUERY_GEN_INSTRUCTION = \"\"\"You are a SQL expert with exceptional attention to detail. Your task is to analyze user requests, interpret SQL query results, and provide appropriate responses. Follow these instructions:\n",
    "\n",
    "Identify Key Components: Carefully analyze the user's message to determine:\n",
    "\n",
    "\n",
    "\n",
    "The user question.\n",
    "The provided table schemas.\n",
    "Any SQL query statements.\n",
    "The query result or error (if applicable).\n",
    "Handle Missing Queries: If no query result is available to answer the user's question:\n",
    "\n",
    "Construct a syntactically correct SQL query to address the user question.\n",
    "Do not perform any DML operations (e.g., INSERT, UPDATE, DELETE, DROP).\n",
    "Do not create any new tables with your own schema .\n",
    "Respond only with the SQL query statement.\n",
    "Example:\n",
    "SELECT id, name FROM pets;\n",
    "Handle Query Errors: If a query was executed but resulted in an error:\n",
    "\n",
    "Respond by repeating the exact error message.\n",
    "Example:\n",
    "\"Error: Pets table doesn't exist\"\n",
    "Interpret Results: If a query was executed successfully and returned results:\n",
    "\n",
    "Interpret the results to answer the user's question.\n",
    "Respond in the format: Answer: <<question answer>>\n",
    "Example:\n",
    "\"Answer: There are three cats registered as adopted.\"\n",
    "Instructions:\n",
    "Apply these steps to handle user queries effectively. Your primary focus is to ensure correctness, clarity, and precision in your responses.\n",
    "If you are unable to generate any query, reply that you dont have information to answer that question. Do not hallucinate.\n",
    "If there are any summaries present refer the previous queries and context provided in the summary for more reference.\n",
    "\"\"\""
   ]
  },
  {
   "cell_type": "code",
   "execution_count": 10,
   "metadata": {},
   "outputs": [],
   "source": [
    "def create_tool_node_with_fallback(tools:list)-> RunnableWithFallbacks[Any,dict]:\n",
    "    return ToolNode(tools).with_fallbacks(\n",
    "        [RunnableLambda(handle_tool_error)],exception_key=\"error\"\n",
    "    )\n",
    "def handle_tool_error(state)->dict:\n",
    "    error=state.get(\"error\")\n",
    "    tool_calls=state[\"messages\"][-1].tool_calls\n",
    "    return {\n",
    "        \"messages\":[ToolMessage(\n",
    "            content=f\"Error:{repr(error)}\\n Fix your code and try again. \",\n",
    "            tool_call_id=tc[\"id\"],\n",
    "        )\n",
    "         for tc in tool_calls          \n",
    "        ]\n",
    "    }   "
   ]
  },
  {
   "cell_type": "code",
   "execution_count": 11,
   "metadata": {},
   "outputs": [],
   "source": [
    "toolkit= SQLDatabaseToolkit(db=db, llm=ChatGroq(model=\"llama-3.3-70b-specdec\"))\n",
    "tools= toolkit.get_tools()"
   ]
  },
  {
   "cell_type": "code",
   "execution_count": 12,
   "metadata": {},
   "outputs": [
    {
     "name": "stdout",
     "output_type": "stream",
     "text": [
      "employee\n",
      "\n",
      "CREATE TABLE employee (\n",
      "\t`EmployeeID` INTEGER NOT NULL, \n",
      "\t`EmployeeName` VARCHAR(255) NOT NULL, \n",
      "\t`DateOfJoining` DATE NOT NULL, \n",
      "\t`EmployeeType` VARCHAR(255), \n",
      "\t`PayTier` VARCHAR(255), \n",
      "\tPRIMARY KEY (`EmployeeID`)\n",
      ")ENGINE=InnoDB DEFAULT CHARSET=utf8mb4 COLLATE utf8mb4_0900_ai_ci\n",
      "\n",
      "/*\n",
      "3 rows from employee table:\n",
      "EmployeeID\tEmployeeName\tDateOfJoining\tEmployeeType\tPayTier\n",
      "1\tJohn Doe\t2023-01-15\tManager\tTier 1\n",
      "2\tJane Smith\t2022-06-01\tEngineer-1\tTier 3\n",
      "3\tAlice Johnson\t2021-09-12\tTester\tTier 4\n",
      "*/\n"
     ]
    }
   ],
   "source": [
    "toolkit= SQLDatabaseToolkit(db=db, llm=ChatGroq(model=\"llama-3.3-70b-specdec\"))\n",
    "tools= toolkit.get_tools()\n",
    "list_tables_tool=next(tool for tool in tools if tool.name==\"sql_db_list_tables\")    \n",
    "get_schema_tool=next(tool for tool in tools if tool.name==\"sql_db_schema\")\n",
    "\n",
    "print(list_tables_tool.invoke(\"\"))\n",
    "print(get_schema_tool.invoke(\"employee\"))"
   ]
  },
  {
   "cell_type": "code",
   "execution_count": 13,
   "metadata": {},
   "outputs": [
    {
     "name": "stdout",
     "output_type": "stream",
     "text": [
      "sql_db_query\n",
      "sql_db_schema\n",
      "sql_db_list_tables\n",
      "sql_db_query_checker\n"
     ]
    }
   ],
   "source": [
    "for tool in tools:\n",
    "    print(tool.name)"
   ]
  },
  {
   "cell_type": "code",
   "execution_count": 14,
   "metadata": {},
   "outputs": [],
   "source": [
    "from langchain_core.tools import tool\n",
    "\n",
    "@tool\n",
    "def db_query_tool(query:str)->str:\n",
    "    \"\"\"Executes an sql query against the database and gets back \n",
    "    the result. If query is not correct an error message is returned.\n",
    "\n",
    "    Args:\n",
    "        query (str): A valid sql query string\n",
    "\n",
    "    Returns:\n",
    "        str: The result of the query if present or an error message\n",
    "    \"\"\"\n",
    "    try:\n",
    "        result=db.run_no_throw(query)\n",
    "        if not result:\n",
    "            return \"Error: Query failed to return anything. Try again.\"\n",
    "        return result\n",
    "    except Exception as e:\n",
    "        return f\"Error: {str(e)}. Please check your query again.\""
   ]
  },
  {
   "cell_type": "code",
   "execution_count": 15,
   "metadata": {},
   "outputs": [
    {
     "name": "stdout",
     "output_type": "stream",
     "text": [
      "[(1, 'John Doe', datetime.date(2023, 1, 15), 'Manager', 'Tier 1'), (2, 'Jane Smith', datetime.date(2022, 6, 1), 'Engineer-1', 'Tier 3'), (3, 'Alice Johnson', datetime.date(2021, 9, 12), 'Tester', 'Tier 4'), (4, 'Bob Brown', datetime.date(2020, 3, 23), 'Engineer-2', 'Tier 2'), (5, 'Charlie Davis', datetime.date(2023, 7, 8), 'Team Lead', 'Tier 1'), (6, 'Eve Martin', datetime.date(2019, 11, 5), 'Engineer-1', 'Tier 3'), (7, 'Frank White', datetime.date(2022, 2, 17), 'Tester', 'Tier 4'), (8, 'Grace Green', datetime.date(2021, 8, 30), 'Manager', 'Tier 1'), (9, 'Hank Lee', datetime.date(2020, 12, 19), 'Engineer-2', 'Tier 2'), (10, 'Ivy Wilson', datetime.date(2023, 3, 11), 'Team Lead', 'Tier 1'), (11, 'Jack Black', datetime.date(2022, 5, 25), 'Engineer-1', 'Tier 3'), (12, 'Karen Scott', datetime.date(2021, 7, 14), 'Tester', 'Tier 4'), (13, 'Larry Adams', datetime.date(2020, 9, 1), 'Engineer-2', 'Tier 2'), (14, 'Mona Young', datetime.date(2019, 4, 22), 'Manager', 'Tier 1'), (15, 'Nate King', datetime.date(2023, 10, 10), 'Team Lead', 'Tier 1'), (16, 'Olivia Perry', datetime.date(2023, 2, 10), 'Manager', 'Tier 1'), (17, 'Liam Gray', datetime.date(2022, 11, 15), 'Engineer-1', 'Tier 3'), (18, 'Sophia Reed', datetime.date(2021, 5, 20), 'Engineer-2', 'Tier 2'), (19, 'James Ward', datetime.date(2020, 8, 10), 'Tester', 'Tier 4'), (20, 'Charlotte Hall', datetime.date(2023, 6, 25), 'Team Lead', 'Tier 1'), (21, 'Benjamin Lewis', datetime.date(2022, 1, 13), 'Manager', 'Tier 1'), (22, 'Amelia Foster', datetime.date(2021, 10, 30), 'Engineer-1', 'Tier 3'), (23, 'Ethan Scott', datetime.date(2020, 4, 19), 'Engineer-2', 'Tier 2'), (24, 'Isabella Clark', datetime.date(2019, 9, 1), 'Tester', 'Tier 4'), (25, 'Lucas King', datetime.date(2023, 3, 14), 'Team Lead', 'Tier 1'), (26, 'Mia Lopez', datetime.date(2022, 7, 20), 'Manager', 'Tier 1'), (27, 'Noah Adams', datetime.date(2021, 2, 28), 'Engineer-1', 'Tier 3'), (28, 'Emma Turner', datetime.date(2020, 12, 9), 'Engineer-2', 'Tier 2'), (29, 'Ava Martin', datetime.date(2023, 5, 22), 'Tester', 'Tier 4'), (30, 'Oliver Davis', datetime.date(2022, 8, 11), 'Team Lead', 'Tier 1'), (31, 'Harper Wilson', datetime.date(2021, 3, 17), 'Manager', 'Tier 1'), (32, 'Elijah Robinson', datetime.date(2020, 6, 8), 'Engineer-1', 'Tier 3'), (33, 'Abigail Carter', datetime.date(2019, 11, 5), 'Engineer-2', 'Tier 2'), (34, 'Henry Mitchell', datetime.date(2023, 1, 9), 'Tester', 'Tier 4'), (35, 'Emily Perez', datetime.date(2022, 4, 29), 'Team Lead', 'Tier 1'), (36, 'Ella Morgan', datetime.date(2021, 8, 27), 'Manager', 'Tier 1'), (37, 'Jackson Kelly', datetime.date(2020, 2, 14), 'Engineer-1', 'Tier 3'), (38, 'Chloe White', datetime.date(2019, 5, 19), 'Engineer-2', 'Tier 2'), (39, 'William Harris', datetime.date(2023, 9, 7), 'Tester', 'Tier 4'), (40, 'Sofia Baker', datetime.date(2022, 10, 12), 'Team Lead', 'Tier 1'), (41, 'Aiden Rivera', datetime.date(2021, 11, 3), 'Manager', 'Tier 1'), (42, 'Grace Torres', datetime.date(2020, 7, 25), 'Engineer-1', 'Tier 3'), (43, 'Ella Foster', datetime.date(2019, 12, 31), 'Engineer-2', 'Tier 2'), (44, 'Daniel Gonzalez', datetime.date(2023, 4, 18), 'Tester', 'Tier 4'), (45, 'Victoria Ramirez', datetime.date(2022, 3, 22), 'Team Lead', 'Tier 1'), (46, 'Matthew Powell', datetime.date(2021, 1, 16), 'Manager', 'Tier 1'), (47, 'Scarlett Bennett', datetime.date(2020, 9, 29), 'Engineer-1', 'Tier 3'), (48, 'Avery Sanders', datetime.date(2019, 6, 7), 'Engineer-2', 'Tier 2'), (49, 'Levi Jenkins', datetime.date(2023, 8, 21), 'Tester', 'Tier 4'), (50, 'Eleanor Ross', datetime.date(2022, 2, 6), 'Team Lead', 'Tier 1')]\n",
      "Error: (pymysql.err.ProgrammingError) (1146, \"Table 'jagandb.employeeee' doesn't exist\")\n",
      "[SQL: SELECT * FROM employeeee]\n",
      "(Background on this error at: https://sqlalche.me/e/20/f405)\n",
      "Error: Query failed to return anything. Try again.\n"
     ]
    }
   ],
   "source": [
    "print(db_query_tool.invoke(\"SELECT * FROM employee\"))\n",
    "print(db_query_tool.invoke(\"SELECT * FROM employeeee\"))\n",
    "print(db_query_tool.invoke(\"SELECT * FROM employee where PayTier = 100\"))"
   ]
  },
  {
   "cell_type": "code",
   "execution_count": 16,
   "metadata": {},
   "outputs": [],
   "source": [
    "query_check_prompt=ChatPromptTemplate.from_messages([(\"system\",QUERY_CHECK_INSTRUCTION),(\"placeholder\",\"{messages}\")])"
   ]
  },
  {
   "cell_type": "code",
   "execution_count": 17,
   "metadata": {},
   "outputs": [
    {
     "name": "stdout",
     "output_type": "stream",
     "text": [
      "================================\u001b[1m System Message \u001b[0m================================\n",
      "\n",
      "You are a SQL expert with a strong attention to detail.\n",
      "Double check the SQL query for common mistakes, including:\n",
      "- Using NOT IN with NULL values\n",
      "- Using UNION when UNION ALL should have been used\n",
      "- Using BETWEEN for exclusive ranges\n",
      "- Data type mismatch in predicates\n",
      "- Properly quoting identifiers\n",
      "- Using the correct number of arguments for functions\n",
      "- Casting to the correct data type\n",
      "- Using the proper columns for joins\n",
      "\n",
      "If there are any of the above mistakes, rewrite the query. If there are no mistakes, just reproduce the original query.\n",
      "\n",
      "You will call the appropriate tool to execute the query after running this check.\n",
      "\n",
      "=============================\u001b[1m Messages Placeholder \u001b[0m=============================\n",
      "\n",
      "\u001b[33;1m\u001b[1;3m{messages}\u001b[0m\n"
     ]
    }
   ],
   "source": [
    "query_check_prompt.pretty_print()"
   ]
  },
  {
   "cell_type": "code",
   "execution_count": 18,
   "metadata": {},
   "outputs": [],
   "source": [
    "query_checker=query_check_prompt | ChatGroq(model=\"llama-3.3-70b-specdec\",temperature=0).bind_tools([db_query_tool],tool_choice=\"required\")\n"
   ]
  },
  {
   "cell_type": "code",
   "execution_count": 160,
   "metadata": {},
   "outputs": [],
   "source": [
    "query_gen_prompt=ChatPromptTemplate.from_messages([(\"system\",QUERY_GEN_INSTRUCTION),(\"placeholder\",\"{messages}\")])\n",
    "query_gen_chain=query_gen_prompt | ChatGroq(model=\"llama-3.3-70b-versatile\")\n"
   ]
  },
  {
   "cell_type": "code",
   "execution_count": 20,
   "metadata": {},
   "outputs": [
    {
     "name": "stdout",
     "output_type": "stream",
     "text": [
      "================================\u001b[1m System Message \u001b[0m================================\n",
      "\n",
      "You are a SQL expert with exceptional attention to detail. Your task is to analyze user requests, interpret SQL query results, and provide appropriate responses. Follow these instructions:\n",
      "\n",
      "Identify Key Components: Carefully analyze the user's message to determine:\n",
      "\n",
      "\n",
      "\n",
      "The user question.\n",
      "The provided table schemas.\n",
      "Any SQL query statements.\n",
      "The query result or error (if applicable).\n",
      "Handle Missing Queries: If no query result is available to answer the user's question:\n",
      "\n",
      "Construct a syntactically correct SQL query to address the user question.\n",
      "Do not perform any DML operations (e.g., INSERT, UPDATE, DELETE, DROP).\n",
      "Do not create any new tables with your own schema .\n",
      "Respond only with the SQL query statement.\n",
      "Example:\n",
      "SELECT id, name FROM pets;\n",
      "Handle Query Errors: If a query was executed but resulted in an error:\n",
      "\n",
      "Respond by repeating the exact error message.\n",
      "Example:\n",
      "\"Error: Pets table doesn't exist\"\n",
      "Interpret Results: If a query was executed successfully and returned results:\n",
      "\n",
      "Interpret the results to answer the user's question.\n",
      "Respond in the format: Answer: <<question answer>>\n",
      "Example:\n",
      "\"Answer: There are three cats registered as adopted.\"\n",
      "Instructions:\n",
      "Apply these steps to handle user queries effectively. Your primary focus is to ensure correctness, clarity, and precision in your responses.\n",
      "If you are unable to generate any query, reply that you dont have information to answer that question. Do not hallucinate.\n",
      "If there are any summaries present refer the previous queries and context provided in the summary for more reference.\n",
      "\n",
      "\n",
      "=============================\u001b[1m Messages Placeholder \u001b[0m=============================\n",
      "\n",
      "\u001b[33;1m\u001b[1;3m{messages}\u001b[0m\n"
     ]
    }
   ],
   "source": [
    "query_gen_prompt.pretty_print()"
   ]
  },
  {
   "cell_type": "code",
   "execution_count": 125,
   "metadata": {},
   "outputs": [],
   "source": [
    "from IPython.display import display, Image\n",
    "from langchain_core.runnables.graph import MermaidDrawMethod\n",
    "from langgraph.checkpoint.memory import MemorySaver\n",
    "\n",
    "memory = MemorySaver()\n",
    "config = {\"configurable\": {\"thread_id\": \"1\"}}"
   ]
  },
  {
   "cell_type": "code",
   "execution_count": 126,
   "metadata": {},
   "outputs": [],
   "source": [
    "from typing import Annotated, Literal\n",
    "from langchain_core.messages import AIMessage,HumanMessage,RemoveMessage\n",
    "from pydantic import BaseModel, Field\n",
    "from typing_extensions import TypedDict\n",
    "from langgraph.graph import START,END,StateGraph, MessagesState"
   ]
  },
  {
   "cell_type": "code",
   "execution_count": 127,
   "metadata": {},
   "outputs": [],
   "source": [
    "class State(MessagesState):\n",
    "    summary: str\n",
    "    pass"
   ]
  },
  {
   "cell_type": "code",
   "execution_count": 128,
   "metadata": {},
   "outputs": [],
   "source": [
    "from langchain_core.messages import trim_messages\n",
    "\n",
    "def summarize(state: State):\n",
    "    if len(state[\"messages\"]) >5:\n",
    "        summary = state.get(\"summary\", \"\")\n",
    "        if summary:\n",
    "            # A summary already exists\n",
    "            summary_message = (\n",
    "                f\"\"\"This is summary of the conversation to date: {summary}\\n\\n\n",
    "                Extend the summary by taking into account the new messages above.Retain the exact SQL query that was generated without any modifications. \n",
    "            Additionally, preserve the context in which the query was created, \n",
    "            including the original natural language request and the table schema used. Do not add or \n",
    "            assume any information beyond what was explicitly stated in the conversation.If it crosses 500 words, then give more priority to the recent information(Bottom-most) and the QUERIES and reduce the words dynamically.\"\"\"\n",
    "            )\n",
    "            \n",
    "        else:\n",
    "            summary_message = \"\"\"Generate a summary of the conversation above, focusing on the process of converting a natural language input into \n",
    "            an SQL query. Retain the exact SQL query that was generated without any modifications. \n",
    "            Additionally, preserve the context in which the query was created, \n",
    "            including the original natural language request and the table schema used. Do not add or \n",
    "            assume any information beyond what was explicitly stated in the conversation.\"\"\"\n",
    "\n",
    "        # Add prompt to our history\n",
    "        model=ChatGroq(model=\"mixtral-8x7b-32768\")\n",
    "        messages = state[\"messages\"][:-1] + [HumanMessage(content=summary_message)]\n",
    "        response = model.invoke(messages)\n",
    "        if len(state[\"messages\"])>5:\n",
    "            delete_messages = [RemoveMessage(id=m.id) for m in state[\"messages\"][:-2]]\n",
    "        else:\n",
    "            delete_messages-state[\"messages\"]\n",
    "        return {\"summary\": response.content, \"messages\": delete_messages}\n",
    "    return state\n",
    "    \n",
    "    "
   ]
  },
  {
   "cell_type": "code",
   "execution_count": 129,
   "metadata": {},
   "outputs": [],
   "source": [
    "list_tables = create_tool_node_with_fallback([list_tables_tool])\n",
    "\n",
    "get_schema_tool_with_fallback = create_tool_node_with_fallback([get_schema_tool])\n",
    "\n",
    "execute_query = create_tool_node_with_fallback([db_query_tool])\n"
   ]
  },
  {
   "cell_type": "code",
   "execution_count": 155,
   "metadata": {},
   "outputs": [
    {
     "data": {
      "text/plain": [
       "RunnableWithFallbacks(runnable=tools(tags=None, recurse=True, explode_args=False, func_accepts_config=True, func_accepts={'writer': False, 'store': True, 'previous': False}, tools_by_name={'db_query_tool': StructuredTool(name='db_query_tool', description='Executes an sql query against the database and gets back \\n    the result. If query is not correct an error message is returned.\\n\\n    Args:\\n        query (str): A valid sql query string\\n\\n    Returns:\\n        str: The result of the query if present or an error message', args_schema=<class 'langchain_core.utils.pydantic.db_query_tool'>, func=<function db_query_tool at 0x0000019F381D3640>)}, tool_to_state_args={'db_query_tool': {}}, tool_to_store_arg={'db_query_tool': None}, handle_tool_errors=True, messages_key='messages'), fallbacks=[RunnableLambda(handle_tool_error)], exception_key='error')"
      ]
     },
     "execution_count": 155,
     "metadata": {},
     "output_type": "execute_result"
    }
   ],
   "source": [
    "execute_query"
   ]
  },
  {
   "cell_type": "code",
   "execution_count": 130,
   "metadata": {},
   "outputs": [],
   "source": [
    "def first_tool_call(state:State) ->dict[str,list[AIMessage]]:\n",
    "    tool_call={\"name\":\"sql_db_list_tables\",\n",
    "               \"args\":{},\n",
    "               \"id\":\"tool_abcd123\"}\n",
    "    return {\"messages\":[AIMessage(\n",
    "        content='',\n",
    "        tool_calls=[tool_call])]}\n"
   ]
  },
  {
   "cell_type": "code",
   "execution_count": 131,
   "metadata": {},
   "outputs": [],
   "source": [
    "def model_check_query(state:State)->dict[str,list[AIMessage]]:\n",
    "    return {\"messages\": [query_checker.invoke({\"messages\": [state[\"messages\"][-1]]})]}\n",
    "\n"
   ]
  },
  {
   "cell_type": "code",
   "execution_count": 132,
   "metadata": {},
   "outputs": [],
   "source": [
    "SCHEMA_INSTRUCTION=\"\"\"The given is the schema of the table/tables we are querying for . \n",
    "Remember this is just a schema don't base your final answer on this . Use this to formulate your queries ...Nothing more\n",
    "\n",
    "{messages}\"\"\""
   ]
  },
  {
   "cell_type": "code",
   "execution_count": 133,
   "metadata": {},
   "outputs": [],
   "source": [
    "schema_prompt=ChatPromptTemplate.from_messages([(\"system\",SCHEMA_INSTRUCTION),(\"placeholder\",\"{messages}\")])"
   ]
  },
  {
   "cell_type": "code",
   "execution_count": 134,
   "metadata": {},
   "outputs": [
    {
     "name": "stdout",
     "output_type": "stream",
     "text": [
      "================================\u001b[1m System Message \u001b[0m================================\n",
      "\n",
      "The given is the schema of the table/tables we are querying for . \n",
      "Remember this is just a schema don't base your final answer on this . Use this to formulate your queries ...Nothing more\n",
      "\n",
      "\u001b[33;1m\u001b[1;3m{messages}\u001b[0m\n",
      "\n",
      "=============================\u001b[1m Messages Placeholder \u001b[0m=============================\n",
      "\n",
      "\u001b[33;1m\u001b[1;3m{messages}\u001b[0m\n"
     ]
    }
   ],
   "source": [
    "schema_prompt.pretty_print()"
   ]
  },
  {
   "cell_type": "code",
   "execution_count": 135,
   "metadata": {},
   "outputs": [],
   "source": [
    "def model_get_schema(state:State):\n",
    "    model_get_schema=schema_prompt|ChatGroq(model=\"llama-3.3-70b-specdec\",temperature=0).bind_tools([get_schema_tool],tool_choice=\"required\")\n",
    "    return {\n",
    "        \"messages\":[model_get_schema.invoke({\"messages\":state[\"messages\"]})]\n",
    "    }\n",
    "def query_gen_node(state:State):\n",
    "    message=query_gen_chain.invoke(state,config=config)\n",
    "    return {\"messages\":[message]}"
   ]
  },
  {
   "cell_type": "code",
   "execution_count": 136,
   "metadata": {},
   "outputs": [],
   "source": [
    "def should_continue(state:State)-> Literal[END,\"correct_query\",\"query_gen\"]:\n",
    "    messages=state[\"messages\"]\n",
    "    last_message=messages[-1]\n",
    "    if last_message.content.startswith(\"Answer:\"):\n",
    "        return END\n",
    "    if last_message.content.startswith(\"Error:\"):\n",
    "        return \"query_gen\"\n",
    "    else:\n",
    "        return \"correct_query\""
   ]
  },
  {
   "cell_type": "code",
   "execution_count": 137,
   "metadata": {},
   "outputs": [],
   "source": [
    "prompt = \"\"\"System\n",
    "            You are an helpful assistant who understands what the incoming message is about.\n",
    "            If the message is about generating SQL or SQLite queries, you send the message ‘sql’.Our database maintains tables for an employee HR app.So\n",
    "            anything related about the employee and getting their details route it to 'sql'.\n",
    "            If the incoming message is not about SQL queries or doesn't need to generate SQL queries/query, you will send a reply as ‘message’.\n",
    "            Don't add anything to it just ANSWER in one word\n",
    "            For example:\n",
    "            user: what is the capital of germany\n",
    "            AI ‘message’\n",
    "            user: ‘How many distinct types of employees are present ’\n",
    "            AI : ‘sql’\n",
    "        Also The below in the summary of previous conversations , if the incoming message is related about the summary which used is a SQL\n",
    "        type query , List the incoming message as an sql query too.\n",
    "    \"\"\"\n",
    "category_deciding_prompt=ChatPromptTemplate.from_messages([(\"system\",prompt),(\"placeholder\",\"{messages}\")])\n",
    "category_deciding_llm=category_deciding_prompt|ChatGroq(model=\"llama-3.3-70b-versatile\")"
   ]
  },
  {
   "cell_type": "code",
   "execution_count": 138,
   "metadata": {},
   "outputs": [
    {
     "name": "stdout",
     "output_type": "stream",
     "text": [
      "================================\u001b[1m System Message \u001b[0m================================\n",
      "\n",
      "System\n",
      "            You are an helpful assistant who understands what the incoming message is about.\n",
      "            If the message is about generating SQL or SQLite queries, you send the message ‘sql’.Our database maintains tables for an employee HR app.So\n",
      "            anything related about the employee and getting their details route it to 'sql'.\n",
      "            If the incoming message is not about SQL queries or doesn't need to generate SQL queries/query, you will send a reply as ‘message’.\n",
      "            Don't add anything to it just ANSWER in one word\n",
      "            For example:\n",
      "            user: what is the capital of germany\n",
      "            AI ‘message’\n",
      "            user: ‘How many distinct types of employees are present ’\n",
      "            AI : ‘sql’\n",
      "        Also The below in the summary of previous conversations , if the incoming message is related about the summary which used is a SQL\n",
      "        type query , List the incoming message as an sql query too.\n",
      "    \n",
      "\n",
      "=============================\u001b[1m Messages Placeholder \u001b[0m=============================\n",
      "\n",
      "\u001b[33;1m\u001b[1;3m{messages}\u001b[0m\n"
     ]
    }
   ],
   "source": [
    "category_deciding_prompt.pretty_print()"
   ]
  },
  {
   "cell_type": "code",
   "execution_count": 139,
   "metadata": {},
   "outputs": [],
   "source": [
    "def route_to_research(state:State):\n",
    "    initial_message = state[\"messages\"]\n",
    "    print(state)\n",
    "\n",
    "    router = category_deciding_llm.invoke(input={\"messages\": initial_message} ,config=config)\n",
    "    #\n",
    "    if router.content== 'sql':\n",
    "        return \"first_tool_call\"\n",
    "    elif router.content == 'message':\n",
    "        return \"general_chat\""
   ]
  },
  {
   "cell_type": "code",
   "execution_count": 140,
   "metadata": {},
   "outputs": [],
   "source": [
    "prompt=\"\"\"Answer the message in the most appropriate and general way to the given message. \n",
    "    Maintain a neutal and a formal tone . If anything inappropriate is encountered answer with 'Can't answer this ask something different' \"\"\"\n",
    "general_prompt=ChatPromptTemplate.from_messages([(\"system\",prompt),(\"placeholder\",\"{messages}\")])\n",
    "general_task_llm=general_prompt|ChatGroq(model=\"mixtral-8x7b-32768\")"
   ]
  },
  {
   "cell_type": "code",
   "execution_count": 141,
   "metadata": {},
   "outputs": [],
   "source": [
    "def message_general(state:State):\n",
    "    messages=state[\"messages\"]\n",
    "    answer=general_task_llm.invoke({\"messages\":messages},config=config)\n",
    "    return {\"messages\": [answer]}\n",
    "    \n",
    "    "
   ]
  },
  {
   "cell_type": "code",
   "execution_count": 142,
   "metadata": {},
   "outputs": [
    {
     "data": {
      "text/plain": [
       "<langgraph.graph.state.StateGraph at 0x19f52830e80>"
      ]
     },
     "execution_count": 142,
     "metadata": {},
     "output_type": "execute_result"
    }
   ],
   "source": [
    "builder=StateGraph(State)\n",
    "builder.add_node(\"summarize\", summarize)\n",
    "builder.add_node(\"general_chat\", message_general)\n",
    "builder.add_node(\"first_tool_call\",first_tool_call)\n",
    "builder.add_node(\"list_tables\",list_tables)\n",
    "builder.add_node(\"get_schema_tool\",get_schema_tool_with_fallback)\n",
    "builder.add_node(\"model_get_schema\",model_get_schema)\n",
    "builder.add_node(\"query_gen\",query_gen_node)\n",
    "builder.add_node(\"correct_query\",model_check_query)\n",
    "builder.add_node(\"execute_query\",execute_query)\n"
   ]
  },
  {
   "cell_type": "code",
   "execution_count": 143,
   "metadata": {},
   "outputs": [
    {
     "data": {
      "text/plain": [
       "<langgraph.graph.state.StateGraph at 0x19f52830e80>"
      ]
     },
     "execution_count": 143,
     "metadata": {},
     "output_type": "execute_result"
    }
   ],
   "source": [
    "builder.add_edge(START, \"summarize\")\n",
    "builder.add_conditional_edges(\"summarize\",route_to_research,{\n",
    "    \"first_tool_call\":\"first_tool_call\",\n",
    "    \"general_chat\":\"general_chat\"\n",
    "})\n",
    "builder.add_edge(\"first_tool_call\", \"list_tables\")\n",
    "builder.add_edge(\"list_tables\", \"model_get_schema\")\n",
    "builder.add_edge(\"model_get_schema\", \"get_schema_tool\")\n",
    "builder.add_edge(\"get_schema_tool\", \"query_gen\")\n",
    "builder.add_conditional_edges(\"query_gen\", should_continue)\n",
    "builder.add_edge(\"correct_query\", \"execute_query\")\n",
    "builder.add_edge(\"execute_query\", \"query_gen\")\n",
    "builder.add_edge(\"general_chat\",END)\n"
   ]
  },
  {
   "cell_type": "code",
   "execution_count": 144,
   "metadata": {},
   "outputs": [],
   "source": [
    "graph=builder.compile(checkpointer=memory)\n",
    "#react_graph_memory = builder.compile(checkpointer=memory)"
   ]
  },
  {
   "cell_type": "code",
   "execution_count": 145,
   "metadata": {},
   "outputs": [
    {
     "data": {
      "image/png": "[encoded data removed]",
      "text/plain": [
       "<IPython.core.display.Image object>"
      ]
     },
     "metadata": {},
     "output_type": "display_data"
    }
   ],
   "source": [
    "display(Image(graph.get_graph().draw_mermaid_png(draw_method=MermaidDrawMethod.API,)))"
   ]
  },
  {
   "cell_type": "code",
   "execution_count": 157,
   "metadata": {},
   "outputs": [
    {
     "name": "stdout",
     "output_type": "stream",
     "text": [
      "{'summary': 'Summary:\\n\\nThe conversation began with a request to find out the number of employees present. To answer this question, the process of converting the natural language input into an SQL query was initiated. The first step was to determine the table schema that would be used to generate the SQL query. The tool with the ID \"tool\\\\_abcd123\" was called, and it yielded the name of the table, which was \"employee\". Next, the tool with the ID \"call\\\\_4yer\" was invoked to obtain the schema of the \"employee\" table. The schema provided the necessary information about the table\\'s columns, data types, and constraints, which was used to generate the SQL query. After examining the table schema, the SQL query was generated to find out the number of employees present. The query was: \"SELECT COUNT(\\\\*) FROM employee\". Finally, the tool with the ID \"call\\\\_fmmc\" was called to execute the SQL query. The query returned a single row with a single column containing the value (50,) indicating that there are 50 employees present. Therefore, the final answer to the original request is that there are 50 employees present. The SQL query used to obtain this answer was \"SELECT COUNT(\\\\*) FROM employee\", and it was executed in the context of the \"employee\" table schema provided earlier.\\n\\nLater, the request was modified to find out the number of managers present. To answer this question, the SQL query was generated to count the number of rows in the \"employee\" table where the EmployeeType column was equal to \\'Manager\\'. The query was: \"SELECT COUNT(EmployeeID) FROM employee WHERE EmployeeType = \\'Manager\\'\". Finally, the tool with the ID \"call\\\\_349h\" was called to execute the SQL query. The query returned a single row with a single column containing the value (10,) indicating that there are 10 managers. Therefore, the final answer to the request is that there are 10 managers. The SQL query used to obtain this answer was \"SELECT COUNT(EmployeeID) FROM employee WHERE EmployeeType = \\'Manager\\'\", and it was executed in the context of the \"employee\" table schema provided earlier.\\n\\nMost recently, the request was modified to find out the number of distinct EmployeeType categories present. To answer this question, the SQL query was generated to count the number of distinct EmployeeType values in the \"employee\" table. The query was: \"SELECT COUNT(DISTINCT EmployeeType) FROM employee\". Finally, the tool with the ID \"call\\\\_gj6d\" was called to execute the SQL query. The query returned a single row with a single column containing the value (5,) indicating that there are 5 distinct EmployeeType categories present. Therefore, the final answer to the request is that there are 5 distinct EmployeeType categories present. The SQL query used to obtain this answer was \"SELECT COUNT(DISTINCT EmployeeType) FROM employee\", and it was executed in the context of the \"employee\" table schema provided earlier.\\n\\nFurthermore, the request was modified to find out the EmployeeType categories present. The SQL query was generated to select all distinct EmployeeType values from the \"employee\" table. The query was: \"SELECT DISTINCT EmployeeType FROM employee\". Finally, the tool with the ID \"call\\\\_kc9b\" was called to execute the SQL query. The query returned the following values: (Manager, Engineer-1, Tester, Engineer-2, Team Lead). Therefore, the final answer to the request is that the EmployeeType categories present are Manager, Engineer-1, Tester, Engineer-2, and Team Lead. The SQL query used to obtain this answer was \"SELECT DISTINCT EmployeeType FROM employee\", and it was executed in the context of the \"employee\" table schema provided earlier.\\n\\nIn addition to these requests, the table schema was further examined to provide more information. The table contains the following columns: EmployeeID (INTEGER NOT NULL), EmployeeName (VARCHAR(255) NOT NULL), DateOfJoining (DATE NOT NULL), EmployeeType (VARCHAR(255)), and PayTier (VARCHAR(255)).\\n\\nThe SQL queries used in the conversation were:\\n\\n* \"SELECT COUNT(\\\\*) FROM employee\"\\n* \"SELECT COUNT(EmployeeID) FROM employee WHERE EmployeeType = \\'Manager\\'\"\\n* \"SELECT COUNT(DISTINCT EmployeeType) FROM employee\"\\n* \"SELECT DISTINCT EmployeeType FROM employee\"\\n\\nThese queries were executed in the context of the \"employee\" table schema provided earlier.\\n\\nThe request was then modified to find out the number of testers present. To answer this question, the SQL query was generated to count the number of rows in the \"employee\" table where the EmployeeType column was equal to \\'Tester\\'. The query was: \"SELECT COUNT(EmployeeID) FROM employee WHERE EmployeeType = \\'Tester\\'\". Finally, the tool with the ID \"call\\\\_w5d5\" was called to execute the SQL query. The query returned a single row with a single column containing the value (1,) indicating that there is 1 tester. Therefore, the final answer to the request is that there is 1 tester. The SQL query used to obtain this answer was \"SELECT COUNT(EmployeeID) FROM employee WHERE EmployeeType = \\'Tester\\'\", and it was executed in the context of the \"employee\" table schema provided earlier.\\n\\nIn summary, the conversation involved converting natural language inputs into SQL queries to obtain information about the number of employees, managers, and distinct EmployeeType categories present in a company. The process involved determining the table schema, generating SQL queries based on the schema, and executing the queries to obtain the desired information.\\n\\nThe SQL queries used in the conversation were:\\n\\n* \"SELECT COUNT(\\\\*) FROM employee\"\\n* \"SELECT COUNT(EmployeeID) FROM employee WHERE EmployeeType = \\'Manager\\'\"\\n* \"SELECT COUNT(DISTINCT EmployeeType) FROM employee\"\\n* \"SELECT DISTINCT EmployeeType FROM employee\"\\n* \"SELECT COUNT(EmployeeID) FROM employee WHERE EmployeeType = \\'Tester\\'\"\\n\\nThese queries were executed in the context of the \"employee\" table schema provided earlier. The final answers are that there are 50 employees present, 10 managers, and 5 distinct EmployeeType categories present, namely Manager, Engineer-1, Tester, Engineer-2, and Team Lead. There is 1 tester.\\n\\nThe most recent request was to find out the number of testers present. The SQL query used to obtain this answer was \"SELECT COUNT(EmployeeID) FROM employee WHERE EmployeeType = \\'Tester\\'\". The query returned a single row with a single column containing the value (1,) indicating that there is 1 tester present. The query was executed in the context of the \"employee\" table schema provided earlier.\\n\\nThe conversation then continued to find out the number of team leads present. To answer this question, the SQL query was generated to count the number of rows in the \"employee\" table where the EmployeeType column was equal to \\'Team Lead\\'. The query was: \"SELECT COUNT(EmployeeID) FROM employee WHERE EmployeeType = \\'Team Lead\\'\". Finally, the tool with the ID \"call\\\\_h6z4\" was called to execute the SQL query. The query returned a single row with a single column containing the value (10,) indicating that there are 10 team leads. Therefore, the final answer to the request is that there are 10 team leads present. The SQL query used to obtain this answer was \"SELECT COUNT(EmployeeID) FROM employee WHERE EmployeeType = \\'Team Lead\\'\", and it was executed in the context of the \"employee\" table schema provided earlier.\\n\\nIn summary, the conversation involved converting natural language inputs into SQL queries to obtain information about the number of employees, managers, and distinct EmployeeType categories present in a company. The process involved determining the table schema, generating SQL queries based on the schema, and executing the queries to obtain the desired information.\\n\\nThe SQL queries used in the conversation were:\\n\\n* \"SELECT COUNT(\\\\*) FROM employee\"\\n* \"SELECT COUNT(EmployeeID) FROM employee WHERE EmployeeType = \\'Manager\\'\"\\n* \"SELECT COUNT(DISTINCT EmployeeType) FROM employee\"\\n* \"SELECT DISTINCT EmployeeType FROM employee\"\\n* \"SELECT COUNT(EmployeeID) FROM employee WHERE EmployeeType = \\'Tester\\'\"\\n* \"SELECT COUNT(EmployeeID) FROM employee WHERE EmployeeType = \\'Team Lead\\'\"\\n\\nThese queries were executed in the context of the \"employee\" table schema provided earlier. The final answers are that there are 50 employees present, 10 managers, and 5 distinct EmployeeType categories present, namely Manager, Engineer-1, Tester, Engineer-2, and Team Lead. There are 10 testers and 10 team leads.\\n\\nThe last request was to find out the number of employees with the EmployeeType column equal to \\'Employee\\'. To answer this question, the SQL query was generated to count the number of rows in the \"employee\" table where the EmployeeType column was equal to \\'Employee\\'. The query was: \"SELECT COUNT(EmployeeID) FROM employee WHERE EmployeeType = \\'Employee\\'\". Finally, the tool with the ID \"call\\\\_yql6\" was called to execute the SQL query. The query returned a single row with a single column containing the value (20,) indicating that there are 20 employees. Therefore, the final answer to the request is that there are 20 employees with the EmployeeType column equal to \\'Employee\\'. The SQL query used to obtain this answer was \"SELECT COUNT(EmployeeID) FROM employee WHERE EmployeeType = \\'Employee\\'\", and it was executed in the context of the \"employee\" table schema provided earlier.\\n\\nThe conversation involved converting natural language inputs into SQL queries to obtain information about the number of employees, managers, and distinct EmployeeType categories present in a company. The process involved determining the table schema, generating SQL queries based on the schema, and executing the queries to obtain the desired information.\\n\\nThe SQL queries used in the conversation were:\\n\\n* \"SELECT COUNT(\\\\*) FROM employee\"\\n* \"SELECT COUNT(EmployeeID) FROM employee WHERE EmployeeType = \\'Manager\\'\"\\n* \"SELECT COUNT(DISTINCT EmployeeType) FROM employee\"\\n* \"SELECT DISTINCT EmployeeType FROM employee\"\\n* \"SELECT COUNT(EmployeeID) FROM employee WHERE EmployeeType = \\'Tester\\'\"\\n* \"SELECT COUNT(EmployeeID) FROM employee WHERE EmployeeType = \\'Team Lead\\'\"\\n* \"SELECT COUNT(EmployeeID) FROM employee WHERE EmployeeType = \\'Employee\\'\"\\n\\nThese queries were executed in the context of the \"employee\" table schema provided earlier. The final answers are that there are 50 employees present, 10 managers, and 5 distinct EmployeeType categories present, namely Manager, Engineer-1, Tester, Engineer-2, and Team Lead. There are 10 testers, 10 team leads, and 20 employees with the EmployeeType column equal to \\'Employee\\'.', 'messages': [AIMessage(content='Answer: There are 50 employees.', additional_kwargs={}, response_metadata={'token_usage': {'completion_tokens': 9, 'prompt_tokens': 627, 'total_tokens': 636, 'completion_time': 0.033732916, 'prompt_time': 0.072324991, 'queue_time': 0.026601667999999995, 'total_time': 0.106057907}, 'model_name': 'llama-3.2-90b-vision-preview', 'system_fingerprint': 'fp_9c2a937c92', 'finish_reason': 'stop', 'logprobs': None}, id='run-e0025b10-28bc-4f55-91e0-03f82928c253-0', usage_metadata={'input_tokens': 627, 'output_tokens': 9, 'total_tokens': 636}), HumanMessage(content='How many team leads are present? ', additional_kwargs={}, response_metadata={}, id='c0c49f18-0703-4fa3-8e42-b11c9eded637')]}\n",
      "================================\u001b[1m Remove Message \u001b[0m================================\n",
      "\n",
      "\n",
      "None\n",
      "==================================\u001b[1m Ai Message \u001b[0m==================================\n",
      "Tool Calls:\n",
      "  sql_db_list_tables (tool_abcd123)\n",
      " Call ID: tool_abcd123\n",
      "  Args:\n",
      "None\n",
      "=================================\u001b[1m Tool Message \u001b[0m=================================\n",
      "Name: sql_db_list_tables\n",
      "\n",
      "employee\n",
      "None\n",
      "==================================\u001b[1m Ai Message \u001b[0m==================================\n",
      "Tool Calls:\n",
      "  sql_db_schema (call_mc6p)\n",
      " Call ID: call_mc6p\n",
      "  Args:\n",
      "    table_names: employee\n",
      "None\n",
      "=================================\u001b[1m Tool Message \u001b[0m=================================\n",
      "Name: sql_db_schema\n",
      "\n",
      "\n",
      "CREATE TABLE employee (\n",
      "\t`EmployeeID` INTEGER NOT NULL, \n",
      "\t`EmployeeName` VARCHAR(255) NOT NULL, \n",
      "\t`DateOfJoining` DATE NOT NULL, \n",
      "\t`EmployeeType` VARCHAR(255), \n",
      "\t`PayTier` VARCHAR(255), \n",
      "\tPRIMARY KEY (`EmployeeID`)\n",
      ")ENGINE=InnoDB DEFAULT CHARSET=utf8mb4 COLLATE utf8mb4_0900_ai_ci\n",
      "\n",
      "/*\n",
      "3 rows from employee table:\n",
      "EmployeeID\tEmployeeName\tDateOfJoining\tEmployeeType\tPayTier\n",
      "1\tJohn Doe\t2023-01-15\tManager\tTier 1\n",
      "2\tJane Smith\t2022-06-01\tEngineer-1\tTier 3\n",
      "3\tAlice Johnson\t2021-09-12\tTester\tTier 4\n",
      "*/\n",
      "None\n",
      "==================================\u001b[1m Ai Message \u001b[0m==================================\n",
      "\n",
      "SELECT COUNT(EmployeeID) FROM employee WHERE EmployeeType = 'Team Lead'\n",
      "None\n",
      "==================================\u001b[1m Ai Message \u001b[0m==================================\n",
      "Tool Calls:\n",
      "  db_query_tool (call_srkp)\n",
      " Call ID: call_srkp\n",
      "  Args:\n",
      "    query: SELECT COUNT(EmployeeID) FROM employee WHERE EmployeeType = 'Team Lead'\n",
      "None\n",
      "=================================\u001b[1m Tool Message \u001b[0m=================================\n",
      "Name: db_query_tool\n",
      "\n",
      "[(10,)]\n",
      "None\n",
      "==================================\u001b[1m Ai Message \u001b[0m==================================\n",
      "\n",
      "Answer: There are 10 Team Leads present.\n",
      "None\n"
     ]
    }
   ],
   "source": [
    "for event in graph.stream(\n",
    "    {\"messages\": [(\"user\", \"How many team leads are present? \")]},config=config\n",
    "):\n",
    "    for key,value in event.items():\n",
    "        if value[\"messages\"]:\n",
    "            print(value[\"messages\"][-1].pretty_print())"
   ]
  },
  {
   "cell_type": "code",
   "execution_count": 54,
   "metadata": {},
   "outputs": [
    {
     "data": {
      "text/plain": [
       "{'query_gen': {'messages': [AIMessage(content='Answer: The different categories of employees are: Manager, Engineer-1, Tester, Engineer-2, and Team Lead.', additional_kwargs={}, response_metadata={'token_usage': {'completion_tokens': 26, 'prompt_tokens': 649, 'total_tokens': 675, 'completion_time': 0.100776467, 'prompt_time': 0.074361357, 'queue_time': 0.02398197199999999, 'total_time': 0.175137824}, 'model_name': 'llama-3.2-90b-vision-preview', 'system_fingerprint': 'fp_9c2a937c92', 'finish_reason': 'stop', 'logprobs': None}, id='run-0b9f32df-d747-4cca-850c-1e52a9510f61-0', usage_metadata={'input_tokens': 649, 'output_tokens': 26, 'total_tokens': 675})]}}"
      ]
     },
     "execution_count": 54,
     "metadata": {},
     "output_type": "execute_result"
    }
   ],
   "source": [
    "event"
   ]
  },
  {
   "cell_type": "code",
   "execution_count": 55,
   "metadata": {},
   "outputs": [
    {
     "data": {
      "text/plain": [
       "'Answer: The different categories of employees are: Manager, Engineer-1, Tester, Engineer-2, and Team Lead.'"
      ]
     },
     "execution_count": 55,
     "metadata": {},
     "output_type": "execute_result"
    }
   ],
   "source": [
    "event[\"query_gen\"][\"messages\"][-1].content"
   ]
  },
  {
   "cell_type": "code",
   "execution_count": 56,
   "metadata": {},
   "outputs": [],
   "source": [
    "snapshot = graph.get_state(config)"
   ]
  },
  {
   "cell_type": "code",
   "execution_count": 57,
   "metadata": {},
   "outputs": [
    {
     "data": {
      "text/plain": [
       "{'summary': ['']}"
      ]
     },
     "execution_count": 57,
     "metadata": {},
     "output_type": "execute_result"
    }
   ],
   "source": [
    "{k: v for k, v in snapshot.values.items() if k in \"summary\"}\n"
   ]
  },
  {
   "cell_type": "code",
   "execution_count": 58,
   "metadata": {},
   "outputs": [
    {
     "ename": "ValueError",
     "evalue": "variable summary should be a list of base messages, got [''\n\n* The user requested a list of different categories of employees.\n* In response, the user was provided with the schema of the employee table, which included the EmployeeType column.\n* To generate the list of different categories of employees, the following SQL query was executed: \"SELECT DISTINCT EmployeeType FROM employee\".\n* The query returned the following result: [('Manager',), ('Engineer-1',), ('Tester',), ('Engineer-2',), ('Team Lead',)].\n* Therefore, the different categories of employees are Manager, Engineer-1, Tester, Engineer-2, and Team Lead.\n] of type <class 'str'>",
     "output_type": "error",
     "traceback": [
      "\u001b[1;31m---------------------------------------------------------------------------\u001b[0m",
      "\u001b[1;31mValueError\u001b[0m                                Traceback (most recent call last)",
      "Cell \u001b[1;32mIn[58], line 1\u001b[0m\n\u001b[1;32m----> 1\u001b[0m \u001b[38;5;28;01mfor\u001b[39;00m event \u001b[38;5;129;01min\u001b[39;00m graph\u001b[38;5;241m.\u001b[39mstream(\n\u001b[0;32m      2\u001b[0m     {\u001b[38;5;124m\"\u001b[39m\u001b[38;5;124mmessages\u001b[39m\u001b[38;5;124m\"\u001b[39m: [(\u001b[38;5;124m\"\u001b[39m\u001b[38;5;124muser\u001b[39m\u001b[38;5;124m\"\u001b[39m, \u001b[38;5;124m\"\u001b[39m\u001b[38;5;124mtell my name\u001b[39m\u001b[38;5;124m\"\u001b[39m)]},config\u001b[38;5;241m=\u001b[39mconfig\n\u001b[0;32m      3\u001b[0m ):\n\u001b[0;32m      4\u001b[0m     \u001b[38;5;28;01mfor\u001b[39;00m key,value \u001b[38;5;129;01min\u001b[39;00m event\u001b[38;5;241m.\u001b[39mitems():\n\u001b[0;32m      5\u001b[0m         \u001b[38;5;28mprint\u001b[39m(value[\u001b[38;5;124m\"\u001b[39m\u001b[38;5;124mmessages\u001b[39m\u001b[38;5;124m\"\u001b[39m][\u001b[38;5;241m-\u001b[39m\u001b[38;5;241m1\u001b[39m]\u001b[38;5;241m.\u001b[39mpretty_print())\n",
      "File \u001b[1;32md:\\projects\\intern\\chat-bot\\.venv\\lib\\site-packages\\langgraph\\pregel\\__init__.py:1670\u001b[0m, in \u001b[0;36mPregel.stream\u001b[1;34m(self, input, config, stream_mode, output_keys, interrupt_before, interrupt_after, debug, subgraphs)\u001b[0m\n\u001b[0;32m   1664\u001b[0m     \u001b[38;5;66;03m# Similarly to Bulk Synchronous Parallel / Pregel model\u001b[39;00m\n\u001b[0;32m   1665\u001b[0m     \u001b[38;5;66;03m# computation proceeds in steps, while there are channel updates.\u001b[39;00m\n\u001b[0;32m   1666\u001b[0m     \u001b[38;5;66;03m# Channel updates from step N are only visible in step N+1\u001b[39;00m\n\u001b[0;32m   1667\u001b[0m     \u001b[38;5;66;03m# channels are guaranteed to be immutable for the duration of the step,\u001b[39;00m\n\u001b[0;32m   1668\u001b[0m     \u001b[38;5;66;03m# with channel updates applied only at the transition between steps.\u001b[39;00m\n\u001b[0;32m   1669\u001b[0m     \u001b[38;5;28;01mwhile\u001b[39;00m loop\u001b[38;5;241m.\u001b[39mtick(input_keys\u001b[38;5;241m=\u001b[39m\u001b[38;5;28mself\u001b[39m\u001b[38;5;241m.\u001b[39minput_channels):\n\u001b[1;32m-> 1670\u001b[0m         \u001b[38;5;28;01mfor\u001b[39;00m _ \u001b[38;5;129;01min\u001b[39;00m runner\u001b[38;5;241m.\u001b[39mtick(\n\u001b[0;32m   1671\u001b[0m             loop\u001b[38;5;241m.\u001b[39mtasks\u001b[38;5;241m.\u001b[39mvalues(),\n\u001b[0;32m   1672\u001b[0m             timeout\u001b[38;5;241m=\u001b[39m\u001b[38;5;28mself\u001b[39m\u001b[38;5;241m.\u001b[39mstep_timeout,\n\u001b[0;32m   1673\u001b[0m             retry_policy\u001b[38;5;241m=\u001b[39m\u001b[38;5;28mself\u001b[39m\u001b[38;5;241m.\u001b[39mretry_policy,\n\u001b[0;32m   1674\u001b[0m             get_waiter\u001b[38;5;241m=\u001b[39mget_waiter,\n\u001b[0;32m   1675\u001b[0m         ):\n\u001b[0;32m   1676\u001b[0m             \u001b[38;5;66;03m# emit output\u001b[39;00m\n\u001b[0;32m   1677\u001b[0m             \u001b[38;5;28;01myield from\u001b[39;00m output()\n\u001b[0;32m   1678\u001b[0m \u001b[38;5;66;03m# emit output\u001b[39;00m\n",
      "File \u001b[1;32md:\\projects\\intern\\chat-bot\\.venv\\lib\\site-packages\\langgraph\\pregel\\runner.py:231\u001b[0m, in \u001b[0;36mPregelRunner.tick\u001b[1;34m(self, tasks, reraise, timeout, retry_policy, get_waiter)\u001b[0m\n\u001b[0;32m    229\u001b[0m t \u001b[38;5;241m=\u001b[39m tasks[\u001b[38;5;241m0\u001b[39m]\n\u001b[0;32m    230\u001b[0m \u001b[38;5;28;01mtry\u001b[39;00m:\n\u001b[1;32m--> 231\u001b[0m     \u001b[43mrun_with_retry\u001b[49m\u001b[43m(\u001b[49m\n\u001b[0;32m    232\u001b[0m \u001b[43m        \u001b[49m\u001b[43mt\u001b[49m\u001b[43m,\u001b[49m\n\u001b[0;32m    233\u001b[0m \u001b[43m        \u001b[49m\u001b[43mretry_policy\u001b[49m\u001b[43m,\u001b[49m\n\u001b[0;32m    234\u001b[0m \u001b[43m        \u001b[49m\u001b[43mconfigurable\u001b[49m\u001b[38;5;241;43m=\u001b[39;49m\u001b[43m{\u001b[49m\n\u001b[0;32m    235\u001b[0m \u001b[43m            \u001b[49m\u001b[43mCONFIG_KEY_SEND\u001b[49m\u001b[43m:\u001b[49m\u001b[43m \u001b[49m\u001b[43mpartial\u001b[49m\u001b[43m(\u001b[49m\u001b[43mwriter\u001b[49m\u001b[43m,\u001b[49m\u001b[43m \u001b[49m\u001b[43mt\u001b[49m\u001b[43m)\u001b[49m\u001b[43m,\u001b[49m\n\u001b[0;32m    236\u001b[0m \u001b[43m            \u001b[49m\u001b[43mCONFIG_KEY_CALL\u001b[49m\u001b[43m:\u001b[49m\u001b[43m \u001b[49m\u001b[43mpartial\u001b[49m\u001b[43m(\u001b[49m\u001b[43mcall\u001b[49m\u001b[43m,\u001b[49m\u001b[43m \u001b[49m\u001b[43mt\u001b[49m\u001b[43m)\u001b[49m\u001b[43m,\u001b[49m\n\u001b[0;32m    237\u001b[0m \u001b[43m        \u001b[49m\u001b[43m}\u001b[49m\u001b[43m,\u001b[49m\n\u001b[0;32m    238\u001b[0m \u001b[43m    \u001b[49m\u001b[43m)\u001b[49m\n\u001b[0;32m    239\u001b[0m     \u001b[38;5;28mself\u001b[39m\u001b[38;5;241m.\u001b[39mcommit(t, \u001b[38;5;28;01mNone\u001b[39;00m)\n\u001b[0;32m    240\u001b[0m \u001b[38;5;28;01mexcept\u001b[39;00m \u001b[38;5;167;01mException\u001b[39;00m \u001b[38;5;28;01mas\u001b[39;00m exc:\n",
      "File \u001b[1;32md:\\projects\\intern\\chat-bot\\.venv\\lib\\site-packages\\langgraph\\pregel\\retry.py:40\u001b[0m, in \u001b[0;36mrun_with_retry\u001b[1;34m(task, retry_policy, configurable)\u001b[0m\n\u001b[0;32m     38\u001b[0m     task\u001b[38;5;241m.\u001b[39mwrites\u001b[38;5;241m.\u001b[39mclear()\n\u001b[0;32m     39\u001b[0m     \u001b[38;5;66;03m# run the task\u001b[39;00m\n\u001b[1;32m---> 40\u001b[0m     \u001b[38;5;28;01mreturn\u001b[39;00m \u001b[43mtask\u001b[49m\u001b[38;5;241;43m.\u001b[39;49m\u001b[43mproc\u001b[49m\u001b[38;5;241;43m.\u001b[39;49m\u001b[43minvoke\u001b[49m\u001b[43m(\u001b[49m\u001b[43mtask\u001b[49m\u001b[38;5;241;43m.\u001b[39;49m\u001b[43minput\u001b[49m\u001b[43m,\u001b[49m\u001b[43m \u001b[49m\u001b[43mconfig\u001b[49m\u001b[43m)\u001b[49m\n\u001b[0;32m     41\u001b[0m \u001b[38;5;28;01mexcept\u001b[39;00m ParentCommand \u001b[38;5;28;01mas\u001b[39;00m exc:\n\u001b[0;32m     42\u001b[0m     ns: \u001b[38;5;28mstr\u001b[39m \u001b[38;5;241m=\u001b[39m config[CONF][CONFIG_KEY_CHECKPOINT_NS]\n",
      "File \u001b[1;32md:\\projects\\intern\\chat-bot\\.venv\\lib\\site-packages\\langgraph\\utils\\runnable.py:464\u001b[0m, in \u001b[0;36mRunnableSeq.invoke\u001b[1;34m(self, input, config, **kwargs)\u001b[0m\n\u001b[0;32m    462\u001b[0m             \u001b[38;5;28minput\u001b[39m \u001b[38;5;241m=\u001b[39m step\u001b[38;5;241m.\u001b[39minvoke(\u001b[38;5;28minput\u001b[39m, config, \u001b[38;5;241m*\u001b[39m\u001b[38;5;241m*\u001b[39mkwargs)\n\u001b[0;32m    463\u001b[0m         \u001b[38;5;28;01melse\u001b[39;00m:\n\u001b[1;32m--> 464\u001b[0m             \u001b[38;5;28minput\u001b[39m \u001b[38;5;241m=\u001b[39m \u001b[43mstep\u001b[49m\u001b[38;5;241;43m.\u001b[39;49m\u001b[43minvoke\u001b[49m\u001b[43m(\u001b[49m\u001b[38;5;28;43minput\u001b[39;49m\u001b[43m,\u001b[49m\u001b[43m \u001b[49m\u001b[43mconfig\u001b[49m\u001b[43m)\u001b[49m\n\u001b[0;32m    465\u001b[0m \u001b[38;5;66;03m# finish the root run\u001b[39;00m\n\u001b[0;32m    466\u001b[0m \u001b[38;5;28;01mexcept\u001b[39;00m \u001b[38;5;167;01mBaseException\u001b[39;00m \u001b[38;5;28;01mas\u001b[39;00m e:\n",
      "File \u001b[1;32md:\\projects\\intern\\chat-bot\\.venv\\lib\\site-packages\\langgraph\\utils\\runnable.py:226\u001b[0m, in \u001b[0;36mRunnableCallable.invoke\u001b[1;34m(self, input, config, **kwargs)\u001b[0m\n\u001b[0;32m    224\u001b[0m \u001b[38;5;28;01melse\u001b[39;00m:\n\u001b[0;32m    225\u001b[0m     context\u001b[38;5;241m.\u001b[39mrun(_set_config_context, config)\n\u001b[1;32m--> 226\u001b[0m     ret \u001b[38;5;241m=\u001b[39m context\u001b[38;5;241m.\u001b[39mrun(\u001b[38;5;28mself\u001b[39m\u001b[38;5;241m.\u001b[39mfunc, \u001b[38;5;241m*\u001b[39margs, \u001b[38;5;241m*\u001b[39m\u001b[38;5;241m*\u001b[39mkwargs)\n\u001b[0;32m    227\u001b[0m \u001b[38;5;28;01mif\u001b[39;00m \u001b[38;5;28misinstance\u001b[39m(ret, Runnable) \u001b[38;5;129;01mand\u001b[39;00m \u001b[38;5;28mself\u001b[39m\u001b[38;5;241m.\u001b[39mrecurse:\n\u001b[0;32m    228\u001b[0m     \u001b[38;5;28;01mreturn\u001b[39;00m ret\u001b[38;5;241m.\u001b[39minvoke(\u001b[38;5;28minput\u001b[39m, config)\n",
      "File \u001b[1;32md:\\projects\\intern\\chat-bot\\.venv\\lib\\site-packages\\langgraph\\graph\\graph.py:95\u001b[0m, in \u001b[0;36mBranch._route\u001b[1;34m(self, input, config, reader, writer)\u001b[0m\n\u001b[0;32m     93\u001b[0m \u001b[38;5;28;01melse\u001b[39;00m:\n\u001b[0;32m     94\u001b[0m     value \u001b[38;5;241m=\u001b[39m \u001b[38;5;28minput\u001b[39m\n\u001b[1;32m---> 95\u001b[0m result \u001b[38;5;241m=\u001b[39m \u001b[38;5;28;43mself\u001b[39;49m\u001b[38;5;241;43m.\u001b[39;49m\u001b[43mpath\u001b[49m\u001b[38;5;241;43m.\u001b[39;49m\u001b[43minvoke\u001b[49m\u001b[43m(\u001b[49m\u001b[43mvalue\u001b[49m\u001b[43m,\u001b[49m\u001b[43m \u001b[49m\u001b[43mconfig\u001b[49m\u001b[43m)\u001b[49m\n\u001b[0;32m     96\u001b[0m \u001b[38;5;28;01mreturn\u001b[39;00m \u001b[38;5;28mself\u001b[39m\u001b[38;5;241m.\u001b[39m_finish(writer, \u001b[38;5;28minput\u001b[39m, result, config)\n",
      "File \u001b[1;32md:\\projects\\intern\\chat-bot\\.venv\\lib\\site-packages\\langgraph\\utils\\runnable.py:218\u001b[0m, in \u001b[0;36mRunnableCallable.invoke\u001b[1;34m(self, input, config, **kwargs)\u001b[0m\n\u001b[0;32m    216\u001b[0m     context \u001b[38;5;241m=\u001b[39m copy_context()\n\u001b[0;32m    217\u001b[0m     context\u001b[38;5;241m.\u001b[39mrun(_set_config_context, child_config)\n\u001b[1;32m--> 218\u001b[0m     ret \u001b[38;5;241m=\u001b[39m context\u001b[38;5;241m.\u001b[39mrun(\u001b[38;5;28mself\u001b[39m\u001b[38;5;241m.\u001b[39mfunc, \u001b[38;5;241m*\u001b[39margs, \u001b[38;5;241m*\u001b[39m\u001b[38;5;241m*\u001b[39mkwargs)\n\u001b[0;32m    219\u001b[0m \u001b[38;5;28;01mexcept\u001b[39;00m \u001b[38;5;167;01mBaseException\u001b[39;00m \u001b[38;5;28;01mas\u001b[39;00m e:\n\u001b[0;32m    220\u001b[0m     run_manager\u001b[38;5;241m.\u001b[39mon_chain_error(e)\n",
      "Cell \u001b[1;32mIn[46], line 5\u001b[0m, in \u001b[0;36mroute_to_research\u001b[1;34m(state)\u001b[0m\n\u001b[0;32m      2\u001b[0m initial_message \u001b[38;5;241m=\u001b[39m state[\u001b[38;5;124m\"\u001b[39m\u001b[38;5;124mmessages\u001b[39m\u001b[38;5;124m\"\u001b[39m]\n\u001b[0;32m      3\u001b[0m summary\u001b[38;5;241m=\u001b[39mstate[\u001b[38;5;124m\"\u001b[39m\u001b[38;5;124msummary\u001b[39m\u001b[38;5;124m\"\u001b[39m]\n\u001b[1;32m----> 5\u001b[0m router \u001b[38;5;241m=\u001b[39m \u001b[43mcategory_deciding_llm\u001b[49m\u001b[38;5;241;43m.\u001b[39;49m\u001b[43minvoke\u001b[49m\u001b[43m(\u001b[49m\u001b[38;5;28;43minput\u001b[39;49m\u001b[38;5;241;43m=\u001b[39;49m\u001b[43m{\u001b[49m\u001b[38;5;124;43m\"\u001b[39;49m\u001b[38;5;124;43mmessages\u001b[39;49m\u001b[38;5;124;43m\"\u001b[39;49m\u001b[43m:\u001b[49m\u001b[43m \u001b[49m\u001b[43minitial_message\u001b[49m\u001b[43m,\u001b[49m\u001b[43m \u001b[49m\u001b[38;5;124;43m\"\u001b[39;49m\u001b[38;5;124;43msummary\u001b[39;49m\u001b[38;5;124;43m\"\u001b[39;49m\u001b[43m:\u001b[49m\u001b[43msummary\u001b[49m\u001b[43m \u001b[49m\u001b[43m}\u001b[49m\u001b[43m,\u001b[49m\u001b[43mconfig\u001b[49m\u001b[38;5;241;43m=\u001b[39;49m\u001b[43mconfig\u001b[49m\u001b[43m)\u001b[49m\n\u001b[0;32m      6\u001b[0m \u001b[38;5;66;03m#\u001b[39;00m\n\u001b[0;32m      7\u001b[0m \u001b[38;5;28;01mif\u001b[39;00m router\u001b[38;5;241m.\u001b[39mcontent\u001b[38;5;241m==\u001b[39m \u001b[38;5;124m'\u001b[39m\u001b[38;5;124msql\u001b[39m\u001b[38;5;124m'\u001b[39m:\n",
      "File \u001b[1;32md:\\projects\\intern\\chat-bot\\.venv\\lib\\site-packages\\langchain_core\\runnables\\base.py:3020\u001b[0m, in \u001b[0;36mRunnableSequence.invoke\u001b[1;34m(self, input, config, **kwargs)\u001b[0m\n\u001b[0;32m   3018\u001b[0m context\u001b[38;5;241m.\u001b[39mrun(_set_config_context, config)\n\u001b[0;32m   3019\u001b[0m \u001b[38;5;28;01mif\u001b[39;00m i \u001b[38;5;241m==\u001b[39m \u001b[38;5;241m0\u001b[39m:\n\u001b[1;32m-> 3020\u001b[0m     \u001b[38;5;28minput\u001b[39m \u001b[38;5;241m=\u001b[39m context\u001b[38;5;241m.\u001b[39mrun(step\u001b[38;5;241m.\u001b[39minvoke, \u001b[38;5;28minput\u001b[39m, config, \u001b[38;5;241m*\u001b[39m\u001b[38;5;241m*\u001b[39mkwargs)\n\u001b[0;32m   3021\u001b[0m \u001b[38;5;28;01melse\u001b[39;00m:\n\u001b[0;32m   3022\u001b[0m     \u001b[38;5;28minput\u001b[39m \u001b[38;5;241m=\u001b[39m context\u001b[38;5;241m.\u001b[39mrun(step\u001b[38;5;241m.\u001b[39minvoke, \u001b[38;5;28minput\u001b[39m, config)\n",
      "File \u001b[1;32md:\\projects\\intern\\chat-bot\\.venv\\lib\\site-packages\\langchain_core\\prompts\\base.py:208\u001b[0m, in \u001b[0;36mBasePromptTemplate.invoke\u001b[1;34m(self, input, config, **kwargs)\u001b[0m\n\u001b[0;32m    206\u001b[0m \u001b[38;5;28;01mif\u001b[39;00m \u001b[38;5;28mself\u001b[39m\u001b[38;5;241m.\u001b[39mtags:\n\u001b[0;32m    207\u001b[0m     config[\u001b[38;5;124m\"\u001b[39m\u001b[38;5;124mtags\u001b[39m\u001b[38;5;124m\"\u001b[39m] \u001b[38;5;241m=\u001b[39m config[\u001b[38;5;124m\"\u001b[39m\u001b[38;5;124mtags\u001b[39m\u001b[38;5;124m\"\u001b[39m] \u001b[38;5;241m+\u001b[39m \u001b[38;5;28mself\u001b[39m\u001b[38;5;241m.\u001b[39mtags\n\u001b[1;32m--> 208\u001b[0m \u001b[38;5;28;01mreturn\u001b[39;00m \u001b[38;5;28;43mself\u001b[39;49m\u001b[38;5;241;43m.\u001b[39;49m\u001b[43m_call_with_config\u001b[49m\u001b[43m(\u001b[49m\n\u001b[0;32m    209\u001b[0m \u001b[43m    \u001b[49m\u001b[38;5;28;43mself\u001b[39;49m\u001b[38;5;241;43m.\u001b[39;49m\u001b[43m_format_prompt_with_error_handling\u001b[49m\u001b[43m,\u001b[49m\n\u001b[0;32m    210\u001b[0m \u001b[43m    \u001b[49m\u001b[38;5;28;43minput\u001b[39;49m\u001b[43m,\u001b[49m\n\u001b[0;32m    211\u001b[0m \u001b[43m    \u001b[49m\u001b[43mconfig\u001b[49m\u001b[43m,\u001b[49m\n\u001b[0;32m    212\u001b[0m \u001b[43m    \u001b[49m\u001b[43mrun_type\u001b[49m\u001b[38;5;241;43m=\u001b[39;49m\u001b[38;5;124;43m\"\u001b[39;49m\u001b[38;5;124;43mprompt\u001b[39;49m\u001b[38;5;124;43m\"\u001b[39;49m\u001b[43m,\u001b[49m\n\u001b[0;32m    213\u001b[0m \u001b[43m    \u001b[49m\u001b[43mserialized\u001b[49m\u001b[38;5;241;43m=\u001b[39;49m\u001b[38;5;28;43mself\u001b[39;49m\u001b[38;5;241;43m.\u001b[39;49m\u001b[43m_serialized\u001b[49m\u001b[43m,\u001b[49m\n\u001b[0;32m    214\u001b[0m \u001b[43m\u001b[49m\u001b[43m)\u001b[49m\n",
      "File \u001b[1;32md:\\projects\\intern\\chat-bot\\.venv\\lib\\site-packages\\langchain_core\\runnables\\base.py:1925\u001b[0m, in \u001b[0;36mRunnable._call_with_config\u001b[1;34m(self, func, input, config, run_type, serialized, **kwargs)\u001b[0m\n\u001b[0;32m   1921\u001b[0m     context \u001b[38;5;241m=\u001b[39m copy_context()\n\u001b[0;32m   1922\u001b[0m     context\u001b[38;5;241m.\u001b[39mrun(_set_config_context, child_config)\n\u001b[0;32m   1923\u001b[0m     output \u001b[38;5;241m=\u001b[39m cast(\n\u001b[0;32m   1924\u001b[0m         Output,\n\u001b[1;32m-> 1925\u001b[0m         context\u001b[38;5;241m.\u001b[39mrun(\n\u001b[0;32m   1926\u001b[0m             call_func_with_variable_args,  \u001b[38;5;66;03m# type: ignore[arg-type]\u001b[39;00m\n\u001b[0;32m   1927\u001b[0m             func,  \u001b[38;5;66;03m# type: ignore[arg-type]\u001b[39;00m\n\u001b[0;32m   1928\u001b[0m             \u001b[38;5;28minput\u001b[39m,  \u001b[38;5;66;03m# type: ignore[arg-type]\u001b[39;00m\n\u001b[0;32m   1929\u001b[0m             config,\n\u001b[0;32m   1930\u001b[0m             run_manager,\n\u001b[0;32m   1931\u001b[0m             \u001b[38;5;241m*\u001b[39m\u001b[38;5;241m*\u001b[39mkwargs,\n\u001b[0;32m   1932\u001b[0m         ),\n\u001b[0;32m   1933\u001b[0m     )\n\u001b[0;32m   1934\u001b[0m \u001b[38;5;28;01mexcept\u001b[39;00m \u001b[38;5;167;01mBaseException\u001b[39;00m \u001b[38;5;28;01mas\u001b[39;00m e:\n\u001b[0;32m   1935\u001b[0m     run_manager\u001b[38;5;241m.\u001b[39mon_chain_error(e)\n",
      "File \u001b[1;32md:\\projects\\intern\\chat-bot\\.venv\\lib\\site-packages\\langchain_core\\runnables\\config.py:396\u001b[0m, in \u001b[0;36mcall_func_with_variable_args\u001b[1;34m(func, input, config, run_manager, **kwargs)\u001b[0m\n\u001b[0;32m    394\u001b[0m \u001b[38;5;28;01mif\u001b[39;00m run_manager \u001b[38;5;129;01mis\u001b[39;00m \u001b[38;5;129;01mnot\u001b[39;00m \u001b[38;5;28;01mNone\u001b[39;00m \u001b[38;5;129;01mand\u001b[39;00m accepts_run_manager(func):\n\u001b[0;32m    395\u001b[0m     kwargs[\u001b[38;5;124m\"\u001b[39m\u001b[38;5;124mrun_manager\u001b[39m\u001b[38;5;124m\"\u001b[39m] \u001b[38;5;241m=\u001b[39m run_manager\n\u001b[1;32m--> 396\u001b[0m \u001b[38;5;28;01mreturn\u001b[39;00m func(\u001b[38;5;28minput\u001b[39m, \u001b[38;5;241m*\u001b[39m\u001b[38;5;241m*\u001b[39mkwargs)\n",
      "File \u001b[1;32md:\\projects\\intern\\chat-bot\\.venv\\lib\\site-packages\\langchain_core\\prompts\\base.py:183\u001b[0m, in \u001b[0;36mBasePromptTemplate._format_prompt_with_error_handling\u001b[1;34m(self, inner_input)\u001b[0m\n\u001b[0;32m    181\u001b[0m \u001b[38;5;28;01mdef\u001b[39;00m\u001b[38;5;250m \u001b[39m\u001b[38;5;21m_format_prompt_with_error_handling\u001b[39m(\u001b[38;5;28mself\u001b[39m, inner_input: \u001b[38;5;28mdict\u001b[39m) \u001b[38;5;241m-\u001b[39m\u001b[38;5;241m>\u001b[39m PromptValue:\n\u001b[0;32m    182\u001b[0m     _inner_input \u001b[38;5;241m=\u001b[39m \u001b[38;5;28mself\u001b[39m\u001b[38;5;241m.\u001b[39m_validate_input(inner_input)\n\u001b[1;32m--> 183\u001b[0m     \u001b[38;5;28;01mreturn\u001b[39;00m \u001b[38;5;28mself\u001b[39m\u001b[38;5;241m.\u001b[39mformat_prompt(\u001b[38;5;241m*\u001b[39m\u001b[38;5;241m*\u001b[39m_inner_input)\n",
      "File \u001b[1;32md:\\projects\\intern\\chat-bot\\.venv\\lib\\site-packages\\langchain_core\\prompts\\chat.py:785\u001b[0m, in \u001b[0;36mBaseChatPromptTemplate.format_prompt\u001b[1;34m(self, **kwargs)\u001b[0m\n\u001b[0;32m    776\u001b[0m \u001b[38;5;28;01mdef\u001b[39;00m\u001b[38;5;250m \u001b[39m\u001b[38;5;21mformat_prompt\u001b[39m(\u001b[38;5;28mself\u001b[39m, \u001b[38;5;241m*\u001b[39m\u001b[38;5;241m*\u001b[39mkwargs: Any) \u001b[38;5;241m-\u001b[39m\u001b[38;5;241m>\u001b[39m PromptValue:\n\u001b[0;32m    777\u001b[0m \u001b[38;5;250m    \u001b[39m\u001b[38;5;124;03m\"\"\"Format prompt. Should return a PromptValue.\u001b[39;00m\n\u001b[0;32m    778\u001b[0m \n\u001b[0;32m    779\u001b[0m \u001b[38;5;124;03m    Args:\u001b[39;00m\n\u001b[1;32m   (...)\u001b[0m\n\u001b[0;32m    783\u001b[0m \u001b[38;5;124;03m        PromptValue.\u001b[39;00m\n\u001b[0;32m    784\u001b[0m \u001b[38;5;124;03m    \"\"\"\u001b[39;00m\n\u001b[1;32m--> 785\u001b[0m     messages \u001b[38;5;241m=\u001b[39m \u001b[38;5;28mself\u001b[39m\u001b[38;5;241m.\u001b[39mformat_messages(\u001b[38;5;241m*\u001b[39m\u001b[38;5;241m*\u001b[39mkwargs)\n\u001b[0;32m    786\u001b[0m     \u001b[38;5;28;01mreturn\u001b[39;00m ChatPromptValue(messages\u001b[38;5;241m=\u001b[39mmessages)\n",
      "File \u001b[1;32md:\\projects\\intern\\chat-bot\\.venv\\lib\\site-packages\\langchain_core\\prompts\\chat.py:1228\u001b[0m, in \u001b[0;36mChatPromptTemplate.format_messages\u001b[1;34m(self, **kwargs)\u001b[0m\n\u001b[0;32m   1224\u001b[0m     result\u001b[38;5;241m.\u001b[39mextend([message_template])\n\u001b[0;32m   1225\u001b[0m \u001b[38;5;28;01melif\u001b[39;00m \u001b[38;5;28misinstance\u001b[39m(\n\u001b[0;32m   1226\u001b[0m     message_template, (BaseMessagePromptTemplate, BaseChatPromptTemplate)\n\u001b[0;32m   1227\u001b[0m ):\n\u001b[1;32m-> 1228\u001b[0m     message \u001b[38;5;241m=\u001b[39m message_template\u001b[38;5;241m.\u001b[39mformat_messages(\u001b[38;5;241m*\u001b[39m\u001b[38;5;241m*\u001b[39mkwargs)\n\u001b[0;32m   1229\u001b[0m     result\u001b[38;5;241m.\u001b[39mextend(message)\n\u001b[0;32m   1230\u001b[0m \u001b[38;5;28;01melse\u001b[39;00m:\n",
      "File \u001b[1;32md:\\projects\\intern\\chat-bot\\.venv\\lib\\site-packages\\langchain_core\\prompts\\chat.py:246\u001b[0m, in \u001b[0;36mMessagesPlaceholder.format_messages\u001b[1;34m(self, **kwargs)\u001b[0m\n\u001b[0;32m    241\u001b[0m \u001b[38;5;28;01mif\u001b[39;00m \u001b[38;5;129;01mnot\u001b[39;00m \u001b[38;5;28misinstance\u001b[39m(value, \u001b[38;5;28mlist\u001b[39m):\n\u001b[0;32m    242\u001b[0m     msg \u001b[38;5;241m=\u001b[39m (\n\u001b[0;32m    243\u001b[0m         \u001b[38;5;124mf\u001b[39m\u001b[38;5;124m\"\u001b[39m\u001b[38;5;124mvariable \u001b[39m\u001b[38;5;132;01m{\u001b[39;00m\u001b[38;5;28mself\u001b[39m\u001b[38;5;241m.\u001b[39mvariable_name\u001b[38;5;132;01m}\u001b[39;00m\u001b[38;5;124m should be a list of base messages, \u001b[39m\u001b[38;5;124m\"\u001b[39m\n\u001b[0;32m    244\u001b[0m         \u001b[38;5;124mf\u001b[39m\u001b[38;5;124m\"\u001b[39m\u001b[38;5;124mgot \u001b[39m\u001b[38;5;132;01m{\u001b[39;00mvalue\u001b[38;5;132;01m}\u001b[39;00m\u001b[38;5;124m of type \u001b[39m\u001b[38;5;132;01m{\u001b[39;00m\u001b[38;5;28mtype\u001b[39m(value)\u001b[38;5;132;01m}\u001b[39;00m\u001b[38;5;124m\"\u001b[39m\n\u001b[0;32m    245\u001b[0m     )\n\u001b[1;32m--> 246\u001b[0m     \u001b[38;5;28;01mraise\u001b[39;00m \u001b[38;5;167;01mValueError\u001b[39;00m(msg)\n\u001b[0;32m    247\u001b[0m value \u001b[38;5;241m=\u001b[39m convert_to_messages(value)\n\u001b[0;32m    248\u001b[0m \u001b[38;5;28;01mif\u001b[39;00m \u001b[38;5;28mself\u001b[39m\u001b[38;5;241m.\u001b[39mn_messages:\n",
      "\u001b[1;31mValueError\u001b[0m: variable summary should be a list of base messages, got [''\n\n* The user requested a list of different categories of employees.\n* In response, the user was provided with the schema of the employee table, which included the EmployeeType column.\n* To generate the list of different categories of employees, the following SQL query was executed: \"SELECT DISTINCT EmployeeType FROM employee\".\n* The query returned the following result: [('Manager',), ('Engineer-1',), ('Tester',), ('Engineer-2',), ('Team Lead',)].\n* Therefore, the different categories of employees are Manager, Engineer-1, Tester, Engineer-2, and Team Lead.\n] of type <class 'str'>"
     ]
    }
   ],
   "source": [
    "for event in graph.stream(\n",
    "    {\"messages\": [(\"user\", \"tell my name\")]},config=config\n",
    "):\n",
    "    for key,value in event.items():\n",
    "        print(value[\"messages\"][-1].pretty_print())"
   ]
  },
  {
   "cell_type": "markdown",
   "metadata": {},
   "source": [
    "## Eval"
   ]
  },
  {
   "cell_type": "code",
   "execution_count": null,
   "metadata": {},
   "outputs": [],
   "source": [
    "import uuid \n",
    "_printed = set()\n",
    "thread_id = str(uuid.uuid4())"
   ]
  },
  {
   "cell_type": "code",
   "execution_count": null,
   "metadata": {},
   "outputs": [
    {
     "ename": "NameError",
     "evalue": "name 'thread_id' is not defined",
     "output_type": "error",
     "traceback": [
      "\u001b[1;31m---------------------------------------------------------------------------\u001b[0m",
      "\u001b[1;31mNameError\u001b[0m                                 Traceback (most recent call last)",
      "Cell \u001b[1;32mIn[201], line 1\u001b[0m\n\u001b[1;32m----> 1\u001b[0m \u001b[43mthread_id\u001b[49m\n",
      "\u001b[1;31mNameError\u001b[0m: name 'thread_id' is not defined"
     ]
    }
   ],
   "source": [
    "thread_id"
   ]
  },
  {
   "cell_type": "code",
   "execution_count": 202,
   "metadata": {},
   "outputs": [
    {
     "ename": "NameError",
     "evalue": "name 'thread_id' is not defined",
     "output_type": "error",
     "traceback": [
      "\u001b[1;31m---------------------------------------------------------------------------\u001b[0m",
      "\u001b[1;31mNameError\u001b[0m                                 Traceback (most recent call last)",
      "Cell \u001b[1;32mIn[202], line 4\u001b[0m\n\u001b[0;32m      1\u001b[0m config \u001b[38;5;241m=\u001b[39m {\n\u001b[0;32m      2\u001b[0m     \u001b[38;5;124m\"\u001b[39m\u001b[38;5;124mconfigurable\u001b[39m\u001b[38;5;124m\"\u001b[39m: {\n\u001b[0;32m      3\u001b[0m         \u001b[38;5;66;03m# Checkpoints are accessed by thread_id\u001b[39;00m\n\u001b[1;32m----> 4\u001b[0m         \u001b[38;5;124m\"\u001b[39m\u001b[38;5;124mthread_id\u001b[39m\u001b[38;5;124m\"\u001b[39m: \u001b[43mthread_id\u001b[49m,\n\u001b[0;32m      5\u001b[0m     }\n\u001b[0;32m      6\u001b[0m }\n",
      "\u001b[1;31mNameError\u001b[0m: name 'thread_id' is not defined"
     ]
    }
   ],
   "source": [
    "config = {\n",
    "    \"configurable\": {\n",
    "        # Checkpoints are accessed by thread_id\n",
    "        \"thread_id\": thread_id,\n",
    "    }\n",
    "}"
   ]
  },
  {
   "cell_type": "code",
   "execution_count": 66,
   "metadata": {},
   "outputs": [],
   "source": [
    "questions = [\"Who is the longest-serving employee?\",\n",
    "             \"How many different types of employees are present?\",\n",
    "             \"List the different pay scales of different employees?\",\n",
    "             \"Hi my favourite animale is whale\"]"
   ]
  },
  {
   "cell_type": "code",
   "execution_count": 67,
   "metadata": {},
   "outputs": [
    {
     "data": {
      "text/plain": [
       "'Answer: Mona Young is the longest-serving employee.'"
      ]
     },
     "execution_count": 67,
     "metadata": {},
     "output_type": "execute_result"
    }
   ],
   "source": [
    "msg = {\"messages\": (\"user\", questions[0])}\n",
    "messages = graph.invoke(msg,config)\n",
    "messages['messages'][-1].content"
   ]
  },
  {
   "cell_type": "code",
   "execution_count": 2,
   "metadata": {},
   "outputs": [],
   "source": [
    "!pip freeze > requirements.txt"
   ]
  },
  {
   "cell_type": "code",
   "execution_count": null,
   "metadata": {},
   "outputs": [],
   "source": []
  }
 ],
 "metadata": {
  "kernelspec": {
   "display_name": ".venv",
   "language": "python",
   "name": "python3"
  },
  "language_info": {
   "codemirror_mode": {
    "name": "ipython",
    "version": 3
   },
   "file_extension": ".py",
   "mimetype": "text/x-python",
   "name": "python",
   "nbconvert_exporter": "python",
   "pygments_lexer": "ipython3",
   "version": "3.10.0"
  }
 },
 "nbformat": 4,
 "nbformat_minor": 2
}
