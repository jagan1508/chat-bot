{
 "cells": [
  {
   "cell_type": "code",
   "execution_count": 1,
   "metadata": {},
   "outputs": [
    {
     "name": "stdout",
     "output_type": "stream",
     "text": [
      "hello world\n"
     ]
    }
   ],
   "source": [
    "print(\"hello world\")"
   ]
  },
  {
   "cell_type": "code",
   "execution_count": 2,
   "metadata": {},
   "outputs": [],
   "source": [
    "import getpass\n",
    "import os\n",
    "\n",
    "from dotenv import load_dotenv\n",
    "\n",
    "load_dotenv()\n",
    "\n",
    "def set_env(key: str):\n",
    "  if key not in os.environ:\n",
    "    os.environ[key]=getpass.getpass(f\"{key}:\")\n"
   ]
  },
  {
   "cell_type": "code",
   "execution_count": 3,
   "metadata": {},
   "outputs": [],
   "source": [
    "set_env(\"GROQ_API_KEY\")\n",
    "set_env(\"LANGCHAIN_API_KEY\")\n",
    "os.environ[\"LANGCHAIN_TRACING_V2\"]=\"true\"\n",
    "os.environ[\"LANGCHAIN_PROJECT\"]=\"sql-llm-agent-2\""
   ]
  },
  {
   "cell_type": "code",
   "execution_count": 4,
   "metadata": {},
   "outputs": [],
   "source": [
    "username = \"root\"\n",
    "password = \"jagan2911\"\n",
    "host = 'localhost'\n",
    "database = 'jagandb'"
   ]
  },
  {
   "cell_type": "code",
   "execution_count": 5,
   "metadata": {},
   "outputs": [],
   "source": [
    "from langchain_community.utilities import SQLDatabase\n",
    "import pymysql"
   ]
  },
  {
   "cell_type": "code",
   "execution_count": 6,
   "metadata": {},
   "outputs": [
    {
     "name": "stdout",
     "output_type": "stream",
     "text": [
      "mysql\n",
      "['employee']\n"
     ]
    }
   ],
   "source": [
    "db = SQLDatabase.from_uri(f\"mysql+pymysql://{username}:{password}@{host}/{database}\",sample_rows_in_table_info = 3)\n",
    "print(db.dialect)\n",
    "print(db.get_usable_table_names())"
   ]
  },
  {
   "cell_type": "code",
   "execution_count": 7,
   "metadata": {},
   "outputs": [],
   "source": [
    "from langchain_community.utilities import SQLDatabase\n",
    "from typing import Any\n",
    "from langchain_core.runnables import RunnableWithFallbacks, RunnableLambda\n",
    "from langchain_core.messages import ToolMessage\n",
    "from langgraph.prebuilt import ToolNode"
   ]
  },
  {
   "cell_type": "code",
   "execution_count": 8,
   "metadata": {},
   "outputs": [],
   "source": [
    "QUERY_CHECK_INSTRUCTION = \"\"\"You are a SQL expert with a strong attention to detail.\n",
    "Double check the SQL query for common mistakes, including:\n",
    "- Using NOT IN with NULL values\n",
    "- Using UNION when UNION ALL should have been used\n",
    "- Using BETWEEN for exclusive ranges\n",
    "- Data type mismatch in predicates\n",
    "- Properly quoting identifiers\n",
    "- Using the correct number of arguments for functions\n",
    "- Casting to the correct data type\n",
    "- Using the proper columns for joins\n",
    "\n",
    "If there are any of the above mistakes, rewrite the query. If there are no mistakes, just reproduce the original query.\n",
    "\n",
    "You will call the appropriate tool to execute the query after running this check.\"\"\"\n",
    "\n",
    "\n",
    "QUERY_GEN_INSTRUCTION = \"\"\"You are a SQL expert with exceptional attention to detail. Your task is to analyze user requests, interpret SQL query results, and provide appropriate responses. Follow these instructions:\n",
    "\n",
    "Identify Key Components: Carefully analyze the user's message to determine:\n",
    "\n",
    "The user question.\n",
    "The provided table schemas.\n",
    "Any SQL query statements.\n",
    "The query result or error (if applicable).\n",
    "Handle Missing Queries: If no query result is available to answer the user's question:\n",
    "\n",
    "Construct a syntactically correct SQL query to address the user question.\n",
    "Do not perform any DML operations (e.g., INSERT, UPDATE, DELETE, DROP).\n",
    "Respond only with the SQL query statement.\n",
    "Example:\n",
    "SELECT id, name FROM pets;\n",
    "Handle Query Errors: If a query was executed but resulted in an error:\n",
    "\n",
    "Respond by repeating the exact error message.\n",
    "Example:\n",
    "\"Error: Pets table doesn't exist\"\n",
    "Interpret Results: If a query was executed successfully and returned results:\n",
    "\n",
    "Interpret the results to answer the user's question.\n",
    "Respond in the format: Answer: <<question answer>>\n",
    "Example:\n",
    "\"Answer: There are three cats registered as adopted.\"\n",
    "Instructions:\n",
    "Apply these steps to handle user queries effectively. Your primary focus is to ensure correctness, clarity, and precision in your responses.\n",
    "\"\"\""
   ]
  },
  {
   "cell_type": "code",
   "execution_count": 9,
   "metadata": {},
   "outputs": [],
   "source": [
    "from langgraph.checkpoint.memory import MemorySaver\n",
    "memory = MemorySaver()\n",
    "config = {\"configurable\": {\"thread_id\": \"1\"}}"
   ]
  },
  {
   "cell_type": "code",
   "execution_count": 11,
   "metadata": {},
   "outputs": [],
   "source": [
    "def create_tool_node_with_fallback(tools:list)-> RunnableWithFallbacks[Any,dict]:\n",
    "    return ToolNode(tools).with_fallbacks(\n",
    "        [RunnableLambda(handle_tool_error)],exception_key=\"error\"\n",
    "    )\n",
    "def handle_tool_error(state)->dict:\n",
    "    error=state.get(\"error\")\n",
    "    tool_calls=state[\"messages\"][-1].tool_calls\n",
    "    return {\n",
    "        \"messages\":[ToolMessage(\n",
    "            content=f\"Error:{repr(error)}\\n Fix your code and try again. \",\n",
    "            tool_call_id=tc[\"id\"],\n",
    "        )\n",
    "         for tc in tool_calls          \n",
    "        ]\n",
    "    }   "
   ]
  },
  {
   "cell_type": "code",
   "execution_count": 12,
   "metadata": {},
   "outputs": [],
   "source": [
    "from langchain_community.agent_toolkits import SQLDatabaseToolkit\n",
    "from langchain_core.tools import tool\n",
    "from pydantic import BaseModel, Field\n",
    "from langchain_groq import ChatGroq\n",
    "from langchain_core.prompts import ChatPromptTemplate"
   ]
  },
  {
   "cell_type": "code",
   "execution_count": 13,
   "metadata": {},
   "outputs": [],
   "source": [
    "toolkit= SQLDatabaseToolkit(db=db, llm=ChatGroq(model=\"llama-3.3-70b-specdec\"))\n",
    "tools= toolkit.get_tools()"
   ]
  },
  {
   "cell_type": "code",
   "execution_count": 14,
   "metadata": {},
   "outputs": [
    {
     "name": "stdout",
     "output_type": "stream",
     "text": [
      "employee\n",
      "\n",
      "CREATE TABLE employee (\n",
      "\t`EmployeeID` INTEGER NOT NULL, \n",
      "\t`EmployeeName` VARCHAR(255) NOT NULL, \n",
      "\t`DateOfJoining` DATE NOT NULL, \n",
      "\t`EmployeeType` VARCHAR(255), \n",
      "\t`PayTier` VARCHAR(255), \n",
      "\tPRIMARY KEY (`EmployeeID`)\n",
      ")ENGINE=InnoDB DEFAULT CHARSET=utf8mb4 COLLATE utf8mb4_0900_ai_ci\n",
      "\n",
      "/*\n",
      "3 rows from employee table:\n",
      "EmployeeID\tEmployeeName\tDateOfJoining\tEmployeeType\tPayTier\n",
      "1\tJohn Doe\t2023-01-15\tManager\tTier 1\n",
      "2\tJane Smith\t2022-06-01\tEngineer-1\tTier 3\n",
      "3\tAlice Johnson\t2021-09-12\tTester\tTier 4\n",
      "*/\n"
     ]
    }
   ],
   "source": [
    "toolkit= SQLDatabaseToolkit(db=db, llm=ChatGroq(model=\"llama-3.3-70b-specdec\"))\n",
    "tools= toolkit.get_tools()\n",
    "list_tables_tool=next(tool for tool in tools if tool.name==\"sql_db_list_tables\")    \n",
    "get_schema_tool=next(tool for tool in tools if tool.name==\"sql_db_schema\")\n",
    "\n",
    "print(list_tables_tool.invoke(\"\"))\n",
    "print(get_schema_tool.invoke(\"employee\"))"
   ]
  },
  {
   "cell_type": "code",
   "execution_count": 15,
   "metadata": {},
   "outputs": [
    {
     "name": "stdout",
     "output_type": "stream",
     "text": [
      "sql_db_query\n",
      "sql_db_schema\n",
      "sql_db_list_tables\n",
      "sql_db_query_checker\n"
     ]
    }
   ],
   "source": [
    "for tool in tools:\n",
    "    print(tool.name)"
   ]
  },
  {
   "cell_type": "code",
   "execution_count": 16,
   "metadata": {},
   "outputs": [],
   "source": [
    "from langchain_core.tools import tool\n",
    "\n",
    "@tool\n",
    "def db_query_tool(query:str)->str:\n",
    "    \"\"\"Executes an sql query against the database and gets back \n",
    "    the result. If query is not correct an error message is returned.\n",
    "\n",
    "    Args:\n",
    "        query (str): A valid sql query string\n",
    "\n",
    "    Returns:\n",
    "        str: The result of the query if present or an error message\n",
    "    \"\"\"\n",
    "    try:\n",
    "        result=db.run_no_throw(query)\n",
    "        if not result:\n",
    "            return \"Error: Query failed to return anything. Try again.\"\n",
    "        return result\n",
    "    except Exception as e:\n",
    "        return f\"Error: {str(e)}. Please check your query again.\""
   ]
  },
  {
   "cell_type": "code",
   "execution_count": 17,
   "metadata": {},
   "outputs": [
    {
     "name": "stdout",
     "output_type": "stream",
     "text": [
      "[(1, 'John Doe', datetime.date(2023, 1, 15), 'Manager', 'Tier 1'), (2, 'Jane Smith', datetime.date(2022, 6, 1), 'Engineer-1', 'Tier 3'), (3, 'Alice Johnson', datetime.date(2021, 9, 12), 'Tester', 'Tier 4'), (4, 'Bob Brown', datetime.date(2020, 3, 23), 'Engineer-2', 'Tier 2'), (5, 'Charlie Davis', datetime.date(2023, 7, 8), 'Team Lead', 'Tier 1'), (6, 'Eve Martin', datetime.date(2019, 11, 5), 'Engineer-1', 'Tier 3'), (7, 'Frank White', datetime.date(2022, 2, 17), 'Tester', 'Tier 4'), (8, 'Grace Green', datetime.date(2021, 8, 30), 'Manager', 'Tier 1'), (9, 'Hank Lee', datetime.date(2020, 12, 19), 'Engineer-2', 'Tier 2'), (10, 'Ivy Wilson', datetime.date(2023, 3, 11), 'Team Lead', 'Tier 1'), (11, 'Jack Black', datetime.date(2022, 5, 25), 'Engineer-1', 'Tier 3'), (12, 'Karen Scott', datetime.date(2021, 7, 14), 'Tester', 'Tier 4'), (13, 'Larry Adams', datetime.date(2020, 9, 1), 'Engineer-2', 'Tier 2'), (14, 'Mona Young', datetime.date(2019, 4, 22), 'Manager', 'Tier 1'), (15, 'Nate King', datetime.date(2023, 10, 10), 'Team Lead', 'Tier 1'), (16, 'Olivia Perry', datetime.date(2023, 2, 10), 'Manager', 'Tier 1'), (17, 'Liam Gray', datetime.date(2022, 11, 15), 'Engineer-1', 'Tier 3'), (18, 'Sophia Reed', datetime.date(2021, 5, 20), 'Engineer-2', 'Tier 2'), (19, 'James Ward', datetime.date(2020, 8, 10), 'Tester', 'Tier 4'), (20, 'Charlotte Hall', datetime.date(2023, 6, 25), 'Team Lead', 'Tier 1'), (21, 'Benjamin Lewis', datetime.date(2022, 1, 13), 'Manager', 'Tier 1'), (22, 'Amelia Foster', datetime.date(2021, 10, 30), 'Engineer-1', 'Tier 3'), (23, 'Ethan Scott', datetime.date(2020, 4, 19), 'Engineer-2', 'Tier 2'), (24, 'Isabella Clark', datetime.date(2019, 9, 1), 'Tester', 'Tier 4'), (25, 'Lucas King', datetime.date(2023, 3, 14), 'Team Lead', 'Tier 1'), (26, 'Mia Lopez', datetime.date(2022, 7, 20), 'Manager', 'Tier 1'), (27, 'Noah Adams', datetime.date(2021, 2, 28), 'Engineer-1', 'Tier 3'), (28, 'Emma Turner', datetime.date(2020, 12, 9), 'Engineer-2', 'Tier 2'), (29, 'Ava Martin', datetime.date(2023, 5, 22), 'Tester', 'Tier 4'), (30, 'Oliver Davis', datetime.date(2022, 8, 11), 'Team Lead', 'Tier 1'), (31, 'Harper Wilson', datetime.date(2021, 3, 17), 'Manager', 'Tier 1'), (32, 'Elijah Robinson', datetime.date(2020, 6, 8), 'Engineer-1', 'Tier 3'), (33, 'Abigail Carter', datetime.date(2019, 11, 5), 'Engineer-2', 'Tier 2'), (34, 'Henry Mitchell', datetime.date(2023, 1, 9), 'Tester', 'Tier 4'), (35, 'Emily Perez', datetime.date(2022, 4, 29), 'Team Lead', 'Tier 1'), (36, 'Ella Morgan', datetime.date(2021, 8, 27), 'Manager', 'Tier 1'), (37, 'Jackson Kelly', datetime.date(2020, 2, 14), 'Engineer-1', 'Tier 3'), (38, 'Chloe White', datetime.date(2019, 5, 19), 'Engineer-2', 'Tier 2'), (39, 'William Harris', datetime.date(2023, 9, 7), 'Tester', 'Tier 4'), (40, 'Sofia Baker', datetime.date(2022, 10, 12), 'Team Lead', 'Tier 1'), (41, 'Aiden Rivera', datetime.date(2021, 11, 3), 'Manager', 'Tier 1'), (42, 'Grace Torres', datetime.date(2020, 7, 25), 'Engineer-1', 'Tier 3'), (43, 'Ella Foster', datetime.date(2019, 12, 31), 'Engineer-2', 'Tier 2'), (44, 'Daniel Gonzalez', datetime.date(2023, 4, 18), 'Tester', 'Tier 4'), (45, 'Victoria Ramirez', datetime.date(2022, 3, 22), 'Team Lead', 'Tier 1'), (46, 'Matthew Powell', datetime.date(2021, 1, 16), 'Manager', 'Tier 1'), (47, 'Scarlett Bennett', datetime.date(2020, 9, 29), 'Engineer-1', 'Tier 3'), (48, 'Avery Sanders', datetime.date(2019, 6, 7), 'Engineer-2', 'Tier 2'), (49, 'Levi Jenkins', datetime.date(2023, 8, 21), 'Tester', 'Tier 4'), (50, 'Eleanor Ross', datetime.date(2022, 2, 6), 'Team Lead', 'Tier 1')]\n",
      "Error: (pymysql.err.ProgrammingError) (1146, \"Table 'jagandb.employeeee' doesn't exist\")\n",
      "[SQL: SELECT * FROM employeeee]\n",
      "(Background on this error at: https://sqlalche.me/e/20/f405)\n",
      "Error: Query failed to return anything. Try again.\n"
     ]
    }
   ],
   "source": [
    "print(db_query_tool.invoke(\"SELECT * FROM employee\"))\n",
    "print(db_query_tool.invoke(\"SELECT * FROM employeeee\"))\n",
    "print(db_query_tool.invoke(\"SELECT * FROM employee where PayTier = 100\"))"
   ]
  },
  {
   "cell_type": "code",
   "execution_count": 18,
   "metadata": {},
   "outputs": [],
   "source": [
    "query_check_prompt=ChatPromptTemplate.from_messages([(\"system\",QUERY_CHECK_INSTRUCTION),(\"placeholder\",\"{messages}\")])"
   ]
  },
  {
   "cell_type": "code",
   "execution_count": 19,
   "metadata": {},
   "outputs": [
    {
     "name": "stdout",
     "output_type": "stream",
     "text": [
      "================================\u001b[1m System Message \u001b[0m================================\n",
      "\n",
      "You are a SQL expert with a strong attention to detail.\n",
      "Double check the SQL query for common mistakes, including:\n",
      "- Using NOT IN with NULL values\n",
      "- Using UNION when UNION ALL should have been used\n",
      "- Using BETWEEN for exclusive ranges\n",
      "- Data type mismatch in predicates\n",
      "- Properly quoting identifiers\n",
      "- Using the correct number of arguments for functions\n",
      "- Casting to the correct data type\n",
      "- Using the proper columns for joins\n",
      "\n",
      "If there are any of the above mistakes, rewrite the query. If there are no mistakes, just reproduce the original query.\n",
      "\n",
      "You will call the appropriate tool to execute the query after running this check.\n",
      "\n",
      "=============================\u001b[1m Messages Placeholder \u001b[0m=============================\n",
      "\n",
      "\u001b[33;1m\u001b[1;3m{messages}\u001b[0m\n"
     ]
    }
   ],
   "source": [
    "query_check_prompt.pretty_print()"
   ]
  },
  {
   "cell_type": "code",
   "execution_count": 20,
   "metadata": {},
   "outputs": [],
   "source": [
    "query_checker=query_check_prompt | ChatGroq(model=\"llama-3.3-70b-specdec\",temperature=0).bind_tools([db_query_tool],tool_choice=\"required\")\n"
   ]
  },
  {
   "cell_type": "code",
   "execution_count": null,
   "metadata": {},
   "outputs": [],
   "source": []
  },
  {
   "cell_type": "code",
   "execution_count": 21,
   "metadata": {},
   "outputs": [],
   "source": [
    "query_gen_prompt=ChatPromptTemplate.from_messages([(\"system\",QUERY_GEN_INSTRUCTION),(\"placeholder\",\"{messages}\")])\n",
    "query_gen_chain=query_gen_prompt | ChatGroq(model=\"llama-3.3-70b-specdec\")\n"
   ]
  },
  {
   "cell_type": "code",
   "execution_count": 22,
   "metadata": {},
   "outputs": [
    {
     "name": "stdout",
     "output_type": "stream",
     "text": [
      "================================\u001b[1m System Message \u001b[0m================================\n",
      "\n",
      "You are a SQL expert with exceptional attention to detail. Your task is to analyze user requests, interpret SQL query results, and provide appropriate responses. Follow these instructions:\n",
      "\n",
      "Identify Key Components: Carefully analyze the user's message to determine:\n",
      "\n",
      "The user question.\n",
      "The provided table schemas.\n",
      "Any SQL query statements.\n",
      "The query result or error (if applicable).\n",
      "Handle Missing Queries: If no query result is available to answer the user's question:\n",
      "\n",
      "Construct a syntactically correct SQL query to address the user question.\n",
      "Do not perform any DML operations (e.g., INSERT, UPDATE, DELETE, DROP).\n",
      "Respond only with the SQL query statement.\n",
      "Example:\n",
      "SELECT id, name FROM pets;\n",
      "Handle Query Errors: If a query was executed but resulted in an error:\n",
      "\n",
      "Respond by repeating the exact error message.\n",
      "Example:\n",
      "\"Error: Pets table doesn't exist\"\n",
      "Interpret Results: If a query was executed successfully and returned results:\n",
      "\n",
      "Interpret the results to answer the user's question.\n",
      "Respond in the format: Answer: <<question answer>>\n",
      "Example:\n",
      "\"Answer: There are three cats registered as adopted.\"\n",
      "Instructions:\n",
      "Apply these steps to handle user queries effectively. Your primary focus is to ensure correctness, clarity, and precision in your responses.\n",
      "\n",
      "\n",
      "=============================\u001b[1m Messages Placeholder \u001b[0m=============================\n",
      "\n",
      "\u001b[33;1m\u001b[1;3m{messages}\u001b[0m\n"
     ]
    }
   ],
   "source": [
    "query_gen_prompt.pretty_print()"
   ]
  },
  {
   "cell_type": "code",
   "execution_count": 23,
   "metadata": {},
   "outputs": [],
   "source": [
    "from typing import Annotated, Literal\n",
    "from langchain_core.messages import AIMessage,HumanMessage,RemoveMessage\n",
    "from pydantic import BaseModel, Field\n",
    "from typing_extensions import TypedDict\n",
    "from langgraph.graph import START,END,StateGraph, MessagesState"
   ]
  },
  {
   "cell_type": "code",
   "execution_count": 24,
   "metadata": {},
   "outputs": [],
   "source": [
    "class State(MessagesState):\n",
    "    pass"
   ]
  },
  {
   "cell_type": "code",
   "execution_count": 25,
   "metadata": {},
   "outputs": [],
   "source": [
    "list_tables = create_tool_node_with_fallback([list_tables_tool])\n",
    "\n",
    "get_schema_tool_with_fallback = create_tool_node_with_fallback([get_schema_tool])\n",
    "\n",
    "execute_query = create_tool_node_with_fallback([db_query_tool])\n"
   ]
  },
  {
   "cell_type": "code",
   "execution_count": 26,
   "metadata": {},
   "outputs": [],
   "source": [
    "def first_tool_call(state:State) ->dict[str,list[AIMessage]]:\n",
    "    tool_call={\"name\":\"sql_db_list_tables\",\n",
    "               \"args\":{},\n",
    "               \"id\":\"tool_abcd123\"}\n",
    "    return {\"messages\":[AIMessage(\n",
    "        content='',\n",
    "        tool_calls=[tool_call])]}\n"
   ]
  },
  {
   "cell_type": "code",
   "execution_count": 28,
   "metadata": {},
   "outputs": [],
   "source": [
    "def model_check_query(state:State)->dict[str,list[AIMessage]]:\n",
    "    return {\"messages\": [query_checker.invoke({\"messages\": [state[\"messages\"][-1]]},config)]}\n",
    "\n"
   ]
  },
  {
   "cell_type": "code",
   "execution_count": 27,
   "metadata": {},
   "outputs": [],
   "source": [
    "def model_get_schema(state:State):\n",
    "    model_get_schema=ChatGroq(model=\"llama-3.3-70b-specdec\",temperature=0).bind_tools([get_schema_tool])\n",
    "    return {\n",
    "        \"messages\":[model_get_schema.invoke(state[\"messages\"],config)]\n",
    "    }\n",
    "def query_gen_node(state:State):\n",
    "    message=query_gen_chain.invoke(state)\n",
    "    return {\"messages\":[message]}"
   ]
  },
  {
   "cell_type": "code",
   "execution_count": 29,
   "metadata": {},
   "outputs": [],
   "source": [
    "def should_continue(state:State)-> Literal[END,\"correct_query\",\"query_gen\"]:\n",
    "    messages=state[\"messages\"]\n",
    "    last_message=messages[-1]\n",
    "    if last_message.content.startswith(\"Answer:\"):\n",
    "        return END\n",
    "    if last_message.content.startswith(\"Error:\"):\n",
    "        return \"query_gen\"\n",
    "    else:\n",
    "        return \"correct_query\""
   ]
  },
  {
   "cell_type": "code",
   "execution_count": 167,
   "metadata": {},
   "outputs": [],
   "source": []
  },
  {
   "cell_type": "code",
   "execution_count": 30,
   "metadata": {},
   "outputs": [],
   "source": [
    "from IPython.display import display, Image\n",
    "from langchain_core.runnables.graph import MermaidDrawMethod"
   ]
  },
  {
   "cell_type": "code",
   "execution_count": 31,
   "metadata": {},
   "outputs": [
    {
     "data": {
      "text/plain": [
       "<langgraph.graph.state.StateGraph at 0x21169c76890>"
      ]
     },
     "execution_count": 31,
     "metadata": {},
     "output_type": "execute_result"
    }
   ],
   "source": [
    "builder=StateGraph(State)\n",
    "builder.add_node(\"first_tool_call\",first_tool_call)\n",
    "builder.add_node(\"list_tables\",list_tables)\n",
    "builder.add_node(\"get_schema_tool\",get_schema_tool_with_fallback)\n",
    "builder.add_node(\"model_get_schema\",model_get_schema)\n",
    "builder.add_node(\"query_gen\",query_gen_node)\n",
    "builder.add_node(\"correct_query\",model_check_query)\n",
    "builder.add_node(\"execute_query\",execute_query)\n"
   ]
  },
  {
   "cell_type": "code",
   "execution_count": 32,
   "metadata": {},
   "outputs": [
    {
     "data": {
      "text/plain": [
       "<langgraph.graph.state.StateGraph at 0x21169c76890>"
      ]
     },
     "execution_count": 32,
     "metadata": {},
     "output_type": "execute_result"
    }
   ],
   "source": [
    "builder.add_edge(START, \"first_tool_call\")\n",
    "builder.add_edge(\"first_tool_call\", \"list_tables\")\n",
    "builder.add_edge(\"list_tables\", \"model_get_schema\")\n",
    "builder.add_edge(\"model_get_schema\", \"get_schema_tool\")\n",
    "builder.add_edge(\"get_schema_tool\", \"query_gen\")\n",
    "builder.add_conditional_edges(\"query_gen\", should_continue)\n",
    "builder.add_edge(\"correct_query\", \"execute_query\")\n",
    "builder.add_edge(\"execute_query\", \"query_gen\")\n"
   ]
  },
  {
   "cell_type": "code",
   "execution_count": 33,
   "metadata": {},
   "outputs": [],
   "source": [
    "graph=builder.compile()\n",
    "react_graph_memory = builder.compile(checkpointer=memory)"
   ]
  },
  {
   "cell_type": "code",
   "execution_count": 68,
   "metadata": {},
   "outputs": [
    {
     "data": {
      "image/png": "[encoded data removed]",
      "text/plain": [
       "<IPython.core.display.Image object>"
      ]
     },
     "metadata": {},
     "output_type": "display_data"
    }
   ],
   "source": [
    "display(Image(graph.get_graph().draw_mermaid_png(draw_method=MermaidDrawMethod.API,)))"
   ]
  },
  {
   "cell_type": "code",
   "execution_count": 69,
   "metadata": {},
   "outputs": [
    {
     "name": "stdout",
     "output_type": "stream",
     "text": [
      "{'first_tool_call': {'messages': [AIMessage(content='', additional_kwargs={}, response_metadata={}, id='17142afc-207e-4aa6-9e5b-3254686d25c3', tool_calls=[{'name': 'sql_db_list_tables', 'args': {}, 'id': 'tool_abcd123', 'type': 'tool_call'}])]}}\n",
      "\n",
      "\n",
      "{'list_tables': {'messages': [ToolMessage(content='employee', name='sql_db_list_tables', id='ca2367f0-871d-4579-b3ba-f5419bbf743d', tool_call_id='tool_abcd123')]}}\n",
      "\n",
      "\n",
      "{'model_get_schema': {'messages': [AIMessage(content='', additional_kwargs={'tool_calls': [{'id': 'call_w5k1', 'function': {'arguments': '{\"table_names\": \"employee\"}', 'name': 'sql_db_schema'}, 'type': 'function'}]}, response_metadata={'token_usage': {'completion_tokens': 17, 'prompt_tokens': 365, 'total_tokens': 382, 'completion_time': 0.011973966, 'prompt_time': 0.044182634, 'queue_time': 0.054200002, 'total_time': 0.0561566}, 'model_name': 'llama-3.3-70b-specdec', 'system_fingerprint': 'fp_74379b522c', 'finish_reason': 'tool_calls', 'logprobs': None}, id='run-4f216586-55ba-4ce1-af91-054a020ad90d-0', tool_calls=[{'name': 'sql_db_schema', 'args': {'table_names': 'employee'}, 'id': 'call_w5k1', 'type': 'tool_call'}], usage_metadata={'input_tokens': 365, 'output_tokens': 17, 'total_tokens': 382})]}}\n",
      "\n",
      "\n",
      "{'get_schema_tool': {'messages': [ToolMessage(content='\\nCREATE TABLE employee (\\n\\t`EmployeeID` INTEGER NOT NULL, \\n\\t`EmployeeName` VARCHAR(255) NOT NULL, \\n\\t`DateOfJoining` DATE NOT NULL, \\n\\t`EmployeeType` VARCHAR(255), \\n\\t`PayTier` VARCHAR(255), \\n\\tPRIMARY KEY (`EmployeeID`)\\n)ENGINE=InnoDB COLLATE utf8mb4_0900_ai_ci DEFAULT CHARSET=utf8mb4\\n\\n/*\\n3 rows from employee table:\\nEmployeeID\\tEmployeeName\\tDateOfJoining\\tEmployeeType\\tPayTier\\n1\\tJohn Doe\\t2023-01-15\\tManager\\tTier 1\\n2\\tJane Smith\\t2022-06-01\\tEngineer-1\\tTier 3\\n3\\tAlice Johnson\\t2021-09-12\\tTester\\tTier 4\\n*/', name='sql_db_schema', id='22bf96fa-fb0b-4908-9348-16abdc22cfb1', tool_call_id='call_w5k1')]}}\n",
      "\n",
      "\n",
      "{'query_gen': {'messages': [AIMessage(content=\"SELECT COUNT(EmployeeID) FROM employee WHERE PayTier = 'Tier 1'\", additional_kwargs={}, response_metadata={'token_usage': {'completion_tokens': 17, 'prompt_tokens': 512, 'total_tokens': 529, 'completion_time': 0.010706506, 'prompt_time': 0.061832655, 'queue_time': 0.053353690999999995, 'total_time': 0.072539161}, 'model_name': 'llama-3.3-70b-specdec', 'system_fingerprint': 'fp_74379b522c', 'finish_reason': 'stop', 'logprobs': None}, id='run-2a758268-20d4-4e95-8e1c-6c51e06146b3-0', usage_metadata={'input_tokens': 512, 'output_tokens': 17, 'total_tokens': 529})]}}\n",
      "\n",
      "\n",
      "{'correct_query': {'messages': [AIMessage(content='', additional_kwargs={'tool_calls': [{'id': 'call_9te0', 'function': {'arguments': '{\"query\": \"SELECT COUNT(EmployeeID) FROM employee WHERE PayTier = \\'Tier 1\\'\"}', 'name': 'db_query_tool'}, 'type': 'function'}]}, response_metadata={'token_usage': {'completion_tokens': 27, 'prompt_tokens': 485, 'total_tokens': 512, 'completion_time': 0.012921889, 'prompt_time': 0.05856154, 'queue_time': 0.055131465, 'total_time': 0.071483429}, 'model_name': 'llama-3.3-70b-specdec', 'system_fingerprint': 'fp_74379b522c', 'finish_reason': 'tool_calls', 'logprobs': None}, id='run-19b384af-a626-4009-83f5-bbd16e497e29-0', tool_calls=[{'name': 'db_query_tool', 'args': {'query': \"SELECT COUNT(EmployeeID) FROM employee WHERE PayTier = 'Tier 1'\"}, 'id': 'call_9te0', 'type': 'tool_call'}], usage_metadata={'input_tokens': 485, 'output_tokens': 27, 'total_tokens': 512})]}}\n",
      "\n",
      "\n",
      "{'execute_query': {'messages': [ToolMessage(content='[(20,)]', name='db_query_tool', id='19a579e6-8877-4788-a693-fbb125443488', tool_call_id='call_9te0')]}}\n",
      "\n",
      "\n",
      "{'query_gen': {'messages': [AIMessage(content='Answer: There are 20 tier 1 employees present.', additional_kwargs={}, response_metadata={'token_usage': {'completion_tokens': 13, 'prompt_tokens': 576, 'total_tokens': 589, 'completion_time': 0.007884358, 'prompt_time': 0.069647524, 'queue_time': 0.053342961999999994, 'total_time': 0.077531882}, 'model_name': 'llama-3.3-70b-specdec', 'system_fingerprint': 'fp_74379b522c', 'finish_reason': 'stop', 'logprobs': None}, id='run-59e2260d-0586-4957-9943-a443ce5cd05d-0', usage_metadata={'input_tokens': 576, 'output_tokens': 13, 'total_tokens': 589})]}}\n",
      "\n",
      "\n"
     ]
    }
   ],
   "source": [
    "for event in graph.stream(\n",
    "    {\"messages\": [(\"user\", \"How many tier 1 employees are present?\")]}\n",
    "):\n",
    "    print(f\"{event}\\n\\n\")"
   ]
  },
  {
   "cell_type": "code",
   "execution_count": 38,
   "metadata": {},
   "outputs": [
    {
     "data": {
      "text/plain": [
       "'Answer: There are 20 tier 1 employees present.'"
      ]
     },
     "execution_count": 38,
     "metadata": {},
     "output_type": "execute_result"
    }
   ],
   "source": [
    "event[\"query_gen\"][\"messages\"][-1].content"
   ]
  },
  {
   "cell_type": "code",
   "execution_count": 72,
   "metadata": {},
   "outputs": [
    {
     "name": "stdout",
     "output_type": "stream",
     "text": [
      "{'first_tool_call': {'messages': [AIMessage(content='', additional_kwargs={}, response_metadata={}, id='75fcfd1f-a5de-49ed-be40-606ae3c3492f', tool_calls=[{'name': 'sql_db_list_tables', 'args': {}, 'id': 'tool_abcd123', 'type': 'tool_call'}])]}}\n",
      "\n",
      "\n",
      "{'list_tables': {'messages': [ToolMessage(content='employee', name='sql_db_list_tables', id='0b7853ee-a851-40b2-a72d-9edaffcf24db', tool_call_id='tool_abcd123')]}}\n",
      "\n",
      "\n",
      "{'model_get_schema': {'messages': [AIMessage(content='', additional_kwargs={'tool_calls': [{'id': 'call_dch7', 'function': {'arguments': '{\"table_names\": \"employee\"}', 'name': 'sql_db_schema'}, 'type': 'function'}]}, response_metadata={'token_usage': {'completion_tokens': 17, 'prompt_tokens': 366, 'total_tokens': 383, 'completion_time': 0.010361608, 'prompt_time': 0.044234813, 'queue_time': 0.054328213, 'total_time': 0.054596421}, 'model_name': 'llama-3.3-70b-specdec', 'system_fingerprint': 'fp_74379b522c', 'finish_reason': 'tool_calls', 'logprobs': None}, id='run-af7d72cc-d4c1-4549-8d1b-a61733339c7e-0', tool_calls=[{'name': 'sql_db_schema', 'args': {'table_names': 'employee'}, 'id': 'call_dch7', 'type': 'tool_call'}], usage_metadata={'input_tokens': 366, 'output_tokens': 17, 'total_tokens': 383})]}}\n",
      "\n",
      "\n",
      "{'get_schema_tool': {'messages': [ToolMessage(content='\\nCREATE TABLE employee (\\n\\t`EmployeeID` INTEGER NOT NULL, \\n\\t`EmployeeName` VARCHAR(255) NOT NULL, \\n\\t`DateOfJoining` DATE NOT NULL, \\n\\t`EmployeeType` VARCHAR(255), \\n\\t`PayTier` VARCHAR(255), \\n\\tPRIMARY KEY (`EmployeeID`)\\n)ENGINE=InnoDB COLLATE utf8mb4_0900_ai_ci DEFAULT CHARSET=utf8mb4\\n\\n/*\\n3 rows from employee table:\\nEmployeeID\\tEmployeeName\\tDateOfJoining\\tEmployeeType\\tPayTier\\n1\\tJohn Doe\\t2023-01-15\\tManager\\tTier 1\\n2\\tJane Smith\\t2022-06-01\\tEngineer-1\\tTier 3\\n3\\tAlice Johnson\\t2021-09-12\\tTester\\tTier 4\\n*/', name='sql_db_schema', id='6dd09e9d-3db0-459a-af49-0652b158f793', tool_call_id='call_dch7')]}}\n",
      "\n",
      "\n",
      "{'query_gen': {'messages': [AIMessage(content='SELECT EmployeeType, COUNT(*) as count \\nFROM employee \\nGROUP BY EmployeeType \\nORDER BY count DESC \\nLIMIT 1;', additional_kwargs={}, response_metadata={'token_usage': {'completion_tokens': 27, 'prompt_tokens': 513, 'total_tokens': 540, 'completion_time': 0.022707251, 'prompt_time': 0.061937324, 'queue_time': 0.053369891, 'total_time': 0.084644575}, 'model_name': 'llama-3.3-70b-specdec', 'system_fingerprint': 'fp_74379b522c', 'finish_reason': 'stop', 'logprobs': None}, id='run-d98fe5cd-48cf-4b57-be4f-c3541148816c-0', usage_metadata={'input_tokens': 513, 'output_tokens': 27, 'total_tokens': 540})]}}\n",
      "\n",
      "\n",
      "{'correct_query': {'messages': [AIMessage(content='', additional_kwargs={'tool_calls': [{'id': 'call_1cyb', 'function': {'arguments': '{\"query\": \"SELECT EmployeeType, COUNT(*) as count FROM employee GROUP BY EmployeeType ORDER BY count DESC LIMIT 1\"}', 'name': 'db_query_tool'}, 'type': 'function'}]}, response_metadata={'token_usage': {'completion_tokens': 33, 'prompt_tokens': 495, 'total_tokens': 528, 'completion_time': 0.014311878, 'prompt_time': 0.05980973, 'queue_time': 0.054772314999999995, 'total_time': 0.074121608}, 'model_name': 'llama-3.3-70b-specdec', 'system_fingerprint': 'fp_74379b522c', 'finish_reason': 'tool_calls', 'logprobs': None}, id='run-e24f8b0b-c98b-4bc7-8571-a94a53a99ec1-0', tool_calls=[{'name': 'db_query_tool', 'args': {'query': 'SELECT EmployeeType, COUNT(*) as count FROM employee GROUP BY EmployeeType ORDER BY count DESC LIMIT 1'}, 'id': 'call_1cyb', 'type': 'tool_call'}], usage_metadata={'input_tokens': 495, 'output_tokens': 33, 'total_tokens': 528})]}}\n",
      "\n",
      "\n",
      "{'execute_query': {'messages': [ToolMessage(content=\"[('Manager', 10)]\", name='db_query_tool', id='159ed666-49b9-491c-bcc4-49a5215f9b48', tool_call_id='call_1cyb')]}}\n",
      "\n",
      "\n",
      "{'query_gen': {'messages': [AIMessage(content='Answer: The most common job role is Manager.', additional_kwargs={}, response_metadata={'token_usage': {'completion_tokens': 11, 'prompt_tokens': 596, 'total_tokens': 607, 'completion_time': 0.009453936, 'prompt_time': 0.072130344, 'queue_time': 0.05506742099999999, 'total_time': 0.08158428}, 'model_name': 'llama-3.3-70b-specdec', 'system_fingerprint': 'fp_74379b522c', 'finish_reason': 'stop', 'logprobs': None}, id='run-55e34bb0-ef69-41af-acc1-2abf0653436d-0', usage_metadata={'input_tokens': 596, 'output_tokens': 11, 'total_tokens': 607})]}}\n",
      "\n",
      "\n"
     ]
    }
   ],
   "source": [
    "for event in graph.stream(\n",
    "    {\"messages\": [(\"user\", \"From those what is the most common job role?\")]}\n",
    "):\n",
    "    print(f\"{event}\\n\\n\")"
   ]
  },
  {
   "cell_type": "code",
   "execution_count": 84,
   "metadata": {},
   "outputs": [],
   "source": [
    "messages=graph.invoke(\n",
    "    {\"messages\": [(\"user\", \"what are they?\")]}\n",
    ")"
   ]
  },
  {
   "cell_type": "code",
   "execution_count": 85,
   "metadata": {},
   "outputs": [
    {
     "data": {
      "text/plain": [
       "'Answer: There are 50 employees in the employee table.'"
      ]
     },
     "execution_count": 85,
     "metadata": {},
     "output_type": "execute_result"
    }
   ],
   "source": [
    "messages[\"messages\"][-1].content"
   ]
  },
  {
   "cell_type": "code",
   "execution_count": null,
   "metadata": {},
   "outputs": [],
   "source": []
  }
 ],
 "metadata": {
  "kernelspec": {
   "display_name": ".venv",
   "language": "python",
   "name": "python3"
  },
  "language_info": {
   "codemirror_mode": {
    "name": "ipython",
    "version": 3
   },
   "file_extension": ".py",
   "mimetype": "text/x-python",
   "name": "python",
   "nbconvert_exporter": "python",
   "pygments_lexer": "ipython3",
   "version": "3.10.0"
  }
 },
 "nbformat": 4,
 "nbformat_minor": 2
}
